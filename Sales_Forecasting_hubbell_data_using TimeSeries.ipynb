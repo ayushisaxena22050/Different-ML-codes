{
 "cells": [
  {
   "cell_type": "markdown",
   "metadata": {},
   "source": [
    "## Sales Forecasting:\n",
    "Sales forecasting is a process which enables a business to predict future sales.\n",
    "Here,we have to predict sales of a particular Product given from a ProductClass and ProductLine it belongs and Region from where it was sold.\n",
    "we have following features :\n",
    "## 1.ABCIndicator:\n",
    "Procedure for determining the importance of an object; it is used to classify objects according to specific criteria or key figures.\n",
    "\n",
    "It allows you to put the objects into common groupings by dividing them into the following areas:\n",
    "\n",
    "A: Important\n",
    "B: Less important\n",
    "C: Relatively unimportant\n",
    "ABC analysis is used in SAP NetWeaver Business Intelligence.\n",
    "## 2.Month:\n",
    "month on which it is sold.\n",
    "## 3.ProductClassDesc:\n",
    "It is the category from which a product belongs to.\n",
    "## 4.ProductLineDesc:\n",
    "It is the subcategory of product class.\n",
    "## 5.SalesDistrictDesc\n",
    "It is the region to which product is sold.\n",
    "## 6.Shippable_$\n",
    "Total revenue generated from the product for a particular month.\n",
    "## 7. Year\n",
    "year on which product is sold.\n",
    "\n"
   ]
  },
  {
   "cell_type": "code",
   "execution_count": 153,
   "metadata": {},
   "outputs": [],
   "source": [
    "#Import required Libraries\n",
    "import pandas as pd\n",
    "import numpy as np\n",
    "import matplotlib.pylab as plt\n",
    "%matplotlib inline\n",
    "from matplotlib.pylab import rcParams\n",
    "import statsmodels\n",
    "from statsmodels.tsa.stattools import adfuller\n",
    "import statsmodels.api as sm #For Dickey-Fuller Test\n",
    "from sklearn.preprocessing import LabelEncoder\n",
    "from sklearn.preprocessing import OneHotEncoder\n",
    "from sklearn.model_selection import train_test_split\n",
    "rcParams['figure.figsize'] = 15, 6"
   ]
  },
  {
   "cell_type": "code",
   "execution_count": 154,
   "metadata": {},
   "outputs": [
    {
     "data": {
      "text/html": [
       "<div>\n",
       "<style scoped>\n",
       "    .dataframe tbody tr th:only-of-type {\n",
       "        vertical-align: middle;\n",
       "    }\n",
       "\n",
       "    .dataframe tbody tr th {\n",
       "        vertical-align: top;\n",
       "    }\n",
       "\n",
       "    .dataframe thead th {\n",
       "        text-align: right;\n",
       "    }\n",
       "</style>\n",
       "<table border=\"1\" class=\"dataframe\">\n",
       "  <thead>\n",
       "    <tr style=\"text-align: right;\">\n",
       "      <th></th>\n",
       "      <th>ABCIndicator</th>\n",
       "      <th>Month</th>\n",
       "      <th>ProductClassDesc</th>\n",
       "      <th>ProductLineDesc</th>\n",
       "      <th>SalesDistrictDesc</th>\n",
       "      <th>Shippable_$</th>\n",
       "      <th>Year</th>\n",
       "    </tr>\n",
       "  </thead>\n",
       "  <tbody>\n",
       "    <tr>\n",
       "      <th>0</th>\n",
       "      <td>P</td>\n",
       "      <td>1</td>\n",
       "      <td>Underground</td>\n",
       "      <td>Enclosures &amp; Drains</td>\n",
       "      <td>West Region</td>\n",
       "      <td>590.05</td>\n",
       "      <td>2017</td>\n",
       "    </tr>\n",
       "    <tr>\n",
       "      <th>1</th>\n",
       "      <td>P</td>\n",
       "      <td>1</td>\n",
       "      <td>Fiberglass Construction</td>\n",
       "      <td>Safety Products</td>\n",
       "      <td>Communication - West</td>\n",
       "      <td>0.00</td>\n",
       "      <td>2017</td>\n",
       "    </tr>\n",
       "    <tr>\n",
       "      <th>2</th>\n",
       "      <td>C</td>\n",
       "      <td>1</td>\n",
       "      <td>Fiberglass Construction</td>\n",
       "      <td>Safety Products</td>\n",
       "      <td>Communication - West</td>\n",
       "      <td>0.00</td>\n",
       "      <td>2017</td>\n",
       "    </tr>\n",
       "    <tr>\n",
       "      <th>3</th>\n",
       "      <td>A</td>\n",
       "      <td>1</td>\n",
       "      <td>Fiberglass Construction</td>\n",
       "      <td>Safety Products</td>\n",
       "      <td>Communication - West</td>\n",
       "      <td>435.77</td>\n",
       "      <td>2017</td>\n",
       "    </tr>\n",
       "    <tr>\n",
       "      <th>4</th>\n",
       "      <td>B</td>\n",
       "      <td>1</td>\n",
       "      <td>Fiberglass Construction</td>\n",
       "      <td>Safety Products</td>\n",
       "      <td>Communication - East</td>\n",
       "      <td>0.00</td>\n",
       "      <td>2017</td>\n",
       "    </tr>\n",
       "  </tbody>\n",
       "</table>\n",
       "</div>"
      ],
      "text/plain": [
       "  ABCIndicator  Month         ProductClassDesc      ProductLineDesc  \\\n",
       "0            P      1              Underground  Enclosures & Drains   \n",
       "1            P      1  Fiberglass Construction      Safety Products   \n",
       "2            C      1  Fiberglass Construction      Safety Products   \n",
       "3            A      1  Fiberglass Construction      Safety Products   \n",
       "4            B      1  Fiberglass Construction      Safety Products   \n",
       "\n",
       "      SalesDistrictDesc  Shippable_$  Year  \n",
       "0           West Region       590.05  2017  \n",
       "1  Communication - West         0.00  2017  \n",
       "2  Communication - West         0.00  2017  \n",
       "3  Communication - West       435.77  2017  \n",
       "4  Communication - East         0.00  2017  "
      ]
     },
     "execution_count": 154,
     "metadata": {},
     "output_type": "execute_result"
    }
   ],
   "source": [
    "#Reading a csv file\n",
    "df=pd.read_csv('shippable_revenue_forecasting.csv')\n",
    "df.head()"
   ]
  },
  {
   "cell_type": "code",
   "execution_count": 155,
   "metadata": {},
   "outputs": [
    {
     "data": {
      "text/plain": [
       "Index(['ABCIndicator', 'Month', 'ProductClassDesc', 'ProductLineDesc',\n",
       "       'SalesDistrictDesc', 'Shippable_$', 'Year'],\n",
       "      dtype='object')"
      ]
     },
     "execution_count": 155,
     "metadata": {},
     "output_type": "execute_result"
    }
   ],
   "source": [
    "df.columns"
   ]
  },
  {
   "cell_type": "code",
   "execution_count": 156,
   "metadata": {},
   "outputs": [
    {
     "data": {
      "text/plain": [
       "(31593, 7)"
      ]
     },
     "execution_count": 156,
     "metadata": {},
     "output_type": "execute_result"
    }
   ],
   "source": [
    "train=df[1:round(len(df)*0.9)]  #here we can't use random train test split because this is time series data ,so we need values sequentially\n",
    "train.shape"
   ]
  },
  {
   "cell_type": "code",
   "execution_count": 157,
   "metadata": {},
   "outputs": [
    {
     "data": {
      "text/plain": [
       "(3511, 7)"
      ]
     },
     "execution_count": 157,
     "metadata": {},
     "output_type": "execute_result"
    }
   ],
   "source": [
    "test=df[31593:]\n",
    "test.shape"
   ]
  },
  {
   "cell_type": "code",
   "execution_count": 158,
   "metadata": {},
   "outputs": [],
   "source": [
    "#Making a copy, to protect original data\n",
    "train_original = train.copy()\n",
    "test_original =test.copy()"
   ]
  },
  {
   "cell_type": "code",
   "execution_count": 143,
   "metadata": {},
   "outputs": [],
   "source": [
    "# #we need to aggregate this data as this have subcategories also.\n",
    "# g1=train.groupby(['Year','Month','SalesDistrictDesc','ProductLineDesc','ProductClassDesc'])['Shippable_$'].sum()\n",
    "# g2=pd.DataFrame(g1.reset_index(name = \"Shippable_$\"))\n",
    "# arrester_values=g2[g2['ProductLineDesc']=='Arresters']['Shippable_$']"
   ]
  },
  {
   "cell_type": "markdown",
   "metadata": {},
   "source": [
    "# Hypothesis Generation\n",
    "1.Shippable(revenue) is dependent on time.\n",
    "\n",
    "2.It is possible that a particular product generate more revenue in a particular month.\n",
    "\n",
    "3.ABCIndicator indicates a state , so it is possible that shippable will depend on it.\n",
    "\n",
    "4.More shippable from a particular product line. \n"
   ]
  },
  {
   "cell_type": "code",
   "execution_count": 144,
   "metadata": {},
   "outputs": [
    {
     "data": {
      "text/plain": [
       "<matplotlib.axes._subplots.AxesSubplot at 0x7f4b1caa9da0>"
      ]
     },
     "execution_count": 144,
     "metadata": {},
     "output_type": "execute_result"
    },
    {
     "data": {
      "image/png": "[encoded data removed]",
      "text/plain": [
       "<Figure size 1080x432 with 1 Axes>"
      ]
     },
     "metadata": {
      "needs_background": "light"
     },
     "output_type": "display_data"
    }
   ],
   "source": [
    "train.groupby('Month')['Shippable_$'].mean().plot.bar()"
   ]
  },
  {
   "cell_type": "markdown",
   "metadata": {},
   "source": [
    "We can't infer anything from this graph as it is not showing any pattern.Let's make it time series and try it in another way"
   ]
  },
  {
   "cell_type": "code",
   "execution_count": 159,
   "metadata": {},
   "outputs": [],
   "source": [
    "train=train.loc[train.ProductClassDesc!='#'] #Removing # values\n",
    "test = test.loc[test.ProductClassDesc!='#'] "
   ]
  },
  {
   "cell_type": "code",
   "execution_count": 160,
   "metadata": {},
   "outputs": [
    {
     "data": {
      "text/plain": [
       "ABCIndicator         0\n",
       "Month                0\n",
       "ProductClassDesc     0\n",
       "ProductLineDesc      0\n",
       "SalesDistrictDesc    0\n",
       "Shippable_$          0\n",
       "Year                 0\n",
       "dtype: int64"
      ]
     },
     "execution_count": 160,
     "metadata": {},
     "output_type": "execute_result"
    }
   ],
   "source": [
    "train.isnull().sum()# No Missing Values"
   ]
  },
  {
   "cell_type": "code",
   "execution_count": 161,
   "metadata": {},
   "outputs": [
    {
     "data": {
      "text/html": [
       "<div>\n",
       "<style scoped>\n",
       "    .dataframe tbody tr th:only-of-type {\n",
       "        vertical-align: middle;\n",
       "    }\n",
       "\n",
       "    .dataframe tbody tr th {\n",
       "        vertical-align: top;\n",
       "    }\n",
       "\n",
       "    .dataframe thead th {\n",
       "        text-align: right;\n",
       "    }\n",
       "</style>\n",
       "<table border=\"1\" class=\"dataframe\">\n",
       "  <thead>\n",
       "    <tr style=\"text-align: right;\">\n",
       "      <th></th>\n",
       "      <th>ABCIndicator</th>\n",
       "      <th>Month</th>\n",
       "      <th>ProductClassDesc</th>\n",
       "      <th>ProductLineDesc</th>\n",
       "      <th>SalesDistrictDesc</th>\n",
       "      <th>Shippable_$</th>\n",
       "      <th>Year</th>\n",
       "    </tr>\n",
       "  </thead>\n",
       "  <tbody>\n",
       "    <tr>\n",
       "      <th>1</th>\n",
       "      <td>P</td>\n",
       "      <td>1</td>\n",
       "      <td>Fiberglass Construction</td>\n",
       "      <td>Safety Products</td>\n",
       "      <td>Communication - West</td>\n",
       "      <td>0.00</td>\n",
       "      <td>2017</td>\n",
       "    </tr>\n",
       "    <tr>\n",
       "      <th>2</th>\n",
       "      <td>C</td>\n",
       "      <td>1</td>\n",
       "      <td>Fiberglass Construction</td>\n",
       "      <td>Safety Products</td>\n",
       "      <td>Communication - West</td>\n",
       "      <td>0.00</td>\n",
       "      <td>2017</td>\n",
       "    </tr>\n",
       "    <tr>\n",
       "      <th>3</th>\n",
       "      <td>A</td>\n",
       "      <td>1</td>\n",
       "      <td>Fiberglass Construction</td>\n",
       "      <td>Safety Products</td>\n",
       "      <td>Communication - West</td>\n",
       "      <td>435.77</td>\n",
       "      <td>2017</td>\n",
       "    </tr>\n",
       "    <tr>\n",
       "      <th>4</th>\n",
       "      <td>B</td>\n",
       "      <td>1</td>\n",
       "      <td>Fiberglass Construction</td>\n",
       "      <td>Safety Products</td>\n",
       "      <td>Communication - East</td>\n",
       "      <td>0.00</td>\n",
       "      <td>2017</td>\n",
       "    </tr>\n",
       "    <tr>\n",
       "      <th>5</th>\n",
       "      <td>A</td>\n",
       "      <td>1</td>\n",
       "      <td>Fiberglass Construction</td>\n",
       "      <td>Safety Products</td>\n",
       "      <td>Communication - East</td>\n",
       "      <td>1055.10</td>\n",
       "      <td>2017</td>\n",
       "    </tr>\n",
       "  </tbody>\n",
       "</table>\n",
       "</div>"
      ],
      "text/plain": [
       "  ABCIndicator  Month         ProductClassDesc  ProductLineDesc  \\\n",
       "1            P      1  Fiberglass Construction  Safety Products   \n",
       "2            C      1  Fiberglass Construction  Safety Products   \n",
       "3            A      1  Fiberglass Construction  Safety Products   \n",
       "4            B      1  Fiberglass Construction  Safety Products   \n",
       "5            A      1  Fiberglass Construction  Safety Products   \n",
       "\n",
       "      SalesDistrictDesc  Shippable_$  Year  \n",
       "1  Communication - West         0.00  2017  \n",
       "2  Communication - West         0.00  2017  \n",
       "3  Communication - West       435.77  2017  \n",
       "4  Communication - East         0.00  2017  \n",
       "5  Communication - East      1055.10  2017  "
      ]
     },
     "execution_count": 161,
     "metadata": {},
     "output_type": "execute_result"
    }
   ],
   "source": [
    "train.head()# Need to combine Year and Month to make this data ,datatime data."
   ]
  },
  {
   "cell_type": "code",
   "execution_count": 165,
   "metadata": {},
   "outputs": [],
   "source": [
    "def combine(a,b):\n",
    "    date=str(a)+\"-\"+str(b)\n",
    "    return date\n",
    "\n",
    "train['Date']=train[['Month','Year']].apply(lambda x:combine(x.Month,x.Year),axis=1)\n",
    "test['Date']=test[['Month','Year']].apply(lambda x:combine(x.Month,x.Year),axis=1)\n",
    "dateparse = lambda Dates: pd.datetime.strptime(Dates, '%m-%Y')"
   ]
  },
  {
   "cell_type": "code",
   "execution_count": 166,
   "metadata": {},
   "outputs": [
    {
     "data": {
      "text/html": [
       "<div>\n",
       "<style scoped>\n",
       "    .dataframe tbody tr th:only-of-type {\n",
       "        vertical-align: middle;\n",
       "    }\n",
       "\n",
       "    .dataframe tbody tr th {\n",
       "        vertical-align: top;\n",
       "    }\n",
       "\n",
       "    .dataframe thead th {\n",
       "        text-align: right;\n",
       "    }\n",
       "</style>\n",
       "<table border=\"1\" class=\"dataframe\">\n",
       "  <thead>\n",
       "    <tr style=\"text-align: right;\">\n",
       "      <th></th>\n",
       "      <th>ABCIndicator</th>\n",
       "      <th>Month</th>\n",
       "      <th>ProductClassDesc</th>\n",
       "      <th>ProductLineDesc</th>\n",
       "      <th>SalesDistrictDesc</th>\n",
       "      <th>Shippable_$</th>\n",
       "      <th>Year</th>\n",
       "      <th>Date</th>\n",
       "    </tr>\n",
       "  </thead>\n",
       "  <tbody>\n",
       "    <tr>\n",
       "      <th>1</th>\n",
       "      <td>P</td>\n",
       "      <td>1</td>\n",
       "      <td>Fiberglass Construction</td>\n",
       "      <td>Safety Products</td>\n",
       "      <td>Communication - West</td>\n",
       "      <td>0.00</td>\n",
       "      <td>2017</td>\n",
       "      <td>1-2017</td>\n",
       "    </tr>\n",
       "    <tr>\n",
       "      <th>2</th>\n",
       "      <td>C</td>\n",
       "      <td>1</td>\n",
       "      <td>Fiberglass Construction</td>\n",
       "      <td>Safety Products</td>\n",
       "      <td>Communication - West</td>\n",
       "      <td>0.00</td>\n",
       "      <td>2017</td>\n",
       "      <td>1-2017</td>\n",
       "    </tr>\n",
       "    <tr>\n",
       "      <th>3</th>\n",
       "      <td>A</td>\n",
       "      <td>1</td>\n",
       "      <td>Fiberglass Construction</td>\n",
       "      <td>Safety Products</td>\n",
       "      <td>Communication - West</td>\n",
       "      <td>435.77</td>\n",
       "      <td>2017</td>\n",
       "      <td>1-2017</td>\n",
       "    </tr>\n",
       "    <tr>\n",
       "      <th>4</th>\n",
       "      <td>B</td>\n",
       "      <td>1</td>\n",
       "      <td>Fiberglass Construction</td>\n",
       "      <td>Safety Products</td>\n",
       "      <td>Communication - East</td>\n",
       "      <td>0.00</td>\n",
       "      <td>2017</td>\n",
       "      <td>1-2017</td>\n",
       "    </tr>\n",
       "    <tr>\n",
       "      <th>5</th>\n",
       "      <td>A</td>\n",
       "      <td>1</td>\n",
       "      <td>Fiberglass Construction</td>\n",
       "      <td>Safety Products</td>\n",
       "      <td>Communication - East</td>\n",
       "      <td>1055.10</td>\n",
       "      <td>2017</td>\n",
       "      <td>1-2017</td>\n",
       "    </tr>\n",
       "  </tbody>\n",
       "</table>\n",
       "</div>"
      ],
      "text/plain": [
       "  ABCIndicator  Month         ProductClassDesc  ProductLineDesc  \\\n",
       "1            P      1  Fiberglass Construction  Safety Products   \n",
       "2            C      1  Fiberglass Construction  Safety Products   \n",
       "3            A      1  Fiberglass Construction  Safety Products   \n",
       "4            B      1  Fiberglass Construction  Safety Products   \n",
       "5            A      1  Fiberglass Construction  Safety Products   \n",
       "\n",
       "      SalesDistrictDesc  Shippable_$  Year    Date  \n",
       "1  Communication - West         0.00  2017  1-2017  \n",
       "2  Communication - West         0.00  2017  1-2017  \n",
       "3  Communication - West       435.77  2017  1-2017  \n",
       "4  Communication - East         0.00  2017  1-2017  \n",
       "5  Communication - East      1055.10  2017  1-2017  "
      ]
     },
     "execution_count": 166,
     "metadata": {},
     "output_type": "execute_result"
    }
   ],
   "source": [
    "train.head()"
   ]
  },
  {
   "cell_type": "code",
   "execution_count": 167,
   "metadata": {},
   "outputs": [],
   "source": [
    "train['Date']=train['Date'].apply(lambda x:dateparse(x))\n",
    "test['Date'] =test['Date'].apply(lambda x:dateparse(x))"
   ]
  },
  {
   "cell_type": "code",
   "execution_count": 168,
   "metadata": {},
   "outputs": [
    {
     "data": {
      "text/html": [
       "<div>\n",
       "<style scoped>\n",
       "    .dataframe tbody tr th:only-of-type {\n",
       "        vertical-align: middle;\n",
       "    }\n",
       "\n",
       "    .dataframe tbody tr th {\n",
       "        vertical-align: top;\n",
       "    }\n",
       "\n",
       "    .dataframe thead th {\n",
       "        text-align: right;\n",
       "    }\n",
       "</style>\n",
       "<table border=\"1\" class=\"dataframe\">\n",
       "  <thead>\n",
       "    <tr style=\"text-align: right;\">\n",
       "      <th></th>\n",
       "      <th>ABCIndicator</th>\n",
       "      <th>Month</th>\n",
       "      <th>ProductClassDesc</th>\n",
       "      <th>ProductLineDesc</th>\n",
       "      <th>SalesDistrictDesc</th>\n",
       "      <th>Shippable_$</th>\n",
       "      <th>Year</th>\n",
       "      <th>Date</th>\n",
       "    </tr>\n",
       "  </thead>\n",
       "  <tbody>\n",
       "    <tr>\n",
       "      <th>1</th>\n",
       "      <td>P</td>\n",
       "      <td>1</td>\n",
       "      <td>Fiberglass Construction</td>\n",
       "      <td>Safety Products</td>\n",
       "      <td>Communication - West</td>\n",
       "      <td>0.00</td>\n",
       "      <td>2017</td>\n",
       "      <td>2017-01-01</td>\n",
       "    </tr>\n",
       "    <tr>\n",
       "      <th>2</th>\n",
       "      <td>C</td>\n",
       "      <td>1</td>\n",
       "      <td>Fiberglass Construction</td>\n",
       "      <td>Safety Products</td>\n",
       "      <td>Communication - West</td>\n",
       "      <td>0.00</td>\n",
       "      <td>2017</td>\n",
       "      <td>2017-01-01</td>\n",
       "    </tr>\n",
       "    <tr>\n",
       "      <th>3</th>\n",
       "      <td>A</td>\n",
       "      <td>1</td>\n",
       "      <td>Fiberglass Construction</td>\n",
       "      <td>Safety Products</td>\n",
       "      <td>Communication - West</td>\n",
       "      <td>435.77</td>\n",
       "      <td>2017</td>\n",
       "      <td>2017-01-01</td>\n",
       "    </tr>\n",
       "    <tr>\n",
       "      <th>4</th>\n",
       "      <td>B</td>\n",
       "      <td>1</td>\n",
       "      <td>Fiberglass Construction</td>\n",
       "      <td>Safety Products</td>\n",
       "      <td>Communication - East</td>\n",
       "      <td>0.00</td>\n",
       "      <td>2017</td>\n",
       "      <td>2017-01-01</td>\n",
       "    </tr>\n",
       "    <tr>\n",
       "      <th>5</th>\n",
       "      <td>A</td>\n",
       "      <td>1</td>\n",
       "      <td>Fiberglass Construction</td>\n",
       "      <td>Safety Products</td>\n",
       "      <td>Communication - East</td>\n",
       "      <td>1055.10</td>\n",
       "      <td>2017</td>\n",
       "      <td>2017-01-01</td>\n",
       "    </tr>\n",
       "  </tbody>\n",
       "</table>\n",
       "</div>"
      ],
      "text/plain": [
       "  ABCIndicator  Month         ProductClassDesc  ProductLineDesc  \\\n",
       "1            P      1  Fiberglass Construction  Safety Products   \n",
       "2            C      1  Fiberglass Construction  Safety Products   \n",
       "3            A      1  Fiberglass Construction  Safety Products   \n",
       "4            B      1  Fiberglass Construction  Safety Products   \n",
       "5            A      1  Fiberglass Construction  Safety Products   \n",
       "\n",
       "      SalesDistrictDesc  Shippable_$  Year       Date  \n",
       "1  Communication - West         0.00  2017 2017-01-01  \n",
       "2  Communication - West         0.00  2017 2017-01-01  \n",
       "3  Communication - West       435.77  2017 2017-01-01  \n",
       "4  Communication - East         0.00  2017 2017-01-01  \n",
       "5  Communication - East      1055.10  2017 2017-01-01  "
      ]
     },
     "execution_count": 168,
     "metadata": {},
     "output_type": "execute_result"
    }
   ],
   "source": [
    "train.head()# Now we have a Datetime column date, we can remove Month and Year column"
   ]
  },
  {
   "cell_type": "code",
   "execution_count": 169,
   "metadata": {},
   "outputs": [],
   "source": [
    "train.index=train['Date'] #Making Date column as index column\n",
    "test.index=test['Date']"
   ]
  },
  {
   "cell_type": "code",
   "execution_count": 170,
   "metadata": {},
   "outputs": [
    {
     "data": {
      "text/html": [
       "<div>\n",
       "<style scoped>\n",
       "    .dataframe tbody tr th:only-of-type {\n",
       "        vertical-align: middle;\n",
       "    }\n",
       "\n",
       "    .dataframe tbody tr th {\n",
       "        vertical-align: top;\n",
       "    }\n",
       "\n",
       "    .dataframe thead th {\n",
       "        text-align: right;\n",
       "    }\n",
       "</style>\n",
       "<table border=\"1\" class=\"dataframe\">\n",
       "  <thead>\n",
       "    <tr style=\"text-align: right;\">\n",
       "      <th></th>\n",
       "      <th>ABCIndicator</th>\n",
       "      <th>Month</th>\n",
       "      <th>ProductClassDesc</th>\n",
       "      <th>ProductLineDesc</th>\n",
       "      <th>SalesDistrictDesc</th>\n",
       "      <th>Shippable_$</th>\n",
       "      <th>Year</th>\n",
       "      <th>Date</th>\n",
       "    </tr>\n",
       "    <tr>\n",
       "      <th>Date</th>\n",
       "      <th></th>\n",
       "      <th></th>\n",
       "      <th></th>\n",
       "      <th></th>\n",
       "      <th></th>\n",
       "      <th></th>\n",
       "      <th></th>\n",
       "      <th></th>\n",
       "    </tr>\n",
       "  </thead>\n",
       "  <tbody>\n",
       "    <tr>\n",
       "      <th>2017-01-01</th>\n",
       "      <td>P</td>\n",
       "      <td>1</td>\n",
       "      <td>Fiberglass Construction</td>\n",
       "      <td>Safety Products</td>\n",
       "      <td>Communication - West</td>\n",
       "      <td>0.00</td>\n",
       "      <td>2017</td>\n",
       "      <td>2017-01-01</td>\n",
       "    </tr>\n",
       "    <tr>\n",
       "      <th>2017-01-01</th>\n",
       "      <td>C</td>\n",
       "      <td>1</td>\n",
       "      <td>Fiberglass Construction</td>\n",
       "      <td>Safety Products</td>\n",
       "      <td>Communication - West</td>\n",
       "      <td>0.00</td>\n",
       "      <td>2017</td>\n",
       "      <td>2017-01-01</td>\n",
       "    </tr>\n",
       "    <tr>\n",
       "      <th>2017-01-01</th>\n",
       "      <td>A</td>\n",
       "      <td>1</td>\n",
       "      <td>Fiberglass Construction</td>\n",
       "      <td>Safety Products</td>\n",
       "      <td>Communication - West</td>\n",
       "      <td>435.77</td>\n",
       "      <td>2017</td>\n",
       "      <td>2017-01-01</td>\n",
       "    </tr>\n",
       "    <tr>\n",
       "      <th>2017-01-01</th>\n",
       "      <td>B</td>\n",
       "      <td>1</td>\n",
       "      <td>Fiberglass Construction</td>\n",
       "      <td>Safety Products</td>\n",
       "      <td>Communication - East</td>\n",
       "      <td>0.00</td>\n",
       "      <td>2017</td>\n",
       "      <td>2017-01-01</td>\n",
       "    </tr>\n",
       "    <tr>\n",
       "      <th>2017-01-01</th>\n",
       "      <td>A</td>\n",
       "      <td>1</td>\n",
       "      <td>Fiberglass Construction</td>\n",
       "      <td>Safety Products</td>\n",
       "      <td>Communication - East</td>\n",
       "      <td>1055.10</td>\n",
       "      <td>2017</td>\n",
       "      <td>2017-01-01</td>\n",
       "    </tr>\n",
       "  </tbody>\n",
       "</table>\n",
       "</div>"
      ],
      "text/plain": [
       "           ABCIndicator  Month         ProductClassDesc  ProductLineDesc  \\\n",
       "Date                                                                       \n",
       "2017-01-01            P      1  Fiberglass Construction  Safety Products   \n",
       "2017-01-01            C      1  Fiberglass Construction  Safety Products   \n",
       "2017-01-01            A      1  Fiberglass Construction  Safety Products   \n",
       "2017-01-01            B      1  Fiberglass Construction  Safety Products   \n",
       "2017-01-01            A      1  Fiberglass Construction  Safety Products   \n",
       "\n",
       "               SalesDistrictDesc  Shippable_$  Year       Date  \n",
       "Date                                                            \n",
       "2017-01-01  Communication - West         0.00  2017 2017-01-01  \n",
       "2017-01-01  Communication - West         0.00  2017 2017-01-01  \n",
       "2017-01-01  Communication - West       435.77  2017 2017-01-01  \n",
       "2017-01-01  Communication - East         0.00  2017 2017-01-01  \n",
       "2017-01-01  Communication - East      1055.10  2017 2017-01-01  "
      ]
     },
     "execution_count": 170,
     "metadata": {},
     "output_type": "execute_result"
    }
   ],
   "source": [
    "train.head() #Now we have our DateTime data ready for analysis."
   ]
  },
  {
   "cell_type": "code",
   "execution_count": 180,
   "metadata": {},
   "outputs": [
    {
     "data": {
      "text/plain": [
       "Safety Products        5233\n",
       "Switching & Fusing     4997\n",
       "Connectors             3756\n",
       "Utility Automation     3685\n",
       "Arresters              3301\n",
       "Construction           3111\n",
       "Enclosures & Drains    2554\n",
       "Insulators             1661\n",
       "Bushings               1616\n",
       "Cable Accessories      1511\n",
       "Wire Management           6\n",
       "Name: ProductLineDesc, dtype: int64"
      ]
     },
     "execution_count": 180,
     "metadata": {},
     "output_type": "execute_result"
    }
   ],
   "source": [
    "train.ProductLineDesc.value_counts()"
   ]
  },
  {
   "cell_type": "code",
   "execution_count": 190,
   "metadata": {},
   "outputs": [
    {
     "data": {
      "text/plain": [
       "Distribution Arresters     500\n",
       "Substation SC Arresters    456\n",
       "Substation HC Arresters    369\n",
       "Transmission Arresters     192\n",
       "Blocks                      30\n",
       "Name: ProductClassDesc, dtype: int64"
      ]
     },
     "execution_count": 190,
     "metadata": {},
     "output_type": "execute_result"
    }
   ],
   "source": [
    "#FOR YEAR 2017 AND CATEGORY ARRESTERS\n",
    "ts=train[(train['Year']==2017) &(train['ProductLineDesc']=='Arresters')]\n",
    "ts.ProductClassDesc.value_counts()"
   ]
  },
  {
   "cell_type": "code",
   "execution_count": 196,
   "metadata": {},
   "outputs": [
    {
     "data": {
      "text/plain": [
       "ProductClassDesc\n",
       "Blocks                      30\n",
       "Distribution Arresters     500\n",
       "Substation HC Arresters    369\n",
       "Substation SC Arresters    456\n",
       "Transmission Arresters     192\n",
       "Name: Shippable_$, dtype: int64"
      ]
     },
     "execution_count": 196,
     "metadata": {},
     "output_type": "execute_result"
    }
   ],
   "source": [
    "ts.groupby('ProductClassDesc')['Shippable_$'].count()"
   ]
  },
  {
   "cell_type": "code",
   "execution_count": null,
   "metadata": {},
   "outputs": [],
   "source": []
  },
  {
   "cell_type": "code",
   "execution_count": 230,
   "metadata": {},
   "outputs": [
    {
     "data": {
      "text/plain": [
       "[<matplotlib.lines.Line2D at 0x7f4b13a99d30>]"
      ]
     },
     "execution_count": 230,
     "metadata": {},
     "output_type": "execute_result"
    },
    {
     "data": {
      "image/png": "[encoded data removed]",
      "text/plain": [
       "<Figure size 1080x432 with 1 Axes>"
      ]
     },
     "metadata": {
      "needs_background": "light"
     },
     "output_type": "display_data"
    }
   ],
   "source": [
    "DA=ts[ts['ProductClassDesc']=='Distribution Arresters']\n",
    "DA=DA[DA['Shippable_$']!=0]\n",
    "DA['Shippable_$']=np.log(DA['Shippable_$']+1)\n",
    "plt.plot(DA['Shippable_$'])"
   ]
  },
  {
   "cell_type": "code",
   "execution_count": null,
   "metadata": {},
   "outputs": [],
   "source": [
    "ts=train['Shippable_$']\n",
    "plt.figure(figsize=(16,8))\n",
    "plt.plot(ts,label=\"Shippable\")\n",
    "plt.title('Time Series')\n",
    "plt.xlabel(\"Time(year-month)\")\n",
    "plt.ylabel(\"Shippable\")\n",
    "plt.legend(loc=\"best\")"
   ]
  },
  {
   "cell_type": "markdown",
   "metadata": {},
   "source": [
    "we still can't infer anything from the above graph,now we try to plot it for a particular product line"
   ]
  },
  {
   "cell_type": "code",
   "execution_count": null,
   "metadata": {},
   "outputs": [],
   "source": [
    "#Now we will aggregate data and then try to find patterns.\n",
    "g1=train.groupby(['SalesDistrictDesc','Year','Month','ProductLineDesc','ProductClassDesc']).sum()\n",
    "g1=g1.reset_index()"
   ]
  },
  {
   "cell_type": "code",
   "execution_count": null,
   "metadata": {},
   "outputs": [],
   "source": [
    "def combine(a,b):\n",
    "    date=str(a)+\"-\"+str(b)\n",
    "    return date\n",
    "\n",
    "g1['Date']=g1[['Month','Year']].apply(lambda x:combine(x.Month,x.Year),axis=1)\n",
    "# test['Date']=test[['Month','Year']].apply(lambda x:combine(x.Month,x.Year),axis=1)\n",
    "dateparse = lambda Dates: pd.datetime.strptime(Dates, '%m-%Y')\n",
    "g1['Date']=g1['Date'].apply(lambda x:dateparse(x))"
   ]
  },
  {
   "cell_type": "code",
   "execution_count": null,
   "metadata": {},
   "outputs": [],
   "source": [
    "g1.index=g1.Date"
   ]
  },
  {
   "cell_type": "code",
   "execution_count": null,
   "metadata": {},
   "outputs": [],
   "source": [
    "arrester_value=g1.loc[(g1['ProductLineDesc']=='Arresters') & (g1['ProductClassDesc']=='Distribution Arresters')]\n",
    "ts=arrester_value['Shippable_$']\n",
    "plt.plot(ts)"
   ]
  },
  {
   "cell_type": "code",
   "execution_count": null,
   "metadata": {},
   "outputs": [],
   "source": [
    "#Now let's try to validate our 3 hypothesis about ABCindicator\n",
    "train.groupby('ABCIndicator')['Shippable_$'].mean().plot.bar()"
   ]
  },
  {
   "cell_type": "markdown",
   "metadata": {},
   "source": [
    "Most of the products belong from A,B,C category.."
   ]
  },
  {
   "cell_type": "code",
   "execution_count": null,
   "metadata": {},
   "outputs": [],
   "source": [
    "# Now Lets try to predict on test data. But for that let's convert our features into numeric datatype\n",
    "labelencoder = LabelEncoder()\n",
    "train['ProductClassDesc']=labelencoder.fit_transform(train['ProductClassDesc'])\n",
    "train['SalesDistrictDesc']=labelencoder.fit_transform(train['SalesDistrictDesc'])\n",
    "train['ABCIndicator'] =labelencoder.fit_transform(train['ABCIndicator'])"
   ]
  },
  {
   "cell_type": "code",
   "execution_count": null,
   "metadata": {},
   "outputs": [],
   "source": [
    "dummies=pd.get_dummies(train['ProductLineDesc'])"
   ]
  },
  {
   "cell_type": "code",
   "execution_count": null,
   "metadata": {},
   "outputs": [],
   "source": [
    "train=pd.concat([train, dummies], axis=1)"
   ]
  },
  {
   "cell_type": "code",
   "execution_count": null,
   "metadata": {},
   "outputs": [],
   "source": [
    "del train['ProductLineDesc']"
   ]
  },
  {
   "cell_type": "code",
   "execution_count": null,
   "metadata": {},
   "outputs": [],
   "source": [
    "train.head()# Now All columns are numerical"
   ]
  },
  {
   "cell_type": "markdown",
   "metadata": {},
   "source": [
    "## Augmented Dickey-Fuller Test (ADF) Statistical Test\n",
    "To determine if a time series is stationary or not, we will use the ADF test which is a type of unit root test. Unit roots are a cause for non-stationarity, the ADF test will test if unit root is present.\n",
    "\n",
    "\n",
    "\n",
    "A time series is stationary if a single shift in time doesn't change the time series statistical properties, in which case unit root does not exist.\n",
    "\n",
    "The Null and Alternate hypothesis of the Augmented Dickey-Fuller test are defined as follows:\n",
    "\n",
    "Null Hypothesis states there is presence of a unit root.\n",
    "Alternate Hypothesis states there is no unit root. In other words, Stationarity exists."
   ]
  },
  {
   "cell_type": "code",
   "execution_count": null,
   "metadata": {},
   "outputs": [],
   "source": [
    "class StationarityTests:\n",
    "    def __init__(self, significance=.05):\n",
    "        self.SignificanceLevel = significance\n",
    "        self.pValue = None\n",
    "        self.isStationary = None\n",
    "        \n",
    "    def ADF_Stationarity_Test(self, timeseries, printResults = True):\n",
    "\n",
    "        #Dickey-Fuller test:\n",
    "        adfTest = adfuller(timeseries, autolag='AIC')\n",
    "        \n",
    "        self.pValue = adfTest[1]\n",
    "        \n",
    "        if (self.pValue<self.SignificanceLevel):\n",
    "            self.isStationary = True\n",
    "        else:\n",
    "            self.isStationary = False\n",
    "        \n",
    "        if printResults:\n",
    "            dfResults = pd.Series(adfTest[0:4], index=['ADF Test Statistic','P-Value','# Lags Used','# Observations Used'])\n",
    "\n",
    "            #Add Critical Values\n",
    "            for key,value in adfTest[4].items():\n",
    "                dfResults['Critical Value (%s)'%key] = value\n",
    "\n",
    "            print('Augmented Dickey-Fuller Test Results:')\n",
    "            print(dfResults)"
   ]
  },
  {
   "cell_type": "code",
   "execution_count": null,
   "metadata": {},
   "outputs": [],
   "source": [
    "sTest = StationarityTests()\n",
    "sTest.ADF_Stationarity_Test(train['Shippable_$'], printResults = True)\n",
    "print(\"Is the time series stationary? {0}\".format(sTest.isStationary))"
   ]
  },
  {
   "cell_type": "markdown",
   "metadata": {},
   "source": [
    "## Hence our DATA is stationary as P- value is less than 0.5."
   ]
  },
  {
   "cell_type": "code",
   "execution_count": null,
   "metadata": {},
   "outputs": [],
   "source": [
    "# model1=sm.tsa.ARIMA(endog=train['Shippable_$'],exog=df1[['ABCIndicator', 'ProductClassDesc', 'SalesDistrictDesc',\n",
    "#        'Arresters', 'Bushings', 'Cable Accessories', 'Connectors',\n",
    "#        'Construction', 'Enclosures & Drains', 'Insulators', 'Safety Products',\n",
    "#        'Switching & Fusing', 'Utility Automation', 'Wire Management']],order=[1,0,0])\n",
    "# results1=model1.fit()\n",
    "# print(results1.summary())"
   ]
  },
  {
   "cell_type": "code",
   "execution_count": 214,
   "metadata": {},
   "outputs": [],
   "source": [
    "g2=pd.read_csv('Sales_forecasting.csv')"
   ]
  },
  {
   "cell_type": "code",
   "execution_count": 217,
   "metadata": {},
   "outputs": [
    {
     "data": {
      "text/html": [
       "<div>\n",
       "<style scoped>\n",
       "    .dataframe tbody tr th:only-of-type {\n",
       "        vertical-align: middle;\n",
       "    }\n",
       "\n",
       "    .dataframe tbody tr th {\n",
       "        vertical-align: top;\n",
       "    }\n",
       "\n",
       "    .dataframe thead th {\n",
       "        text-align: right;\n",
       "    }\n",
       "</style>\n",
       "<table border=\"1\" class=\"dataframe\">\n",
       "  <thead>\n",
       "    <tr style=\"text-align: right;\">\n",
       "      <th></th>\n",
       "      <th>ABCIndicator</th>\n",
       "      <th>Month</th>\n",
       "      <th>ProductClassDesc</th>\n",
       "      <th>ProductLineDesc</th>\n",
       "      <th>SalesDistrictDesc</th>\n",
       "      <th>Shippable_$</th>\n",
       "      <th>Year</th>\n",
       "    </tr>\n",
       "  </thead>\n",
       "  <tbody>\n",
       "    <tr>\n",
       "      <th>0</th>\n",
       "      <td>P</td>\n",
       "      <td>1</td>\n",
       "      <td>Underground</td>\n",
       "      <td>Enclosures &amp; Drains</td>\n",
       "      <td>West Region</td>\n",
       "      <td>590.05</td>\n",
       "      <td>2017</td>\n",
       "    </tr>\n",
       "    <tr>\n",
       "      <th>1</th>\n",
       "      <td>P</td>\n",
       "      <td>1</td>\n",
       "      <td>Fiberglass Construction</td>\n",
       "      <td>Safety Products</td>\n",
       "      <td>Communication - West</td>\n",
       "      <td>0.00</td>\n",
       "      <td>2017</td>\n",
       "    </tr>\n",
       "    <tr>\n",
       "      <th>2</th>\n",
       "      <td>C</td>\n",
       "      <td>1</td>\n",
       "      <td>Fiberglass Construction</td>\n",
       "      <td>Safety Products</td>\n",
       "      <td>Communication - West</td>\n",
       "      <td>0.00</td>\n",
       "      <td>2017</td>\n",
       "    </tr>\n",
       "    <tr>\n",
       "      <th>3</th>\n",
       "      <td>A</td>\n",
       "      <td>1</td>\n",
       "      <td>Fiberglass Construction</td>\n",
       "      <td>Safety Products</td>\n",
       "      <td>Communication - West</td>\n",
       "      <td>435.77</td>\n",
       "      <td>2017</td>\n",
       "    </tr>\n",
       "    <tr>\n",
       "      <th>4</th>\n",
       "      <td>B</td>\n",
       "      <td>1</td>\n",
       "      <td>Fiberglass Construction</td>\n",
       "      <td>Safety Products</td>\n",
       "      <td>Communication - East</td>\n",
       "      <td>0.00</td>\n",
       "      <td>2017</td>\n",
       "    </tr>\n",
       "  </tbody>\n",
       "</table>\n",
       "</div>"
      ],
      "text/plain": [
       "  ABCIndicator  Month         ProductClassDesc      ProductLineDesc  \\\n",
       "0            P      1              Underground  Enclosures & Drains   \n",
       "1            P      1  Fiberglass Construction      Safety Products   \n",
       "2            C      1  Fiberglass Construction      Safety Products   \n",
       "3            A      1  Fiberglass Construction      Safety Products   \n",
       "4            B      1  Fiberglass Construction      Safety Products   \n",
       "\n",
       "      SalesDistrictDesc  Shippable_$  Year  \n",
       "0           West Region       590.05  2017  \n",
       "1  Communication - West         0.00  2017  \n",
       "2  Communication - West         0.00  2017  \n",
       "3  Communication - West       435.77  2017  \n",
       "4  Communication - East         0.00  2017  "
      ]
     },
     "execution_count": 217,
     "metadata": {},
     "output_type": "execute_result"
    }
   ],
   "source": [
    "df.head()"
   ]
  },
  {
   "cell_type": "code",
   "execution_count": 221,
   "metadata": {},
   "outputs": [
    {
     "data": {
      "text/plain": [
       "[<matplotlib.lines.Line2D at 0x7f4b13cdebe0>]"
      ]
     },
     "execution_count": 221,
     "metadata": {},
     "output_type": "execute_result"
    },
    {
     "data": {
      "image/png": "[encoded data removed]",
      "text/plain": [
       "<Figure size 1080x432 with 1 Axes>"
      ]
     },
     "metadata": {
      "needs_background": "light"
     },
     "output_type": "display_data"
    }
   ],
   "source": []
  },
  {
   "cell_type": "code",
   "execution_count": null,
   "metadata": {},
   "outputs": [],
   "source": []
  }
 ],
 "metadata": {
  "kernelspec": {
   "display_name": "Python 3",
   "language": "python",
   "name": "python3"
  },
  "language_info": {
   "codemirror_mode": {
    "name": "ipython",
    "version": 3
   },
   "file_extension": ".py",
   "mimetype": "text/x-python",
   "name": "python",
   "nbconvert_exporter": "python",
   "pygments_lexer": "ipython3",
   "version": "3.7.1"
  }
 },
 "nbformat": 4,
 "nbformat_minor": 2
}
