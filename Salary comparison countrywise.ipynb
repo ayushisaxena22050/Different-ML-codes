{
 "cells": [
  {
   "cell_type": "code",
   "execution_count": 181,
   "metadata": {},
   "outputs": [],
   "source": [
    "import numpy as np\n",
    "import pandas as pd"
   ]
  },
  {
   "cell_type": "code",
   "execution_count": 182,
   "metadata": {},
   "outputs": [],
   "source": [
    "data=pd.read_csv(r'/home/ayushi/Downloads/Salary_Comparison.csv')\n",
    "parity=pd.read_csv(r'/home/ayushi/Downloads/pppconverter-master/data.csv',header=None)\n",
    "exchange=pd.read_csv(r'/home/ayushi/Downloads/Exchange_Rate3.csv')"
   ]
  },
  {
   "cell_type": "code",
   "execution_count": 183,
   "metadata": {},
   "outputs": [
    {
     "data": {
      "text/plain": [
       "(21245, 5)"
      ]
     },
     "execution_count": 183,
     "metadata": {},
     "output_type": "execute_result"
    }
   ],
   "source": [
    "data.shape\n"
   ]
  },
  {
   "cell_type": "code",
   "execution_count": 184,
   "metadata": {},
   "outputs": [
    {
     "data": {
      "text/html": [
       "<div>\n",
       "<style scoped>\n",
       "    .dataframe tbody tr th:only-of-type {\n",
       "        vertical-align: middle;\n",
       "    }\n",
       "\n",
       "    .dataframe tbody tr th {\n",
       "        vertical-align: top;\n",
       "    }\n",
       "\n",
       "    .dataframe thead th {\n",
       "        text-align: right;\n",
       "    }\n",
       "</style>\n",
       "<table border=\"1\" class=\"dataframe\">\n",
       "  <thead>\n",
       "    <tr style=\"text-align: right;\">\n",
       "      <th></th>\n",
       "      <th>Unnamed: 0</th>\n",
       "      <th>OTE-Amount</th>\n",
       "      <th>CTC-Currency</th>\n",
       "      <th>Facility  Country</th>\n",
       "      <th>DataMartYear</th>\n",
       "    </tr>\n",
       "  </thead>\n",
       "  <tbody>\n",
       "    <tr>\n",
       "      <th>0</th>\n",
       "      <td>0</td>\n",
       "      <td>1040388.0</td>\n",
       "      <td>INR</td>\n",
       "      <td>India</td>\n",
       "      <td>2015</td>\n",
       "    </tr>\n",
       "    <tr>\n",
       "      <th>1</th>\n",
       "      <td>1</td>\n",
       "      <td>6300138.0</td>\n",
       "      <td>INR</td>\n",
       "      <td>India</td>\n",
       "      <td>2015</td>\n",
       "    </tr>\n",
       "    <tr>\n",
       "      <th>2</th>\n",
       "      <td>2</td>\n",
       "      <td>696334.0</td>\n",
       "      <td>INR</td>\n",
       "      <td>India</td>\n",
       "      <td>2015</td>\n",
       "    </tr>\n",
       "    <tr>\n",
       "      <th>3</th>\n",
       "      <td>3</td>\n",
       "      <td>1297338.0</td>\n",
       "      <td>INR</td>\n",
       "      <td>India</td>\n",
       "      <td>2015</td>\n",
       "    </tr>\n",
       "    <tr>\n",
       "      <th>4</th>\n",
       "      <td>4</td>\n",
       "      <td>2418624.0</td>\n",
       "      <td>INR</td>\n",
       "      <td>India</td>\n",
       "      <td>2015</td>\n",
       "    </tr>\n",
       "  </tbody>\n",
       "</table>\n",
       "</div>"
      ],
      "text/plain": [
       "   Unnamed: 0  OTE-Amount CTC-Currency Facility  Country  DataMartYear\n",
       "0           0   1040388.0          INR             India          2015\n",
       "1           1   6300138.0          INR             India          2015\n",
       "2           2    696334.0          INR             India          2015\n",
       "3           3   1297338.0          INR             India          2015\n",
       "4           4   2418624.0          INR             India          2015"
      ]
     },
     "execution_count": 184,
     "metadata": {},
     "output_type": "execute_result"
    }
   ],
   "source": [
    "data.head()"
   ]
  },
  {
   "cell_type": "code",
   "execution_count": 190,
   "metadata": {},
   "outputs": [
    {
     "data": {
      "text/plain": [
       "Index(['Unnamed: 0', 'OTE-Amount', 'CTC-Currency', 'Facility  Country',\n",
       "       'DataMartYear'],\n",
       "      dtype='object')"
      ]
     },
     "execution_count": 190,
     "metadata": {},
     "output_type": "execute_result"
    }
   ],
   "source": [
    "data.columns"
   ]
  },
  {
   "cell_type": "code",
   "execution_count": 191,
   "metadata": {},
   "outputs": [],
   "source": [
    "data.columns=['Unnamed: 0', 'OTE-Amount', 'CTC-Currency', 'Facility_Country',\n",
    "       'DataMartYear']"
   ]
  },
  {
   "cell_type": "code",
   "execution_count": 192,
   "metadata": {},
   "outputs": [
    {
     "data": {
      "text/html": [
       "<div>\n",
       "<style scoped>\n",
       "    .dataframe tbody tr th:only-of-type {\n",
       "        vertical-align: middle;\n",
       "    }\n",
       "\n",
       "    .dataframe tbody tr th {\n",
       "        vertical-align: top;\n",
       "    }\n",
       "\n",
       "    .dataframe thead th {\n",
       "        text-align: right;\n",
       "    }\n",
       "</style>\n",
       "<table border=\"1\" class=\"dataframe\">\n",
       "  <thead>\n",
       "    <tr style=\"text-align: right;\">\n",
       "      <th></th>\n",
       "      <th>Country</th>\n",
       "      <th>Currency</th>\n",
       "      <th>Year</th>\n",
       "      <th>PPP_Rate</th>\n",
       "    </tr>\n",
       "  </thead>\n",
       "  <tbody>\n",
       "    <tr>\n",
       "      <th>0</th>\n",
       "      <td>Aruba</td>\n",
       "      <td>ABW</td>\n",
       "      <td>2016</td>\n",
       "      <td>1.520866</td>\n",
       "    </tr>\n",
       "    <tr>\n",
       "      <th>1</th>\n",
       "      <td>Afghanistan</td>\n",
       "      <td>AFG</td>\n",
       "      <td>2016</td>\n",
       "      <td>20.170216</td>\n",
       "    </tr>\n",
       "    <tr>\n",
       "      <th>2</th>\n",
       "      <td>Angola</td>\n",
       "      <td>AGO</td>\n",
       "      <td>2016</td>\n",
       "      <td>132.333771</td>\n",
       "    </tr>\n",
       "    <tr>\n",
       "      <th>3</th>\n",
       "      <td>Albania</td>\n",
       "      <td>ALB</td>\n",
       "      <td>2016</td>\n",
       "      <td>55.186869</td>\n",
       "    </tr>\n",
       "    <tr>\n",
       "      <th>4</th>\n",
       "      <td>United Arab Emirates</td>\n",
       "      <td>ARE</td>\n",
       "      <td>2016</td>\n",
       "      <td>2.806145</td>\n",
       "    </tr>\n",
       "  </tbody>\n",
       "</table>\n",
       "</div>"
      ],
      "text/plain": [
       "                Country Currency  Year    PPP_Rate\n",
       "0                 Aruba      ABW  2016    1.520866\n",
       "1           Afghanistan      AFG  2016   20.170216\n",
       "2                Angola      AGO  2016  132.333771\n",
       "3               Albania      ALB  2016   55.186869\n",
       "4  United Arab Emirates      ARE  2016    2.806145"
      ]
     },
     "execution_count": 192,
     "metadata": {},
     "output_type": "execute_result"
    }
   ],
   "source": [
    "parity.head()"
   ]
  },
  {
   "cell_type": "code",
   "execution_count": 193,
   "metadata": {},
   "outputs": [],
   "source": [
    "parity.columns=['Country','Currency','Year','PPP_Rate']"
   ]
  },
  {
   "cell_type": "code",
   "execution_count": 194,
   "metadata": {},
   "outputs": [],
   "source": [
    "data=data.merge(parity[['Country','PPP_Rate']], left_on ='Facility_Country',right_on = 'Country', how='left')"
   ]
  },
  {
   "cell_type": "code",
   "execution_count": 197,
   "metadata": {},
   "outputs": [
    {
     "data": {
      "text/html": [
       "<div>\n",
       "<style scoped>\n",
       "    .dataframe tbody tr th:only-of-type {\n",
       "        vertical-align: middle;\n",
       "    }\n",
       "\n",
       "    .dataframe tbody tr th {\n",
       "        vertical-align: top;\n",
       "    }\n",
       "\n",
       "    .dataframe thead th {\n",
       "        text-align: right;\n",
       "    }\n",
       "</style>\n",
       "<table border=\"1\" class=\"dataframe\">\n",
       "  <thead>\n",
       "    <tr style=\"text-align: right;\">\n",
       "      <th></th>\n",
       "      <th>Unnamed: 0</th>\n",
       "      <th>OTE-Amount</th>\n",
       "      <th>CTC-Currency</th>\n",
       "      <th>Facility_Country</th>\n",
       "      <th>DataMartYear</th>\n",
       "      <th>Country</th>\n",
       "      <th>PPP_Rate</th>\n",
       "    </tr>\n",
       "  </thead>\n",
       "  <tbody>\n",
       "    <tr>\n",
       "      <th>0</th>\n",
       "      <td>0</td>\n",
       "      <td>1040388.0</td>\n",
       "      <td>INR</td>\n",
       "      <td>India</td>\n",
       "      <td>2015</td>\n",
       "      <td>India</td>\n",
       "      <td>19.978078</td>\n",
       "    </tr>\n",
       "    <tr>\n",
       "      <th>1</th>\n",
       "      <td>1</td>\n",
       "      <td>6300138.0</td>\n",
       "      <td>INR</td>\n",
       "      <td>India</td>\n",
       "      <td>2015</td>\n",
       "      <td>India</td>\n",
       "      <td>19.978078</td>\n",
       "    </tr>\n",
       "    <tr>\n",
       "      <th>2</th>\n",
       "      <td>2</td>\n",
       "      <td>696334.0</td>\n",
       "      <td>INR</td>\n",
       "      <td>India</td>\n",
       "      <td>2015</td>\n",
       "      <td>India</td>\n",
       "      <td>19.978078</td>\n",
       "    </tr>\n",
       "    <tr>\n",
       "      <th>3</th>\n",
       "      <td>3</td>\n",
       "      <td>1297338.0</td>\n",
       "      <td>INR</td>\n",
       "      <td>India</td>\n",
       "      <td>2015</td>\n",
       "      <td>India</td>\n",
       "      <td>19.978078</td>\n",
       "    </tr>\n",
       "    <tr>\n",
       "      <th>4</th>\n",
       "      <td>4</td>\n",
       "      <td>2418624.0</td>\n",
       "      <td>INR</td>\n",
       "      <td>India</td>\n",
       "      <td>2015</td>\n",
       "      <td>India</td>\n",
       "      <td>19.978078</td>\n",
       "    </tr>\n",
       "  </tbody>\n",
       "</table>\n",
       "</div>"
      ],
      "text/plain": [
       "   Unnamed: 0  OTE-Amount CTC-Currency Facility_Country  DataMartYear Country  \\\n",
       "0           0   1040388.0          INR            India          2015   India   \n",
       "1           1   6300138.0          INR            India          2015   India   \n",
       "2           2    696334.0          INR            India          2015   India   \n",
       "3           3   1297338.0          INR            India          2015   India   \n",
       "4           4   2418624.0          INR            India          2015   India   \n",
       "\n",
       "    PPP_Rate  \n",
       "0  19.978078  \n",
       "1  19.978078  \n",
       "2  19.978078  \n",
       "3  19.978078  \n",
       "4  19.978078  "
      ]
     },
     "execution_count": 197,
     "metadata": {},
     "output_type": "execute_result"
    }
   ],
   "source": [
    "data.head()"
   ]
  },
  {
   "cell_type": "code",
   "execution_count": 198,
   "metadata": {},
   "outputs": [],
   "source": [
    "data.drop(['Facility_Country'],axis=1,inplace=True)"
   ]
  },
  {
   "cell_type": "code",
   "execution_count": 199,
   "metadata": {},
   "outputs": [],
   "source": [
    "data=data.merge(exchange, left_on ='Country',right_on ='Location', how='left')"
   ]
  },
  {
   "cell_type": "code",
   "execution_count": 203,
   "metadata": {},
   "outputs": [
    {
     "data": {
      "text/html": [
       "<div>\n",
       "<style scoped>\n",
       "    .dataframe tbody tr th:only-of-type {\n",
       "        vertical-align: middle;\n",
       "    }\n",
       "\n",
       "    .dataframe tbody tr th {\n",
       "        vertical-align: top;\n",
       "    }\n",
       "\n",
       "    .dataframe thead th {\n",
       "        text-align: right;\n",
       "    }\n",
       "</style>\n",
       "<table border=\"1\" class=\"dataframe\">\n",
       "  <thead>\n",
       "    <tr style=\"text-align: right;\">\n",
       "      <th></th>\n",
       "      <th>Unnamed: 0</th>\n",
       "      <th>OTE-Amount</th>\n",
       "      <th>CTC-Currency</th>\n",
       "      <th>DataMartYear</th>\n",
       "      <th>Country</th>\n",
       "      <th>PPP_Rate</th>\n",
       "      <th>Exchange_Rate</th>\n",
       "      <th>Updated_Income_in_USD</th>\n",
       "    </tr>\n",
       "  </thead>\n",
       "  <tbody>\n",
       "    <tr>\n",
       "      <th>0</th>\n",
       "      <td>0</td>\n",
       "      <td>1040388.0</td>\n",
       "      <td>INR</td>\n",
       "      <td>2015</td>\n",
       "      <td>India</td>\n",
       "      <td>19.978078</td>\n",
       "      <td>65.122</td>\n",
       "      <td>0</td>\n",
       "    </tr>\n",
       "    <tr>\n",
       "      <th>1</th>\n",
       "      <td>1</td>\n",
       "      <td>6300138.0</td>\n",
       "      <td>INR</td>\n",
       "      <td>2015</td>\n",
       "      <td>India</td>\n",
       "      <td>19.978078</td>\n",
       "      <td>65.122</td>\n",
       "      <td>0</td>\n",
       "    </tr>\n",
       "    <tr>\n",
       "      <th>2</th>\n",
       "      <td>2</td>\n",
       "      <td>696334.0</td>\n",
       "      <td>INR</td>\n",
       "      <td>2015</td>\n",
       "      <td>India</td>\n",
       "      <td>19.978078</td>\n",
       "      <td>65.122</td>\n",
       "      <td>0</td>\n",
       "    </tr>\n",
       "    <tr>\n",
       "      <th>3</th>\n",
       "      <td>3</td>\n",
       "      <td>1297338.0</td>\n",
       "      <td>INR</td>\n",
       "      <td>2015</td>\n",
       "      <td>India</td>\n",
       "      <td>19.978078</td>\n",
       "      <td>65.122</td>\n",
       "      <td>0</td>\n",
       "    </tr>\n",
       "    <tr>\n",
       "      <th>4</th>\n",
       "      <td>4</td>\n",
       "      <td>2418624.0</td>\n",
       "      <td>INR</td>\n",
       "      <td>2015</td>\n",
       "      <td>India</td>\n",
       "      <td>19.978078</td>\n",
       "      <td>65.122</td>\n",
       "      <td>0</td>\n",
       "    </tr>\n",
       "  </tbody>\n",
       "</table>\n",
       "</div>"
      ],
      "text/plain": [
       "   Unnamed: 0  OTE-Amount CTC-Currency  DataMartYear Country   PPP_Rate  \\\n",
       "0           0   1040388.0          INR          2015   India  19.978078   \n",
       "1           1   6300138.0          INR          2015   India  19.978078   \n",
       "2           2    696334.0          INR          2015   India  19.978078   \n",
       "3           3   1297338.0          INR          2015   India  19.978078   \n",
       "4           4   2418624.0          INR          2015   India  19.978078   \n",
       "\n",
       "  Exchange_Rate  Updated_Income_in_USD  \n",
       "0        65.122                      0  \n",
       "1        65.122                      0  \n",
       "2        65.122                      0  \n",
       "3        65.122                      0  \n",
       "4        65.122                      0  "
      ]
     },
     "execution_count": 203,
     "metadata": {},
     "output_type": "execute_result"
    }
   ],
   "source": [
    "data.head()"
   ]
  },
  {
   "cell_type": "code",
   "execution_count": 204,
   "metadata": {},
   "outputs": [],
   "source": [
    "data['Updated_Income_in_USD']=0"
   ]
  },
  {
   "cell_type": "code",
   "execution_count": 206,
   "metadata": {},
   "outputs": [],
   "source": [
    "data.drop(['Location'],axis=1,inplace=True)"
   ]
  },
  {
   "cell_type": "code",
   "execution_count": 207,
   "metadata": {},
   "outputs": [],
   "source": [
    "data['Exchange_Rate']=pd.to_numeric(data['Exchange_Rate'], errors='coerce')"
   ]
  },
  {
   "cell_type": "code",
   "execution_count": 208,
   "metadata": {},
   "outputs": [
    {
     "data": {
      "text/plain": [
       "Index(['Unnamed: 0', 'OTE-Amount', 'CTC-Currency', 'DataMartYear', 'Country',\n",
       "       'PPP_Rate', 'Exchange_Rate', 'Updated_Income_in_USD'],\n",
       "      dtype='object')"
      ]
     },
     "execution_count": 208,
     "metadata": {},
     "output_type": "execute_result"
    }
   ],
   "source": [
    "data.columns"
   ]
  },
  {
   "cell_type": "code",
   "execution_count": 209,
   "metadata": {},
   "outputs": [],
   "source": [
    "data['Updated_Income_in_USD']=data['OTE-Amount']*data['Exchange_Rate']"
   ]
  },
  {
   "cell_type": "code",
   "execution_count": 210,
   "metadata": {},
   "outputs": [],
   "source": [
    "data['PPP/MER']=1"
   ]
  },
  {
   "cell_type": "code",
   "execution_count": 212,
   "metadata": {},
   "outputs": [],
   "source": [
    "data['PPP/MER']=data['PPP_Rate']/data['Exchange_Rate'] #adjusting factor"
   ]
  },
  {
   "cell_type": "code",
   "execution_count": 213,
   "metadata": {},
   "outputs": [
    {
     "data": {
      "text/html": [
       "<div>\n",
       "<style scoped>\n",
       "    .dataframe tbody tr th:only-of-type {\n",
       "        vertical-align: middle;\n",
       "    }\n",
       "\n",
       "    .dataframe tbody tr th {\n",
       "        vertical-align: top;\n",
       "    }\n",
       "\n",
       "    .dataframe thead th {\n",
       "        text-align: right;\n",
       "    }\n",
       "</style>\n",
       "<table border=\"1\" class=\"dataframe\">\n",
       "  <thead>\n",
       "    <tr style=\"text-align: right;\">\n",
       "      <th></th>\n",
       "      <th>Unnamed: 0</th>\n",
       "      <th>OTE-Amount</th>\n",
       "      <th>CTC-Currency</th>\n",
       "      <th>DataMartYear</th>\n",
       "      <th>Country</th>\n",
       "      <th>PPP_Rate</th>\n",
       "      <th>Exchange_Rate</th>\n",
       "      <th>Updated_Income_in_USD</th>\n",
       "      <th>PPP/MER</th>\n",
       "    </tr>\n",
       "  </thead>\n",
       "  <tbody>\n",
       "    <tr>\n",
       "      <th>0</th>\n",
       "      <td>0</td>\n",
       "      <td>1040388.0</td>\n",
       "      <td>INR</td>\n",
       "      <td>2015</td>\n",
       "      <td>India</td>\n",
       "      <td>19.978078</td>\n",
       "      <td>65.122</td>\n",
       "      <td>6.775215e+07</td>\n",
       "      <td>0.306779</td>\n",
       "    </tr>\n",
       "    <tr>\n",
       "      <th>1</th>\n",
       "      <td>1</td>\n",
       "      <td>6300138.0</td>\n",
       "      <td>INR</td>\n",
       "      <td>2015</td>\n",
       "      <td>India</td>\n",
       "      <td>19.978078</td>\n",
       "      <td>65.122</td>\n",
       "      <td>4.102776e+08</td>\n",
       "      <td>0.306779</td>\n",
       "    </tr>\n",
       "    <tr>\n",
       "      <th>2</th>\n",
       "      <td>2</td>\n",
       "      <td>696334.0</td>\n",
       "      <td>INR</td>\n",
       "      <td>2015</td>\n",
       "      <td>India</td>\n",
       "      <td>19.978078</td>\n",
       "      <td>65.122</td>\n",
       "      <td>4.534666e+07</td>\n",
       "      <td>0.306779</td>\n",
       "    </tr>\n",
       "    <tr>\n",
       "      <th>3</th>\n",
       "      <td>3</td>\n",
       "      <td>1297338.0</td>\n",
       "      <td>INR</td>\n",
       "      <td>2015</td>\n",
       "      <td>India</td>\n",
       "      <td>19.978078</td>\n",
       "      <td>65.122</td>\n",
       "      <td>8.448525e+07</td>\n",
       "      <td>0.306779</td>\n",
       "    </tr>\n",
       "    <tr>\n",
       "      <th>4</th>\n",
       "      <td>4</td>\n",
       "      <td>2418624.0</td>\n",
       "      <td>INR</td>\n",
       "      <td>2015</td>\n",
       "      <td>India</td>\n",
       "      <td>19.978078</td>\n",
       "      <td>65.122</td>\n",
       "      <td>1.575056e+08</td>\n",
       "      <td>0.306779</td>\n",
       "    </tr>\n",
       "  </tbody>\n",
       "</table>\n",
       "</div>"
      ],
      "text/plain": [
       "   Unnamed: 0  OTE-Amount CTC-Currency  DataMartYear Country   PPP_Rate  \\\n",
       "0           0   1040388.0          INR          2015   India  19.978078   \n",
       "1           1   6300138.0          INR          2015   India  19.978078   \n",
       "2           2    696334.0          INR          2015   India  19.978078   \n",
       "3           3   1297338.0          INR          2015   India  19.978078   \n",
       "4           4   2418624.0          INR          2015   India  19.978078   \n",
       "\n",
       "   Exchange_Rate  Updated_Income_in_USD   PPP/MER  \n",
       "0         65.122           6.775215e+07  0.306779  \n",
       "1         65.122           4.102776e+08  0.306779  \n",
       "2         65.122           4.534666e+07  0.306779  \n",
       "3         65.122           8.448525e+07  0.306779  \n",
       "4         65.122           1.575056e+08  0.306779  "
      ]
     },
     "execution_count": 213,
     "metadata": {},
     "output_type": "execute_result"
    }
   ],
   "source": [
    "data.head()"
   ]
  },
  {
   "cell_type": "code",
   "execution_count": 214,
   "metadata": {},
   "outputs": [],
   "source": [
    "data['Actual_Salary']=0"
   ]
  },
  {
   "cell_type": "code",
   "execution_count": 218,
   "metadata": {},
   "outputs": [],
   "source": [
    "data['Actual_Salary']=data['OTE-Amount']/data['PPP/MER'] # dividing by adjusting factor"
   ]
  },
  {
   "cell_type": "code",
   "execution_count": 220,
   "metadata": {},
   "outputs": [
    {
     "data": {
      "text/html": [
       "<div>\n",
       "<style scoped>\n",
       "    .dataframe tbody tr th:only-of-type {\n",
       "        vertical-align: middle;\n",
       "    }\n",
       "\n",
       "    .dataframe tbody tr th {\n",
       "        vertical-align: top;\n",
       "    }\n",
       "\n",
       "    .dataframe thead th {\n",
       "        text-align: right;\n",
       "    }\n",
       "</style>\n",
       "<table border=\"1\" class=\"dataframe\">\n",
       "  <thead>\n",
       "    <tr style=\"text-align: right;\">\n",
       "      <th></th>\n",
       "      <th>Unnamed: 0</th>\n",
       "      <th>OTE-Amount</th>\n",
       "      <th>CTC-Currency</th>\n",
       "      <th>DataMartYear</th>\n",
       "      <th>Country</th>\n",
       "      <th>PPP_Rate</th>\n",
       "      <th>Exchange_Rate</th>\n",
       "      <th>Updated_Income_in_USD</th>\n",
       "      <th>PPP/MER</th>\n",
       "      <th>Actual_Salary</th>\n",
       "    </tr>\n",
       "  </thead>\n",
       "  <tbody>\n",
       "    <tr>\n",
       "      <th>0</th>\n",
       "      <td>0</td>\n",
       "      <td>1040388.0</td>\n",
       "      <td>INR</td>\n",
       "      <td>2015</td>\n",
       "      <td>India</td>\n",
       "      <td>19.978078</td>\n",
       "      <td>65.122</td>\n",
       "      <td>6.775215e+07</td>\n",
       "      <td>0.306779</td>\n",
       "      <td>3.391325e+06</td>\n",
       "    </tr>\n",
       "    <tr>\n",
       "      <th>1</th>\n",
       "      <td>1</td>\n",
       "      <td>6300138.0</td>\n",
       "      <td>INR</td>\n",
       "      <td>2015</td>\n",
       "      <td>India</td>\n",
       "      <td>19.978078</td>\n",
       "      <td>65.122</td>\n",
       "      <td>4.102776e+08</td>\n",
       "      <td>0.306779</td>\n",
       "      <td>2.053639e+07</td>\n",
       "    </tr>\n",
       "    <tr>\n",
       "      <th>2</th>\n",
       "      <td>2</td>\n",
       "      <td>696334.0</td>\n",
       "      <td>INR</td>\n",
       "      <td>2015</td>\n",
       "      <td>India</td>\n",
       "      <td>19.978078</td>\n",
       "      <td>65.122</td>\n",
       "      <td>4.534666e+07</td>\n",
       "      <td>0.306779</td>\n",
       "      <td>2.269821e+06</td>\n",
       "    </tr>\n",
       "    <tr>\n",
       "      <th>3</th>\n",
       "      <td>3</td>\n",
       "      <td>1297338.0</td>\n",
       "      <td>INR</td>\n",
       "      <td>2015</td>\n",
       "      <td>India</td>\n",
       "      <td>19.978078</td>\n",
       "      <td>65.122</td>\n",
       "      <td>8.448525e+07</td>\n",
       "      <td>0.306779</td>\n",
       "      <td>4.228897e+06</td>\n",
       "    </tr>\n",
       "    <tr>\n",
       "      <th>4</th>\n",
       "      <td>4</td>\n",
       "      <td>2418624.0</td>\n",
       "      <td>INR</td>\n",
       "      <td>2015</td>\n",
       "      <td>India</td>\n",
       "      <td>19.978078</td>\n",
       "      <td>65.122</td>\n",
       "      <td>1.575056e+08</td>\n",
       "      <td>0.306779</td>\n",
       "      <td>7.883923e+06</td>\n",
       "    </tr>\n",
       "  </tbody>\n",
       "</table>\n",
       "</div>"
      ],
      "text/plain": [
       "   Unnamed: 0  OTE-Amount CTC-Currency  DataMartYear Country   PPP_Rate  \\\n",
       "0           0   1040388.0          INR          2015   India  19.978078   \n",
       "1           1   6300138.0          INR          2015   India  19.978078   \n",
       "2           2    696334.0          INR          2015   India  19.978078   \n",
       "3           3   1297338.0          INR          2015   India  19.978078   \n",
       "4           4   2418624.0          INR          2015   India  19.978078   \n",
       "\n",
       "   Exchange_Rate  Updated_Income_in_USD   PPP/MER  Actual_Salary  \n",
       "0         65.122           6.775215e+07  0.306779   3.391325e+06  \n",
       "1         65.122           4.102776e+08  0.306779   2.053639e+07  \n",
       "2         65.122           4.534666e+07  0.306779   2.269821e+06  \n",
       "3         65.122           8.448525e+07  0.306779   4.228897e+06  \n",
       "4         65.122           1.575056e+08  0.306779   7.883923e+06  "
      ]
     },
     "execution_count": 220,
     "metadata": {},
     "output_type": "execute_result"
    }
   ],
   "source": [
    "data.head()"
   ]
  },
  {
   "cell_type": "code",
   "execution_count": 221,
   "metadata": {},
   "outputs": [],
   "source": [
    " data.to_csv('Salary1.csv')"
   ]
  }
 ],
 "metadata": {
  "kernelspec": {
   "display_name": "Python 3",
   "language": "python",
   "name": "python3"
  },
  "language_info": {
   "codemirror_mode": {
    "name": "ipython",
    "version": 3
   },
   "file_extension": ".py",
   "mimetype": "text/x-python",
   "name": "python",
   "nbconvert_exporter": "python",
   "pygments_lexer": "ipython3",
   "version": "3.7.0"
  }
 },
 "nbformat": 4,
 "nbformat_minor": 2
}
