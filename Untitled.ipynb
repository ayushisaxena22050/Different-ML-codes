{
 "cells": [
  {
   "cell_type": "code",
   "execution_count": 92,
   "metadata": {},
   "outputs": [
    {
     "name": "stdout",
     "output_type": "stream",
     "text": [
      "Harsgshg\n",
      "Uhughhu\n",
      "12Jhujhj\n"
     ]
    }
   ],
   "source": [
    "h = 'harsgshg uhughhu 12jhujhj'\n",
    "\n",
    "arr=h.split()\n",
    "\n",
    "arr1=[]\n",
    "\n",
    "for i in range(len(arr)):\n",
    "    arr1.append(list(arr[i]))\n",
    "\n",
    "for i in arr1:\n",
    "    for j in range(len(i)):\n",
    "        if(i[j] not in ['0','1','2','3','4','5','6','7','8','9']):\n",
    "            break\n",
    "    i[j]=i[j].upper()\n",
    "for i in arr1:\n",
    "    print(''.join(i))   \n",
    "            \n",
    "           \n",
    "        \n",
    "#     if type(i[0]==str):\n",
    "#         i[0]=i[0].upper()\n",
    "   \n",
    "        "
   ]
  },
  {
   "cell_type": "code",
   "execution_count": 89,
   "metadata": {},
   "outputs": [
    {
     "data": {
      "text/plain": [
       "[['H', 'a', 'r', 's', 'g', 's', 'h', 'g'],\n",
       " ['U', 'h', 'u', 'g', 'h', 'h', 'u'],\n",
       " ['1', '2', 'J', 'h', 'u', 'j', 'h', 'j']]"
      ]
     },
     "execution_count": 89,
     "metadata": {},
     "output_type": "execute_result"
    }
   ],
   "source": [
    "arr1"
   ]
  },
  {
   "cell_type": "code",
   "execution_count": 91,
   "metadata": {},
   "outputs": [
    {
     "name": "stdout",
     "output_type": "stream",
     "text": [
      "Harsgshg\n",
      "Uhughhu\n",
      "12Jhujhj\n"
     ]
    }
   ],
   "source": []
  },
  {
   "cell_type": "code",
   "execution_count": null,
   "metadata": {},
   "outputs": [],
   "source": []
  }
 ],
 "metadata": {
  "kernelspec": {
   "display_name": "Python 3",
   "language": "python",
   "name": "python3"
  },
  "language_info": {
   "codemirror_mode": {
    "name": "ipython",
    "version": 3
   },
   "file_extension": ".py",
   "mimetype": "text/x-python",
   "name": "python",
   "nbconvert_exporter": "python",
   "pygments_lexer": "ipython3",
   "version": "3.7.2"
  }
 },
 "nbformat": 4,
 "nbformat_minor": 2
}
