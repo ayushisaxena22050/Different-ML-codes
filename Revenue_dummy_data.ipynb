{
 "cells": [
  {
   "cell_type": "code",
   "execution_count": 1,
   "metadata": {},
   "outputs": [],
   "source": [
    "%matplotlib inline\n",
    "import pandas as pd\n",
    "import numpy as np\n",
    "import matplotlib.pyplot as plt\n",
    "import seaborn as sns\n",
    "sns.set_context('notebook') \n",
    "sns.set_style('ticks')"
   ]
  },
  {
   "cell_type": "code",
   "execution_count": 12,
   "metadata": {},
   "outputs": [],
   "source": [
    "df1=pd.read_excel('/home/ayushi/Downloads/RE/R1.xlsx',sheet_name='Sheet1', header=1)"
   ]
  },
  {
   "cell_type": "code",
   "execution_count": 13,
   "metadata": {},
   "outputs": [
    {
     "data": {
      "text/plain": [
       "Index(['Calendar Year Month', 'Product Line Desc (M)',\n",
       "       'Product Class Desc (M)', 'Sales District Desc (M) ', 'ABC indicator',\n",
       "       'Unnamed: 5', 'USD', 'USD.1', 'USD.2', 'USD.3', 'USD.4', 'USD.5',\n",
       "       'Unnamed: 12'],\n",
       "      dtype='object')"
      ]
     },
     "execution_count": 13,
     "metadata": {},
     "output_type": "execute_result"
    }
   ],
   "source": [
    "df1.columns"
   ]
  },
  {
   "cell_type": "code",
   "execution_count": 14,
   "metadata": {},
   "outputs": [],
   "source": [
    "df1=df1.loc[df1['Product Line Desc (M)'].isin(['Arresters', 'Cable Accessories', 'Connectors',\n",
    "       'Construction', 'Insulators',\n",
    "       'Safety Products', 'Switching & Fusing'])]"
   ]
  },
  {
   "cell_type": "code",
   "execution_count": 15,
   "metadata": {},
   "outputs": [
    {
     "data": {
      "text/plain": [
       "array(['Arresters', 'Cable Accessories', 'Connectors', 'Construction',\n",
       "       'Insulators', 'Safety Products', 'Switching & Fusing'],\n",
       "      dtype=object)"
      ]
     },
     "execution_count": 15,
     "metadata": {},
     "output_type": "execute_result"
    }
   ],
   "source": [
    "df1['Product Line Desc (M)'].unique()"
   ]
  },
  {
   "cell_type": "code",
   "execution_count": 16,
   "metadata": {},
   "outputs": [
    {
     "data": {
      "text/plain": [
       "array([18637, 19410, 14661, ...,  7455,   357, 12338])"
      ]
     },
     "execution_count": 16,
     "metadata": {},
     "output_type": "execute_result"
    }
   ],
   "source": [
    "import numpy as np\n",
    "num=np.random.randint(1,len(df1), size=5000)\n",
    "num"
   ]
  },
  {
   "cell_type": "code",
   "execution_count": 17,
   "metadata": {},
   "outputs": [
    {
     "data": {
      "text/html": [
       "<div>\n",
       "<style scoped>\n",
       "    .dataframe tbody tr th:only-of-type {\n",
       "        vertical-align: middle;\n",
       "    }\n",
       "\n",
       "    .dataframe tbody tr th {\n",
       "        vertical-align: top;\n",
       "    }\n",
       "\n",
       "    .dataframe thead th {\n",
       "        text-align: right;\n",
       "    }\n",
       "</style>\n",
       "<table border=\"1\" class=\"dataframe\">\n",
       "  <thead>\n",
       "    <tr style=\"text-align: right;\">\n",
       "      <th></th>\n",
       "      <th>Calendar Year Month</th>\n",
       "      <th>Product Line Desc (M)</th>\n",
       "      <th>Product Class Desc (M)</th>\n",
       "      <th>Sales District Desc (M)</th>\n",
       "      <th>ABC indicator</th>\n",
       "      <th>Unnamed: 5</th>\n",
       "      <th>USD</th>\n",
       "      <th>USD.1</th>\n",
       "      <th>USD.2</th>\n",
       "      <th>USD.3</th>\n",
       "      <th>USD.4</th>\n",
       "      <th>USD.5</th>\n",
       "      <th>Unnamed: 12</th>\n",
       "    </tr>\n",
       "  </thead>\n",
       "  <tbody>\n",
       "    <tr>\n",
       "      <th>24960</th>\n",
       "      <td>201808</td>\n",
       "      <td>Cable Accessories</td>\n",
       "      <td>URD Arresters</td>\n",
       "      <td>NORTH CENTRAL REGION</td>\n",
       "      <td>A</td>\n",
       "      <td>5667.91</td>\n",
       "      <td>0.00</td>\n",
       "      <td>5667.91</td>\n",
       "      <td>0.0</td>\n",
       "      <td>4778.12</td>\n",
       "      <td>12254.06</td>\n",
       "      <td>4514.32</td>\n",
       "      <td>27214.41</td>\n",
       "    </tr>\n",
       "    <tr>\n",
       "      <th>25844</th>\n",
       "      <td>201808</td>\n",
       "      <td>Switching &amp; Fusing</td>\n",
       "      <td>Turner Accessories</td>\n",
       "      <td>North East Region</td>\n",
       "      <td>D</td>\n",
       "      <td>629.86</td>\n",
       "      <td>629.86</td>\n",
       "      <td>0.00</td>\n",
       "      <td>0.0</td>\n",
       "      <td>1812.00</td>\n",
       "      <td>1910.18</td>\n",
       "      <td>306.00</td>\n",
       "      <td>4658.04</td>\n",
       "    </tr>\n",
       "    <tr>\n",
       "      <th>19782</th>\n",
       "      <td>201804</td>\n",
       "      <td>Cable Accessories</td>\n",
       "      <td>URD Arresters</td>\n",
       "      <td>West Region</td>\n",
       "      <td>B</td>\n",
       "      <td>744.78</td>\n",
       "      <td>744.78</td>\n",
       "      <td>0.00</td>\n",
       "      <td>0.0</td>\n",
       "      <td>103.70</td>\n",
       "      <td>0.00</td>\n",
       "      <td>0.00</td>\n",
       "      <td>848.48</td>\n",
       "    </tr>\n",
       "    <tr>\n",
       "      <th>14157</th>\n",
       "      <td>201711</td>\n",
       "      <td>Switching &amp; Fusing</td>\n",
       "      <td>Cutouts - Polymer</td>\n",
       "      <td>NORTH CENTRAL REGION</td>\n",
       "      <td>1</td>\n",
       "      <td>1854.00</td>\n",
       "      <td>0.00</td>\n",
       "      <td>1854.00</td>\n",
       "      <td>0.0</td>\n",
       "      <td>499.52</td>\n",
       "      <td>0.00</td>\n",
       "      <td>0.00</td>\n",
       "      <td>2353.52</td>\n",
       "    </tr>\n",
       "    <tr>\n",
       "      <th>16441</th>\n",
       "      <td>201801</td>\n",
       "      <td>Safety Products</td>\n",
       "      <td>Fiberglass Construction</td>\n",
       "      <td>NORTH CENTRAL REGION</td>\n",
       "      <td>D</td>\n",
       "      <td>2436.60</td>\n",
       "      <td>1913.70</td>\n",
       "      <td>522.90</td>\n",
       "      <td>0.0</td>\n",
       "      <td>0.00</td>\n",
       "      <td>0.00</td>\n",
       "      <td>376.20</td>\n",
       "      <td>2812.80</td>\n",
       "    </tr>\n",
       "  </tbody>\n",
       "</table>\n",
       "</div>"
      ],
      "text/plain": [
       "      Calendar Year Month Product Line Desc (M)   Product Class Desc (M)  \\\n",
       "24960              201808     Cable Accessories            URD Arresters   \n",
       "25844              201808    Switching & Fusing       Turner Accessories   \n",
       "19782              201804     Cable Accessories            URD Arresters   \n",
       "14157              201711    Switching & Fusing        Cutouts - Polymer   \n",
       "16441              201801       Safety Products  Fiberglass Construction   \n",
       "\n",
       "      Sales District Desc (M)  ABC indicator  Unnamed: 5      USD    USD.1  \\\n",
       "24960     NORTH CENTRAL REGION             A     5667.91     0.00  5667.91   \n",
       "25844        North East Region             D      629.86   629.86     0.00   \n",
       "19782              West Region             B      744.78   744.78     0.00   \n",
       "14157     NORTH CENTRAL REGION             1     1854.00     0.00  1854.00   \n",
       "16441     NORTH CENTRAL REGION             D     2436.60  1913.70   522.90   \n",
       "\n",
       "       USD.2    USD.3     USD.4    USD.5  Unnamed: 12  \n",
       "24960    0.0  4778.12  12254.06  4514.32     27214.41  \n",
       "25844    0.0  1812.00   1910.18   306.00      4658.04  \n",
       "19782    0.0   103.70      0.00     0.00       848.48  \n",
       "14157    0.0   499.52      0.00     0.00      2353.52  \n",
       "16441    0.0     0.00      0.00   376.20      2812.80  "
      ]
     },
     "execution_count": 17,
     "metadata": {},
     "output_type": "execute_result"
    }
   ],
   "source": [
    "t=df1.iloc[num]\n",
    "t.head()"
   ]
  },
  {
   "cell_type": "code",
   "execution_count": 18,
   "metadata": {},
   "outputs": [
    {
     "name": "stderr",
     "output_type": "stream",
     "text": [
      "/home/ayushi/anaconda3/lib/python3.7/site-packages/ipykernel_launcher.py:3: SettingWithCopyWarning: \n",
      "A value is trying to be set on a copy of a slice from a DataFrame.\n",
      "Try using .loc[row_indexer,col_indexer] = value instead\n",
      "\n",
      "See the caveats in the documentation: http://pandas.pydata.org/pandas-docs/stable/indexing.html#indexing-view-versus-copy\n",
      "  This is separate from the ipykernel package so we can avoid doing imports until\n",
      "/home/ayushi/anaconda3/lib/python3.7/site-packages/pandas/core/frame.py:3697: SettingWithCopyWarning: \n",
      "A value is trying to be set on a copy of a slice from a DataFrame\n",
      "\n",
      "See the caveats in the documentation: http://pandas.pydata.org/pandas-docs/stable/indexing.html#indexing-view-versus-copy\n",
      "  errors=errors)\n"
     ]
    },
    {
     "data": {
      "text/html": [
       "<div>\n",
       "<style scoped>\n",
       "    .dataframe tbody tr th:only-of-type {\n",
       "        vertical-align: middle;\n",
       "    }\n",
       "\n",
       "    .dataframe tbody tr th {\n",
       "        vertical-align: top;\n",
       "    }\n",
       "\n",
       "    .dataframe thead th {\n",
       "        text-align: right;\n",
       "    }\n",
       "</style>\n",
       "<table border=\"1\" class=\"dataframe\">\n",
       "  <thead>\n",
       "    <tr style=\"text-align: right;\">\n",
       "      <th></th>\n",
       "      <th>Calendar Year Month</th>\n",
       "      <th>Product Line Desc (M)</th>\n",
       "      <th>Product Class Desc (M)</th>\n",
       "      <th>Sales District Desc (M)</th>\n",
       "      <th>ABC indicator</th>\n",
       "      <th>Unnamed: 5</th>\n",
       "      <th>USD.1</th>\n",
       "      <th>USD.2</th>\n",
       "      <th>USD.3</th>\n",
       "      <th>USD.4</th>\n",
       "      <th>USD.5</th>\n",
       "      <th>Unnamed: 12</th>\n",
       "    </tr>\n",
       "  </thead>\n",
       "  <tbody>\n",
       "    <tr>\n",
       "      <th>24960</th>\n",
       "      <td>201812</td>\n",
       "      <td>Cable Accessories</td>\n",
       "      <td>URD Arresters</td>\n",
       "      <td>NORTH CENTRAL REGION</td>\n",
       "      <td>A</td>\n",
       "      <td>5667.91</td>\n",
       "      <td>5667.91</td>\n",
       "      <td>0.0</td>\n",
       "      <td>4778.12</td>\n",
       "      <td>12254.06</td>\n",
       "      <td>4514.32</td>\n",
       "      <td>27214.41</td>\n",
       "    </tr>\n",
       "    <tr>\n",
       "      <th>25844</th>\n",
       "      <td>201812</td>\n",
       "      <td>Switching &amp; Fusing</td>\n",
       "      <td>Turner Accessories</td>\n",
       "      <td>North East Region</td>\n",
       "      <td>D</td>\n",
       "      <td>629.86</td>\n",
       "      <td>0.00</td>\n",
       "      <td>0.0</td>\n",
       "      <td>1812.00</td>\n",
       "      <td>1910.18</td>\n",
       "      <td>306.00</td>\n",
       "      <td>4658.04</td>\n",
       "    </tr>\n",
       "    <tr>\n",
       "      <th>19782</th>\n",
       "      <td>201812</td>\n",
       "      <td>Cable Accessories</td>\n",
       "      <td>URD Arresters</td>\n",
       "      <td>West Region</td>\n",
       "      <td>B</td>\n",
       "      <td>744.78</td>\n",
       "      <td>0.00</td>\n",
       "      <td>0.0</td>\n",
       "      <td>103.70</td>\n",
       "      <td>0.00</td>\n",
       "      <td>0.00</td>\n",
       "      <td>848.48</td>\n",
       "    </tr>\n",
       "    <tr>\n",
       "      <th>14157</th>\n",
       "      <td>201812</td>\n",
       "      <td>Switching &amp; Fusing</td>\n",
       "      <td>Cutouts - Polymer</td>\n",
       "      <td>NORTH CENTRAL REGION</td>\n",
       "      <td>1</td>\n",
       "      <td>1854.00</td>\n",
       "      <td>1854.00</td>\n",
       "      <td>0.0</td>\n",
       "      <td>499.52</td>\n",
       "      <td>0.00</td>\n",
       "      <td>0.00</td>\n",
       "      <td>2353.52</td>\n",
       "    </tr>\n",
       "    <tr>\n",
       "      <th>16441</th>\n",
       "      <td>201812</td>\n",
       "      <td>Safety Products</td>\n",
       "      <td>Fiberglass Construction</td>\n",
       "      <td>NORTH CENTRAL REGION</td>\n",
       "      <td>D</td>\n",
       "      <td>2436.60</td>\n",
       "      <td>522.90</td>\n",
       "      <td>0.0</td>\n",
       "      <td>0.00</td>\n",
       "      <td>0.00</td>\n",
       "      <td>376.20</td>\n",
       "      <td>2812.80</td>\n",
       "    </tr>\n",
       "  </tbody>\n",
       "</table>\n",
       "</div>"
      ],
      "text/plain": [
       "      Calendar Year Month Product Line Desc (M)   Product Class Desc (M)  \\\n",
       "24960              201812     Cable Accessories            URD Arresters   \n",
       "25844              201812    Switching & Fusing       Turner Accessories   \n",
       "19782              201812     Cable Accessories            URD Arresters   \n",
       "14157              201812    Switching & Fusing        Cutouts - Polymer   \n",
       "16441              201812       Safety Products  Fiberglass Construction   \n",
       "\n",
       "      Sales District Desc (M)  ABC indicator  Unnamed: 5    USD.1  USD.2  \\\n",
       "24960     NORTH CENTRAL REGION             A     5667.91  5667.91    0.0   \n",
       "25844        North East Region             D      629.86     0.00    0.0   \n",
       "19782              West Region             B      744.78     0.00    0.0   \n",
       "14157     NORTH CENTRAL REGION             1     1854.00  1854.00    0.0   \n",
       "16441     NORTH CENTRAL REGION             D     2436.60   522.90    0.0   \n",
       "\n",
       "         USD.3     USD.4    USD.5  Unnamed: 12  \n",
       "24960  4778.12  12254.06  4514.32     27214.41  \n",
       "25844  1812.00   1910.18   306.00      4658.04  \n",
       "19782   103.70      0.00     0.00       848.48  \n",
       "14157   499.52      0.00     0.00      2353.52  \n",
       "16441     0.00      0.00   376.20      2812.80  "
      ]
     },
     "execution_count": 18,
     "metadata": {},
     "output_type": "execute_result"
    }
   ],
   "source": [
    "times = pd.date_range(start='2018-12',end='2019-11', periods=5000)\n",
    "newformat=times.strftime('%Y%m')\n",
    "t['Calendar Year Month']=newformat\n",
    "t.drop('USD',inplace=True,axis=1)\n",
    "t.head()"
   ]
  },
  {
   "cell_type": "code",
   "execution_count": 19,
   "metadata": {},
   "outputs": [
    {
     "data": {
      "text/plain": [
       "Index(['Calendar Year Month', 'Product Line Desc (M)',\n",
       "       'Product Class Desc (M)', 'Sales District Desc (M) ', 'ABC indicator',\n",
       "       'Unnamed: 5', 'USD.1', 'USD.2', 'USD.3', 'USD.4', 'USD.5',\n",
       "       'Unnamed: 12'],\n",
       "      dtype='object')"
      ]
     },
     "execution_count": 19,
     "metadata": {},
     "output_type": "execute_result"
    }
   ],
   "source": [
    "t.columns"
   ]
  },
  {
   "cell_type": "code",
   "execution_count": 20,
   "metadata": {},
   "outputs": [],
   "source": [
    "t=t[['Calendar Year Month', 'Product Line Desc (M)','Product Class Desc (M)', 'Sales District Desc (M) ', 'ABC indicator']]"
   ]
  },
  {
   "cell_type": "code",
   "execution_count": 9,
   "metadata": {},
   "outputs": [
    {
     "data": {
      "text/html": [
       "<div>\n",
       "<style scoped>\n",
       "    .dataframe tbody tr th:only-of-type {\n",
       "        vertical-align: middle;\n",
       "    }\n",
       "\n",
       "    .dataframe tbody tr th {\n",
       "        vertical-align: top;\n",
       "    }\n",
       "\n",
       "    .dataframe thead th {\n",
       "        text-align: right;\n",
       "    }\n",
       "</style>\n",
       "<table border=\"1\" class=\"dataframe\">\n",
       "  <thead>\n",
       "    <tr style=\"text-align: right;\">\n",
       "      <th></th>\n",
       "      <th>Calendar Year Month</th>\n",
       "      <th>Product Line Desc (M)</th>\n",
       "      <th>Product Class Desc (M)</th>\n",
       "      <th>Sales District Desc (M)</th>\n",
       "      <th>ABC indicator</th>\n",
       "    </tr>\n",
       "  </thead>\n",
       "  <tbody>\n",
       "    <tr>\n",
       "      <th>21956</th>\n",
       "      <td>201812</td>\n",
       "      <td>Switching &amp; Fusing</td>\n",
       "      <td>Turner Interrupters</td>\n",
       "      <td>SOUTH CENTRAL REGION</td>\n",
       "      <td>A</td>\n",
       "    </tr>\n",
       "    <tr>\n",
       "      <th>11866</th>\n",
       "      <td>201812</td>\n",
       "      <td>Arresters</td>\n",
       "      <td>Substation HC Arresters</td>\n",
       "      <td>EuropeMidEastAfrica</td>\n",
       "      <td>C</td>\n",
       "    </tr>\n",
       "    <tr>\n",
       "      <th>3288</th>\n",
       "      <td>201812</td>\n",
       "      <td>Insulators</td>\n",
       "      <td>Transmission Insulators</td>\n",
       "      <td>NORTH CENTRAL REGION</td>\n",
       "      <td>B</td>\n",
       "    </tr>\n",
       "    <tr>\n",
       "      <th>10371</th>\n",
       "      <td>201812</td>\n",
       "      <td>Utility Automation</td>\n",
       "      <td>Carrier Comm (CCM)</td>\n",
       "      <td>North East Region</td>\n",
       "      <td>D</td>\n",
       "    </tr>\n",
       "    <tr>\n",
       "      <th>8770</th>\n",
       "      <td>201812</td>\n",
       "      <td>Safety Products</td>\n",
       "      <td>Resale</td>\n",
       "      <td>SOUTHEAST REGION</td>\n",
       "      <td>C</td>\n",
       "    </tr>\n",
       "  </tbody>\n",
       "</table>\n",
       "</div>"
      ],
      "text/plain": [
       "      Calendar Year Month Product Line Desc (M)   Product Class Desc (M)  \\\n",
       "21956              201812    Switching & Fusing      Turner Interrupters   \n",
       "11866              201812             Arresters  Substation HC Arresters   \n",
       "3288               201812            Insulators  Transmission Insulators   \n",
       "10371              201812    Utility Automation       Carrier Comm (CCM)   \n",
       "8770               201812       Safety Products                   Resale   \n",
       "\n",
       "      Sales District Desc (M)  ABC indicator  \n",
       "21956     SOUTH CENTRAL REGION             A  \n",
       "11866      EuropeMidEastAfrica             C  \n",
       "3288      NORTH CENTRAL REGION             B  \n",
       "10371        North East Region             D  \n",
       "8770          SOUTHEAST REGION             C  "
      ]
     },
     "execution_count": 9,
     "metadata": {},
     "output_type": "execute_result"
    }
   ],
   "source": [
    "t.head()"
   ]
  },
  {
   "cell_type": "code",
   "execution_count": 21,
   "metadata": {},
   "outputs": [],
   "source": [
    "t.to_csv('Shippable_Revenue_Test_Data.csv',index=False)"
   ]
  },
  {
   "cell_type": "code",
   "execution_count": 68,
   "metadata": {},
   "outputs": [
    {
     "data": {
      "text/html": [
       "<div>\n",
       "<style scoped>\n",
       "    .dataframe tbody tr th:only-of-type {\n",
       "        vertical-align: middle;\n",
       "    }\n",
       "\n",
       "    .dataframe tbody tr th {\n",
       "        vertical-align: top;\n",
       "    }\n",
       "\n",
       "    .dataframe thead th {\n",
       "        text-align: right;\n",
       "    }\n",
       "</style>\n",
       "<table border=\"1\" class=\"dataframe\">\n",
       "  <thead>\n",
       "    <tr style=\"text-align: right;\">\n",
       "      <th></th>\n",
       "      <th>Calendar Year Month</th>\n",
       "      <th>Product Line Desc (M)</th>\n",
       "      <th>Product Class Desc (M)</th>\n",
       "      <th>Sales District Desc (M)</th>\n",
       "      <th>ABC indicator</th>\n",
       "    </tr>\n",
       "  </thead>\n",
       "  <tbody>\n",
       "    <tr>\n",
       "      <th>27700</th>\n",
       "      <td>201812</td>\n",
       "      <td>Connectors</td>\n",
       "      <td>Distribution Connectors</td>\n",
       "      <td>Communication - East</td>\n",
       "      <td>1</td>\n",
       "    </tr>\n",
       "    <tr>\n",
       "      <th>17864</th>\n",
       "      <td>201812</td>\n",
       "      <td>Safety Products</td>\n",
       "      <td>Traditional Tools</td>\n",
       "      <td>CANADA UTILITY</td>\n",
       "      <td>C</td>\n",
       "    </tr>\n",
       "    <tr>\n",
       "      <th>9229</th>\n",
       "      <td>201812</td>\n",
       "      <td>Arresters</td>\n",
       "      <td>Distribution Arresters</td>\n",
       "      <td>EuropeMidEastAfrica</td>\n",
       "      <td>C</td>\n",
       "    </tr>\n",
       "    <tr>\n",
       "      <th>2239</th>\n",
       "      <td>201812</td>\n",
       "      <td>Switching &amp; Fusing</td>\n",
       "      <td>Cutouts</td>\n",
       "      <td>SOUTHEAST REGION</td>\n",
       "      <td>1</td>\n",
       "    </tr>\n",
       "    <tr>\n",
       "      <th>6912</th>\n",
       "      <td>201812</td>\n",
       "      <td>Connectors</td>\n",
       "      <td>Substation Connectors</td>\n",
       "      <td>NORTH CENTRAL REGION</td>\n",
       "      <td>A</td>\n",
       "    </tr>\n",
       "  </tbody>\n",
       "</table>\n",
       "</div>"
      ],
      "text/plain": [
       "      Calendar Year Month Product Line Desc (M)   Product Class Desc (M)  \\\n",
       "27700              201812            Connectors  Distribution Connectors   \n",
       "17864              201812       Safety Products        Traditional Tools   \n",
       "9229               201812             Arresters   Distribution Arresters   \n",
       "2239               201812    Switching & Fusing                  Cutouts   \n",
       "6912               201812            Connectors    Substation Connectors   \n",
       "\n",
       "      Sales District Desc (M)  ABC indicator  \n",
       "27700     Communication - East             1  \n",
       "17864           CANADA UTILITY             C  \n",
       "9229       EuropeMidEastAfrica             C  \n",
       "2239          SOUTHEAST REGION             1  \n",
       "6912      NORTH CENTRAL REGION             A  "
      ]
     },
     "execution_count": 68,
     "metadata": {},
     "output_type": "execute_result"
    }
   ],
   "source": [
    "t.head()"
   ]
  },
  {
   "cell_type": "code",
   "execution_count": null,
   "metadata": {},
   "outputs": [],
   "source": []
  }
 ],
 "metadata": {
  "kernelspec": {
   "display_name": "Python 3",
   "language": "python",
   "name": "python3"
  },
  "language_info": {
   "codemirror_mode": {
    "name": "ipython",
    "version": 3
   },
   "file_extension": ".py",
   "mimetype": "text/x-python",
   "name": "python",
   "nbconvert_exporter": "python",
   "pygments_lexer": "ipython3",
   "version": "3.7.0"
  }
 },
 "nbformat": 4,
 "nbformat_minor": 2
}
