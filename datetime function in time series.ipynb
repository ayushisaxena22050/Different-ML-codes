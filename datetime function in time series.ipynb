{
 "cells": [
  {
   "cell_type": "code",
   "execution_count": 1,
   "metadata": {},
   "outputs": [],
   "source": [
    "import pandas as pd\n",
    "ddf=pd.read_excel('/home/ayushi/Downloads/revenue.xlsx',sheet_name='Sheet1', header=1)"
   ]
  },
  {
   "cell_type": "code",
   "execution_count": 2,
   "metadata": {},
   "outputs": [
    {
     "data": {
      "text/html": [
       "<div>\n",
       "<style scoped>\n",
       "    .dataframe tbody tr th:only-of-type {\n",
       "        vertical-align: middle;\n",
       "    }\n",
       "\n",
       "    .dataframe tbody tr th {\n",
       "        vertical-align: top;\n",
       "    }\n",
       "\n",
       "    .dataframe thead th {\n",
       "        text-align: right;\n",
       "    }\n",
       "</style>\n",
       "<table border=\"1\" class=\"dataframe\">\n",
       "  <thead>\n",
       "    <tr style=\"text-align: right;\">\n",
       "      <th></th>\n",
       "      <th>Calendar Year Month</th>\n",
       "      <th>Product Line (M)</th>\n",
       "      <th>Product Class (M)</th>\n",
       "      <th>Sales District Key (M)</th>\n",
       "      <th>ABC indicator</th>\n",
       "      <th>MTO/MTS Flag</th>\n",
       "      <th>USD</th>\n",
       "      <th>USD.1</th>\n",
       "      <th>USD.2</th>\n",
       "      <th>USD.3</th>\n",
       "      <th>USD.4</th>\n",
       "      <th>USD.5</th>\n",
       "      <th>Unnamed: 12</th>\n",
       "    </tr>\n",
       "  </thead>\n",
       "  <tbody>\n",
       "    <tr>\n",
       "      <th>34303</th>\n",
       "      <td>201811</td>\n",
       "      <td>L40</td>\n",
       "      <td>L40L480</td>\n",
       "      <td>611000.0</td>\n",
       "      <td>B</td>\n",
       "      <td>MTS</td>\n",
       "      <td>0.00</td>\n",
       "      <td>0.000000e+00</td>\n",
       "      <td>0.00</td>\n",
       "      <td>1.497380e+04</td>\n",
       "      <td>0.000000e+00</td>\n",
       "      <td>2.370450e+04</td>\n",
       "      <td>3.867830e+04</td>\n",
       "    </tr>\n",
       "    <tr>\n",
       "      <th>34304</th>\n",
       "      <td>201811</td>\n",
       "      <td>L40</td>\n",
       "      <td>L40L480</td>\n",
       "      <td>611000.0</td>\n",
       "      <td>C</td>\n",
       "      <td>MTO</td>\n",
       "      <td>22643.39</td>\n",
       "      <td>5.411990e+03</td>\n",
       "      <td>0.00</td>\n",
       "      <td>1.212445e+05</td>\n",
       "      <td>0.000000e+00</td>\n",
       "      <td>8.516218e+04</td>\n",
       "      <td>2.344621e+05</td>\n",
       "    </tr>\n",
       "    <tr>\n",
       "      <th>34305</th>\n",
       "      <td>201811</td>\n",
       "      <td>L40</td>\n",
       "      <td>L40L480</td>\n",
       "      <td>611000.0</td>\n",
       "      <td>C</td>\n",
       "      <td>MTS</td>\n",
       "      <td>0.00</td>\n",
       "      <td>1.667400e+03</td>\n",
       "      <td>0.00</td>\n",
       "      <td>1.469691e+04</td>\n",
       "      <td>0.000000e+00</td>\n",
       "      <td>2.408240e+03</td>\n",
       "      <td>1.877255e+04</td>\n",
       "    </tr>\n",
       "    <tr>\n",
       "      <th>34306</th>\n",
       "      <td>201811</td>\n",
       "      <td>L40</td>\n",
       "      <td>L40L520</td>\n",
       "      <td>611000.0</td>\n",
       "      <td>1</td>\n",
       "      <td>MTS</td>\n",
       "      <td>0.00</td>\n",
       "      <td>1.047780e+03</td>\n",
       "      <td>0.00</td>\n",
       "      <td>1.859850e+03</td>\n",
       "      <td>0.000000e+00</td>\n",
       "      <td>5.200700e+03</td>\n",
       "      <td>8.108330e+03</td>\n",
       "    </tr>\n",
       "    <tr>\n",
       "      <th>34307</th>\n",
       "      <td>201811</td>\n",
       "      <td>L40</td>\n",
       "      <td>L40L520</td>\n",
       "      <td>611000.0</td>\n",
       "      <td>A</td>\n",
       "      <td>MTS</td>\n",
       "      <td>0.00</td>\n",
       "      <td>0.000000e+00</td>\n",
       "      <td>0.00</td>\n",
       "      <td>4.398940e+03</td>\n",
       "      <td>0.000000e+00</td>\n",
       "      <td>1.693598e+04</td>\n",
       "      <td>2.133492e+04</td>\n",
       "    </tr>\n",
       "    <tr>\n",
       "      <th>34308</th>\n",
       "      <td>201811</td>\n",
       "      <td>L40</td>\n",
       "      <td>L40L520</td>\n",
       "      <td>611000.0</td>\n",
       "      <td>B</td>\n",
       "      <td>MTS</td>\n",
       "      <td>0.00</td>\n",
       "      <td>0.000000e+00</td>\n",
       "      <td>0.00</td>\n",
       "      <td>4.750180e+03</td>\n",
       "      <td>4.238880e+03</td>\n",
       "      <td>1.419948e+04</td>\n",
       "      <td>2.318854e+04</td>\n",
       "    </tr>\n",
       "    <tr>\n",
       "      <th>34309</th>\n",
       "      <td>201811</td>\n",
       "      <td>L40</td>\n",
       "      <td>L40L520</td>\n",
       "      <td>611000.0</td>\n",
       "      <td>C</td>\n",
       "      <td>MTO</td>\n",
       "      <td>27.37</td>\n",
       "      <td>6.154300e+02</td>\n",
       "      <td>0.00</td>\n",
       "      <td>5.534400e+03</td>\n",
       "      <td>5.759670e+03</td>\n",
       "      <td>4.257320e+03</td>\n",
       "      <td>1.619419e+04</td>\n",
       "    </tr>\n",
       "    <tr>\n",
       "      <th>34310</th>\n",
       "      <td>201811</td>\n",
       "      <td>L40</td>\n",
       "      <td>L40L520</td>\n",
       "      <td>611000.0</td>\n",
       "      <td>C</td>\n",
       "      <td>MTS</td>\n",
       "      <td>0.00</td>\n",
       "      <td>1.123700e+02</td>\n",
       "      <td>0.00</td>\n",
       "      <td>0.000000e+00</td>\n",
       "      <td>2.561940e+03</td>\n",
       "      <td>8.825000e+02</td>\n",
       "      <td>3.556810e+03</td>\n",
       "    </tr>\n",
       "    <tr>\n",
       "      <th>34311</th>\n",
       "      <td>201811</td>\n",
       "      <td>L40</td>\n",
       "      <td>L40L520</td>\n",
       "      <td>611000.0</td>\n",
       "      <td>P</td>\n",
       "      <td>MTS</td>\n",
       "      <td>673.90</td>\n",
       "      <td>1.821092e+04</td>\n",
       "      <td>0.00</td>\n",
       "      <td>1.345146e+04</td>\n",
       "      <td>6.739000e+02</td>\n",
       "      <td>3.530668e+04</td>\n",
       "      <td>6.831686e+04</td>\n",
       "    </tr>\n",
       "    <tr>\n",
       "      <th>34312</th>\n",
       "      <td>Overall Result</td>\n",
       "      <td>NaN</td>\n",
       "      <td>NaN</td>\n",
       "      <td>NaN</td>\n",
       "      <td>NaN</td>\n",
       "      <td>NaN</td>\n",
       "      <td>86624523.26</td>\n",
       "      <td>2.537281e+08</td>\n",
       "      <td>10327615.39</td>\n",
       "      <td>7.374291e+08</td>\n",
       "      <td>6.046129e+08</td>\n",
       "      <td>9.124230e+08</td>\n",
       "      <td>2.605145e+09</td>\n",
       "    </tr>\n",
       "  </tbody>\n",
       "</table>\n",
       "</div>"
      ],
      "text/plain": [
       "      Calendar Year Month Product Line (M)  Product Class (M)   \\\n",
       "34303              201811               L40            L40L480   \n",
       "34304              201811               L40            L40L480   \n",
       "34305              201811               L40            L40L480   \n",
       "34306              201811               L40            L40L520   \n",
       "34307              201811               L40            L40L520   \n",
       "34308              201811               L40            L40L520   \n",
       "34309              201811               L40            L40L520   \n",
       "34310              201811               L40            L40L520   \n",
       "34311              201811               L40            L40L520   \n",
       "34312      Overall Result               NaN                NaN   \n",
       "\n",
       "       Sales District Key (M)  ABC indicator MTO/MTS Flag          USD  \\\n",
       "34303                 611000.0             B          MTS         0.00   \n",
       "34304                 611000.0             C          MTO     22643.39   \n",
       "34305                 611000.0             C          MTS         0.00   \n",
       "34306                 611000.0             1          MTS         0.00   \n",
       "34307                 611000.0             A          MTS         0.00   \n",
       "34308                 611000.0             B          MTS         0.00   \n",
       "34309                 611000.0             C          MTO        27.37   \n",
       "34310                 611000.0             C          MTS         0.00   \n",
       "34311                 611000.0             P          MTS       673.90   \n",
       "34312                      NaN           NaN          NaN  86624523.26   \n",
       "\n",
       "              USD.1        USD.2         USD.3         USD.4         USD.5  \\\n",
       "34303  0.000000e+00         0.00  1.497380e+04  0.000000e+00  2.370450e+04   \n",
       "34304  5.411990e+03         0.00  1.212445e+05  0.000000e+00  8.516218e+04   \n",
       "34305  1.667400e+03         0.00  1.469691e+04  0.000000e+00  2.408240e+03   \n",
       "34306  1.047780e+03         0.00  1.859850e+03  0.000000e+00  5.200700e+03   \n",
       "34307  0.000000e+00         0.00  4.398940e+03  0.000000e+00  1.693598e+04   \n",
       "34308  0.000000e+00         0.00  4.750180e+03  4.238880e+03  1.419948e+04   \n",
       "34309  6.154300e+02         0.00  5.534400e+03  5.759670e+03  4.257320e+03   \n",
       "34310  1.123700e+02         0.00  0.000000e+00  2.561940e+03  8.825000e+02   \n",
       "34311  1.821092e+04         0.00  1.345146e+04  6.739000e+02  3.530668e+04   \n",
       "34312  2.537281e+08  10327615.39  7.374291e+08  6.046129e+08  9.124230e+08   \n",
       "\n",
       "        Unnamed: 12  \n",
       "34303  3.867830e+04  \n",
       "34304  2.344621e+05  \n",
       "34305  1.877255e+04  \n",
       "34306  8.108330e+03  \n",
       "34307  2.133492e+04  \n",
       "34308  2.318854e+04  \n",
       "34309  1.619419e+04  \n",
       "34310  3.556810e+03  \n",
       "34311  6.831686e+04  \n",
       "34312  2.605145e+09  "
      ]
     },
     "execution_count": 2,
     "metadata": {},
     "output_type": "execute_result"
    }
   ],
   "source": [
    "ddf.tail(10)"
   ]
  },
  {
   "cell_type": "code",
   "execution_count": 3,
   "metadata": {},
   "outputs": [
    {
     "data": {
      "text/plain": [
       "Index(['Calendar Year Month', 'Product Line (M) ', 'Product Class (M) ',\n",
       "       'Sales District Key (M) ', 'ABC indicator', 'MTO/MTS Flag', 'USD',\n",
       "       'USD.1', 'USD.2', 'USD.3', 'USD.4', 'USD.5', 'Unnamed: 12'],\n",
       "      dtype='object')"
      ]
     },
     "execution_count": 3,
     "metadata": {},
     "output_type": "execute_result"
    }
   ],
   "source": [
    "ddf.columns"
   ]
  },
  {
   "cell_type": "code",
   "execution_count": 4,
   "metadata": {},
   "outputs": [],
   "source": [
    "ddf.drop(['USD','USD.1', 'USD.2', 'USD.3', 'USD.4', 'USD.5'],axis=1,inplace=True)"
   ]
  },
  {
   "cell_type": "code",
   "execution_count": 5,
   "metadata": {},
   "outputs": [],
   "source": [
    "ddf.columns=['Calendar Year Month', 'Product Line (M) ', 'Product Class (M) ',\n",
    "       'Sales District Key (M) ', 'ABC indicator', 'MTO/MTS Flag',\n",
    "       'Total_Backlog']"
   ]
  },
  {
   "cell_type": "code",
   "execution_count": 209,
   "metadata": {},
   "outputs": [
    {
     "name": "stderr",
     "output_type": "stream",
     "text": [
      "/home/ayushi/anaconda3/lib/python3.7/site-packages/ipykernel_launcher.py:3: SettingWithCopyWarning: \n",
      "A value is trying to be set on a copy of a slice from a DataFrame\n",
      "\n",
      "See the caveats in the documentation: http://pandas.pydata.org/pandas-docs/stable/indexing.html#indexing-view-versus-copy\n",
      "  This is separate from the ipykernel package so we can avoid doing imports until\n"
     ]
    }
   ],
   "source": [
    "# l=['L26','L20','L32','L08','L24','L40','L16','L04','L12','L36','A52']\n",
    "# for i in range(len(df)):\n",
    "#     df['Product Line (M) '][i]=random.choice(l)"
   ]
  },
  {
   "cell_type": "code",
   "execution_count": 213,
   "metadata": {},
   "outputs": [
    {
     "name": "stderr",
     "output_type": "stream",
     "text": [
      "/home/ayushi/anaconda3/lib/python3.7/site-packages/ipykernel_launcher.py:3: SettingWithCopyWarning: \n",
      "A value is trying to be set on a copy of a slice from a DataFrame\n",
      "\n",
      "See the caveats in the documentation: http://pandas.pydata.org/pandas-docs/stable/indexing.html#indexing-view-versus-copy\n",
      "  This is separate from the ipykernel package so we can avoid doing imports until\n"
     ]
    }
   ],
   "source": [
    "# for i in range(len(df)):\n",
    "#     if (df['Product Line (M) '][i]=='A52'):\n",
    "#         df['Product Class (M) '][i]='A52A480'"
   ]
  },
  {
   "cell_type": "code",
   "execution_count": 219,
   "metadata": {},
   "outputs": [],
   "source": [
    "# wa=['A52A480']\n",
    "# wb=['L04L005', 'L04L010']\n",
    "# wc=['L08L015', 'L08L020','L08L025', 'L08L030', 'L08L035']\n",
    "# wd=['L12L040', 'L12L045']\n",
    "# we=['L16L105','L16L110', 'L16L175', 'L16L177']\n",
    "# wf=['L20L120', 'L20L125', 'L20L130','L20L135', 'L20L142', 'L20L144''L20L140']\n",
    "# wg=['L24L155', 'L24L160', 'L24L170','L24L290', 'L24L295', 'L24L300', 'L24L305', 'L24L310', 'L24L315',\n",
    "#     'L24L330', 'L24L340', 'L24L350', 'L24L360', 'L24L370',]\n",
    "# wh=['L26L100','L26L145', 'L26L147', 'L26L150', 'L26L165', 'L26L400', 'L26L405','L26L410', 'L26L415']\n",
    "# wi=['L32L100', 'L32L200', 'L32L205', 'L32L210','L32L215']\n",
    "# wj=['L36L225', 'L36L230', 'L36L320']\n",
    "# wk=['L40L235', 'L40L240','L40L440', 'L40L450', 'L40L460', 'L40L480', 'L40L520', 'L40L245']\n"
   ]
  },
  {
   "cell_type": "code",
   "execution_count": 223,
   "metadata": {},
   "outputs": [
    {
     "name": "stderr",
     "output_type": "stream",
     "text": [
      "/home/ayushi/anaconda3/lib/python3.7/site-packages/ipykernel_launcher.py:4: SettingWithCopyWarning: \n",
      "A value is trying to be set on a copy of a slice from a DataFrame\n",
      "\n",
      "See the caveats in the documentation: http://pandas.pydata.org/pandas-docs/stable/indexing.html#indexing-view-versus-copy\n",
      "  after removing the cwd from sys.path.\n"
     ]
    }
   ],
   "source": [
    "# s1=['D']\n",
    "# S2=[1,'A','B','C','D']\n",
    "# S3=[1,'A','B','C','D','P']\n",
    "# S4=['A','B','C','D']\n",
    "# S5=['A','B','C','D','P']\n",
    "# def values(value,l,s):\n",
    "#     for i in range(240):\n",
    "#         if (df['Product Line (M) '][i]=='A52'):\n",
    "#             df['Product Class (M) '][i]=random.choice(l)\n",
    "#             df['ABC indicator'][i]=random.choice(s)\n",
    "# values('L04',wb)\n",
    "# values('L08',wc)\n",
    "# values('L12',wd)\n",
    "# values('L16',we)\n",
    "# values('L20',wf)\n",
    "# values('L24',wg)\n",
    "# values('L26',wh)\n",
    "# values('L32',wi)\n",
    "# values('L36',wj)\n",
    "# values(\"L40\",wk)"
   ]
  },
  {
   "cell_type": "code",
   "execution_count": 13,
   "metadata": {},
   "outputs": [
    {
     "data": {
      "text/plain": [
       "Product Line (M)   Product Class (M) \n",
       "A52                A52A480                                  [D]\n",
       "L04                ##                                       [C]\n",
       "                   L04L005                     [A, B, C, D, ##]\n",
       "                   L04L010                  [1, A, B, C, D, ##]\n",
       "L08                ##                                      [##]\n",
       "                   L08L015                  [1, B, C, A, D, ##]\n",
       "                   L08L020                         [B, C, D, A]\n",
       "                   L08L025                      [A, B, C, 1, D]\n",
       "                   L08L030                         [B, C, A, D]\n",
       "                   L08L035                            [C, B, D]\n",
       "L12                L12L040                      [B, 1, A, C, D]\n",
       "                   L12L045                      [C, D, 1, A, B]\n",
       "L16                ##                                   [##, C]\n",
       "                   L16L105               [##, 1, A, B, C, D, P]\n",
       "                   L16L110               [1, A, B, C, D, P, ##]\n",
       "                   L16L175               [B, C, 1, A, D, P, ##]\n",
       "                   L16L177                  [A, B, C, P, ##, D]\n",
       "L20                ##                                   [##, D]\n",
       "                   L20L120               [1, A, B, C, D, P, ##]\n",
       "                   L20L125               [B, C, P, ##, 1, A, D]\n",
       "                   L20L130                         [A, B, C, D]\n",
       "                   L20L135               [C, 1, A, B, D, P, ##]\n",
       "                   L20L140                            [B, C, D]\n",
       "                   L20L142                      [A, B, C, P, D]\n",
       "                   L20L144                  [B, A, P, C, D, ##]\n",
       "L24                ##                                   [B, ##]\n",
       "                   L24L155                         [B, C, D, A]\n",
       "                   L24L160                      [A, C, D, B, P]\n",
       "                   L24L170                               [C, D]\n",
       "                   L24L290                         [A, B, C, D]\n",
       "                                                  ...          \n",
       "                   L24L350                         [B, C, D, A]\n",
       "                   L24L360                         [B, C, A, D]\n",
       "                   L24L370                           [D, ##, C]\n",
       "L26                ##                                 [B, D, C]\n",
       "                   L26L100                  [##, C, D, B, A, P]\n",
       "                   L26L145                  [1, A, B, C, D, ##]\n",
       "                   L26L147                      [1, A, B, C, D]\n",
       "                   L26L150                  [1, A, B, C, D, ##]\n",
       "                   L26L165                     [A, B, C, D, ##]\n",
       "                   L26L400                        [##, C, D, B]\n",
       "                   L26L405                           [##, C, D]\n",
       "                   L26L410                     [C, D, A, B, ##]\n",
       "                   L26L415                     [##, C, D, A, B]\n",
       "L32                L32L100                         [1, A, B, C]\n",
       "                   L32L200                            [A, B, C]\n",
       "                   L32L205               [1, A, B, C, D, ##, P]\n",
       "                   L32L210               [##, 1, A, B, C, D, P]\n",
       "                   L32L215               [##, 1, A, B, C, D, P]\n",
       "L36                L36L225                         [A, B, C, D]\n",
       "                   L36L230                     [C, D, ##, A, B]\n",
       "                   L36L320                        [C, B, D, ##]\n",
       "L40                ##                                       [C]\n",
       "                   L40L235                            [1, C, D]\n",
       "                   L40L240                               [C, D]\n",
       "                   L40L245                           [##, C, D]\n",
       "                   L40L440               [1, A, B, C, P, ##, D]\n",
       "                   L40L450                  [A, C, B, 1, D, ##]\n",
       "                   L40L460                   [B, C, A, P, 1, D]\n",
       "                   L40L480                  [C, ##, A, B, D, P]\n",
       "                   L40L520                      [1, A, B, C, P]\n",
       "Name: ABC indicator, Length: 67, dtype: object"
      ]
     },
     "execution_count": 13,
     "metadata": {},
     "output_type": "execute_result"
    }
   ],
   "source": [
    "category=ddf.groupby([ddf['Product Line (M) '],ddf['Product Class (M) ']])['ABC indicator'].unique()\n",
    "category"
   ]
  },
  {
   "cell_type": "code",
   "execution_count": 246,
   "metadata": {},
   "outputs": [
    {
     "data": {
      "text/html": [
       "<div>\n",
       "<style scoped>\n",
       "    .dataframe tbody tr th:only-of-type {\n",
       "        vertical-align: middle;\n",
       "    }\n",
       "\n",
       "    .dataframe tbody tr th {\n",
       "        vertical-align: top;\n",
       "    }\n",
       "\n",
       "    .dataframe thead th {\n",
       "        text-align: right;\n",
       "    }\n",
       "</style>\n",
       "<table border=\"1\" class=\"dataframe\">\n",
       "  <thead>\n",
       "    <tr style=\"text-align: right;\">\n",
       "      <th></th>\n",
       "      <th>Calendar Year Month</th>\n",
       "      <th>Product Line (M)</th>\n",
       "      <th>Product Class (M)</th>\n",
       "      <th>Sales District Key (M)</th>\n",
       "      <th>ABC indicator</th>\n",
       "      <th>MTO/MTS Flag</th>\n",
       "      <th>Total_Backlog</th>\n",
       "    </tr>\n",
       "  </thead>\n",
       "  <tbody>\n",
       "    <tr>\n",
       "      <th>0</th>\n",
       "      <td>201701</td>\n",
       "      <td>A52</td>\n",
       "      <td>A52A480</td>\n",
       "      <td>603000.0</td>\n",
       "      <td>D</td>\n",
       "      <td>MTO</td>\n",
       "      <td>379.86</td>\n",
       "    </tr>\n",
       "    <tr>\n",
       "      <th>1</th>\n",
       "      <td>201701</td>\n",
       "      <td>L04</td>\n",
       "      <td>L04L005</td>\n",
       "      <td>601000.0</td>\n",
       "      <td>A</td>\n",
       "      <td>MTO</td>\n",
       "      <td>36965.92</td>\n",
       "    </tr>\n",
       "    <tr>\n",
       "      <th>2</th>\n",
       "      <td>201701</td>\n",
       "      <td>L04</td>\n",
       "      <td>L04L005</td>\n",
       "      <td>601000.0</td>\n",
       "      <td>A</td>\n",
       "      <td>MTS</td>\n",
       "      <td>54639.02</td>\n",
       "    </tr>\n",
       "    <tr>\n",
       "      <th>3</th>\n",
       "      <td>201701</td>\n",
       "      <td>L04</td>\n",
       "      <td>L04L005</td>\n",
       "      <td>601000.0</td>\n",
       "      <td>B</td>\n",
       "      <td>MTO</td>\n",
       "      <td>135806.37</td>\n",
       "    </tr>\n",
       "    <tr>\n",
       "      <th>4</th>\n",
       "      <td>201701</td>\n",
       "      <td>L04</td>\n",
       "      <td>L04L005</td>\n",
       "      <td>601000.0</td>\n",
       "      <td>C</td>\n",
       "      <td>MTO</td>\n",
       "      <td>541731.98</td>\n",
       "    </tr>\n",
       "  </tbody>\n",
       "</table>\n",
       "</div>"
      ],
      "text/plain": [
       "  Calendar Year Month Product Line (M)  Product Class (M)   \\\n",
       "0              201701               A52            A52A480   \n",
       "1              201701               L04            L04L005   \n",
       "2              201701               L04            L04L005   \n",
       "3              201701               L04            L04L005   \n",
       "4              201701               L04            L04L005   \n",
       "\n",
       "   Sales District Key (M)  ABC indicator MTO/MTS Flag  Total_Backlog  \n",
       "0                 603000.0             D          MTO         379.86  \n",
       "1                 601000.0             A          MTO       36965.92  \n",
       "2                 601000.0             A          MTS       54639.02  \n",
       "3                 601000.0             B          MTO      135806.37  \n",
       "4                 601000.0             C          MTO      541731.98  "
      ]
     },
     "execution_count": 246,
     "metadata": {},
     "output_type": "execute_result"
    }
   ],
   "source": [
    "# ddf.head()"
   ]
  },
  {
   "cell_type": "code",
   "execution_count": 144,
   "metadata": {},
   "outputs": [],
   "source": [
    "# w=['A52A480', 'L04L005', 'L04L010','L08L015', 'L08L020',\n",
    "#        'L08L025', 'L08L030', 'L08L035', 'L12L040', 'L12L045', 'L16L105',\n",
    "#        'L16L110', 'L16L175', 'L16L177', 'L20L120', 'L20L125', 'L20L130',\n",
    "#        'L20L135', 'L20L142', 'L20L144', 'L24L155', 'L24L160', 'L24L170',\n",
    "#        'L24L290', 'L24L295', 'L24L300', 'L24L305', 'L24L310', 'L24L315',\n",
    "#        'L24L330', 'L24L340', 'L24L350', 'L24L360', 'L24L370', 'L26L100',\n",
    "#        'L26L145', 'L26L147', 'L26L150', 'L26L165', 'L26L400', 'L26L405',\n",
    "#        'L26L410', 'L26L415', 'L32L100', 'L32L200', 'L32L205', 'L32L210',\n",
    "#        'L32L215', 'L36L225', 'L36L230', 'L36L320', 'L40L235', 'L40L240',\n",
    "#        'L40L440', 'L40L450', 'L40L460', 'L40L480', 'L40L520', 'L20L140',\n",
    "#        'L40L245']"
   ]
  },
  {
   "cell_type": "code",
   "execution_count": null,
   "metadata": {},
   "outputs": [],
   "source": [
    "# wa=['A52A480']\n",
    "# wb=['L04L005', 'L04L010']\n",
    "# wc=['L08L015', 'L08L020','L08L025', 'L08L030', 'L08L035']\n",
    "# wd=['L12L040', 'L12L045']\n",
    "# we=['L16L105','L16L110', 'L16L175', 'L16L177']\n",
    "# wf=['L20L120', 'L20L125', 'L20L130','L20L135', 'L20L142', 'L20L144''L20L140']\n",
    "# wg=['L24L155', 'L24L160', 'L24L170','L24L290', 'L24L295', 'L24L300', 'L24L305', 'L24L310', 'L24L315',\n",
    "#     'L24L330', 'L24L340', 'L24L350', 'L24L360', 'L24L370',]\n",
    "# wh=['L26L100','L26L145', 'L26L147', 'L26L150', 'L26L165', 'L26L400', 'L26L405','L26L410', 'L26L415']\n",
    "# wi=['L32L100', 'L32L200', 'L32L205', 'L32L210','L32L215']\n",
    "# wj=['L36L225', 'L36L230', 'L36L320']\n",
    "# wk=['L40L235', 'L40L240','L40L440', 'L40L450', 'L40L460', 'L40L480', 'L40L520', 'L40L245']\n"
   ]
  },
  {
   "cell_type": "code",
   "execution_count": 154,
   "metadata": {},
   "outputs": [
    {
     "name": "stderr",
     "output_type": "stream",
     "text": [
      "/home/ayushi/anaconda3/lib/python3.7/site-packages/ipykernel_launcher.py:3: SettingWithCopyWarning: \n",
      "A value is trying to be set on a copy of a slice from a DataFrame\n",
      "\n",
      "See the caveats in the documentation: http://pandas.pydata.org/pandas-docs/stable/indexing.html#indexing-view-versus-copy\n",
      "  This is separate from the ipykernel package so we can avoid doing imports until\n",
      "/home/ayushi/anaconda3/lib/python3.7/site-packages/pandas/core/indexing.py:189: SettingWithCopyWarning: \n",
      "A value is trying to be set on a copy of a slice from a DataFrame\n",
      "\n",
      "See the caveats in the documentation: http://pandas.pydata.org/pandas-docs/stable/indexing.html#indexing-view-versus-copy\n",
      "  self._setitem_with_indexer(indexer, value)\n"
     ]
    }
   ],
   "source": [
    "# df['Product Class (M) ']=1\n",
    "# for i in range(len(df)):\n",
    "#     df['Product Class (M) '][i]=random.choice(w)"
   ]
  },
  {
   "cell_type": "code",
   "execution_count": 15,
   "metadata": {},
   "outputs": [
    {
     "data": {
      "text/plain": [
       "array([11678, 20107, 33792, ..., 23959, 19682, 15892])"
      ]
     },
     "execution_count": 15,
     "metadata": {},
     "output_type": "execute_result"
    }
   ],
   "source": [
    "import numpy as np\n",
    "num=np.random.randint(1,len(ddf), size=5000)\n",
    "num\n"
   ]
  },
  {
   "cell_type": "code",
   "execution_count": 16,
   "metadata": {},
   "outputs": [],
   "source": [
    "t=ddf.iloc[num]"
   ]
  },
  {
   "cell_type": "code",
   "execution_count": 17,
   "metadata": {},
   "outputs": [
    {
     "data": {
      "text/html": [
       "<div>\n",
       "<style scoped>\n",
       "    .dataframe tbody tr th:only-of-type {\n",
       "        vertical-align: middle;\n",
       "    }\n",
       "\n",
       "    .dataframe tbody tr th {\n",
       "        vertical-align: top;\n",
       "    }\n",
       "\n",
       "    .dataframe thead th {\n",
       "        text-align: right;\n",
       "    }\n",
       "</style>\n",
       "<table border=\"1\" class=\"dataframe\">\n",
       "  <thead>\n",
       "    <tr style=\"text-align: right;\">\n",
       "      <th></th>\n",
       "      <th>Calendar Year Month</th>\n",
       "      <th>Product Line (M)</th>\n",
       "      <th>Product Class (M)</th>\n",
       "      <th>Sales District Key (M)</th>\n",
       "      <th>ABC indicator</th>\n",
       "      <th>MTO/MTS Flag</th>\n",
       "      <th>Total_Backlog</th>\n",
       "    </tr>\n",
       "  </thead>\n",
       "  <tbody>\n",
       "    <tr>\n",
       "      <th>11678</th>\n",
       "      <td>201708</td>\n",
       "      <td>L32</td>\n",
       "      <td>L32L205</td>\n",
       "      <td>609300.0</td>\n",
       "      <td>B</td>\n",
       "      <td>MTS</td>\n",
       "      <td>67064.00</td>\n",
       "    </tr>\n",
       "    <tr>\n",
       "      <th>20107</th>\n",
       "      <td>201802</td>\n",
       "      <td>L24</td>\n",
       "      <td>L24L290</td>\n",
       "      <td>602000.0</td>\n",
       "      <td>A</td>\n",
       "      <td>MTO</td>\n",
       "      <td>2564.80</td>\n",
       "    </tr>\n",
       "    <tr>\n",
       "      <th>33792</th>\n",
       "      <td>201811</td>\n",
       "      <td>L26</td>\n",
       "      <td>L26L150</td>\n",
       "      <td>609500.0</td>\n",
       "      <td>D</td>\n",
       "      <td>MTO</td>\n",
       "      <td>9089.77</td>\n",
       "    </tr>\n",
       "    <tr>\n",
       "      <th>18726</th>\n",
       "      <td>201801</td>\n",
       "      <td>L24</td>\n",
       "      <td>L24L330</td>\n",
       "      <td>600000.0</td>\n",
       "      <td>C</td>\n",
       "      <td>MTO</td>\n",
       "      <td>0.00</td>\n",
       "    </tr>\n",
       "    <tr>\n",
       "      <th>11546</th>\n",
       "      <td>201708</td>\n",
       "      <td>L26</td>\n",
       "      <td>L26L165</td>\n",
       "      <td>605000.0</td>\n",
       "      <td>B</td>\n",
       "      <td>MTO</td>\n",
       "      <td>63161.22</td>\n",
       "    </tr>\n",
       "  </tbody>\n",
       "</table>\n",
       "</div>"
      ],
      "text/plain": [
       "      Calendar Year Month Product Line (M)  Product Class (M)   \\\n",
       "11678              201708               L32            L32L205   \n",
       "20107              201802               L24            L24L290   \n",
       "33792              201811               L26            L26L150   \n",
       "18726              201801               L24            L24L330   \n",
       "11546              201708               L26            L26L165   \n",
       "\n",
       "       Sales District Key (M)  ABC indicator MTO/MTS Flag  Total_Backlog  \n",
       "11678                 609300.0             B          MTS       67064.00  \n",
       "20107                 602000.0             A          MTO        2564.80  \n",
       "33792                 609500.0             D          MTO        9089.77  \n",
       "18726                 600000.0             C          MTO           0.00  \n",
       "11546                 605000.0             B          MTO       63161.22  "
      ]
     },
     "execution_count": 17,
     "metadata": {},
     "output_type": "execute_result"
    }
   ],
   "source": [
    "t.head()"
   ]
  },
  {
   "cell_type": "code",
   "execution_count": 26,
   "metadata": {},
   "outputs": [
    {
     "data": {
      "text/plain": [
       "5000"
      ]
     },
     "execution_count": 26,
     "metadata": {},
     "output_type": "execute_result"
    }
   ],
   "source": [
    "len(t)"
   ]
  },
  {
   "cell_type": "code",
   "execution_count": 33,
   "metadata": {},
   "outputs": [
    {
     "name": "stderr",
     "output_type": "stream",
     "text": [
      "/home/ayushi/anaconda3/lib/python3.7/site-packages/ipykernel_launcher.py:4: SettingWithCopyWarning: \n",
      "A value is trying to be set on a copy of a slice from a DataFrame.\n",
      "Try using .loc[row_indexer,col_indexer] = value instead\n",
      "\n",
      "See the caveats in the documentation: http://pandas.pydata.org/pandas-docs/stable/indexing.html#indexing-view-versus-copy\n",
      "  after removing the cwd from sys.path.\n",
      "/home/ayushi/anaconda3/lib/python3.7/site-packages/pandas/core/frame.py:3697: SettingWithCopyWarning: \n",
      "A value is trying to be set on a copy of a slice from a DataFrame\n",
      "\n",
      "See the caveats in the documentation: http://pandas.pydata.org/pandas-docs/stable/indexing.html#indexing-view-versus-copy\n",
      "  errors=errors)\n"
     ]
    }
   ],
   "source": [
    "import pandas as pd \n",
    "times = pd.date_range(start='2018-12',end='2019-11', periods=5000)\n",
    "newformat=times.strftime('%Y%m')\n",
    "t['Calendar Year Month']=newformat\n",
    "t.drop('Total_Backlog',inplace=True,axis=1)"
   ]
  },
  {
   "cell_type": "code",
   "execution_count": 35,
   "metadata": {},
   "outputs": [],
   "source": [
    "t.to_csv('Sample1.csv')"
   ]
  },
  {
   "cell_type": "code",
   "execution_count": 151,
   "metadata": {},
   "outputs": [],
   "source": [
    "# z=[603000., 601000., 602000., 604000., 605000., 606200., 609100.,\n",
    "#        609200., 609300., 609700., 600000., 606100., 609500., 609000.,\n",
    "#        607000., 609050., 609900., 608200., 611000., 606300., 640000.,\n",
    "#        627000., 627100., 627200., 609400.]"
   ]
  },
  {
   "cell_type": "code",
   "execution_count": 156,
   "metadata": {},
   "outputs": [
    {
     "name": "stderr",
     "output_type": "stream",
     "text": [
      "/home/ayushi/anaconda3/lib/python3.7/site-packages/ipykernel_launcher.py:3: SettingWithCopyWarning: \n",
      "A value is trying to be set on a copy of a slice from a DataFrame\n",
      "\n",
      "See the caveats in the documentation: http://pandas.pydata.org/pandas-docs/stable/indexing.html#indexing-view-versus-copy\n",
      "  This is separate from the ipykernel package so we can avoid doing imports until\n"
     ]
    },
    {
     "data": {
      "text/html": [
       "<div>\n",
       "<style scoped>\n",
       "    .dataframe tbody tr th:only-of-type {\n",
       "        vertical-align: middle;\n",
       "    }\n",
       "\n",
       "    .dataframe tbody tr th {\n",
       "        vertical-align: top;\n",
       "    }\n",
       "\n",
       "    .dataframe thead th {\n",
       "        text-align: right;\n",
       "    }\n",
       "</style>\n",
       "<table border=\"1\" class=\"dataframe\">\n",
       "  <thead>\n",
       "    <tr style=\"text-align: right;\">\n",
       "      <th></th>\n",
       "      <th>Calendar Year Month</th>\n",
       "      <th>Product Line (M)</th>\n",
       "      <th>Product Class (M)</th>\n",
       "      <th>Sales District Key (M)</th>\n",
       "    </tr>\n",
       "  </thead>\n",
       "  <tbody>\n",
       "    <tr>\n",
       "      <th>0</th>\n",
       "      <td>201812</td>\n",
       "      <td>L16</td>\n",
       "      <td>L20L125</td>\n",
       "      <td>603000</td>\n",
       "    </tr>\n",
       "    <tr>\n",
       "      <th>1</th>\n",
       "      <td>201812</td>\n",
       "      <td>L36</td>\n",
       "      <td>L08L030</td>\n",
       "      <td>600000</td>\n",
       "    </tr>\n",
       "    <tr>\n",
       "      <th>2</th>\n",
       "      <td>201812</td>\n",
       "      <td>L36</td>\n",
       "      <td>L26L405</td>\n",
       "      <td>600000</td>\n",
       "    </tr>\n",
       "    <tr>\n",
       "      <th>3</th>\n",
       "      <td>201812</td>\n",
       "      <td>L24</td>\n",
       "      <td>L26L400</td>\n",
       "      <td>611000</td>\n",
       "    </tr>\n",
       "    <tr>\n",
       "      <th>4</th>\n",
       "      <td>201812</td>\n",
       "      <td>L32</td>\n",
       "      <td>L24L330</td>\n",
       "      <td>606200</td>\n",
       "    </tr>\n",
       "  </tbody>\n",
       "</table>\n",
       "</div>"
      ],
      "text/plain": [
       "  Calendar Year Month Product Line (M)  Product Class (M)   \\\n",
       "0              201812               L16            L20L125   \n",
       "1              201812               L36            L08L030   \n",
       "2              201812               L36            L26L405   \n",
       "3              201812               L24            L26L400   \n",
       "4              201812               L32            L24L330   \n",
       "\n",
       "   Sales District Key (M)   \n",
       "0                   603000  \n",
       "1                   600000  \n",
       "2                   600000  \n",
       "3                   611000  \n",
       "4                   606200  "
      ]
     },
     "execution_count": 156,
     "metadata": {},
     "output_type": "execute_result"
    }
   ],
   "source": [
    "# df['Sales District Key (M) ']=1\n",
    "for i in range(len(df)):\n",
    "    df['Sales District Key (M) '][i]=random.choice(z)\n",
    "df.head()"
   ]
  },
  {
   "cell_type": "code",
   "execution_count": 157,
   "metadata": {},
   "outputs": [
    {
     "data": {
      "text/plain": [
       "array(['D', 'A', 'B', 'C', '1', '##', 'P', nan], dtype=object)"
      ]
     },
     "execution_count": 157,
     "metadata": {},
     "output_type": "execute_result"
    }
   ],
   "source": [
    "ddf['ABC indicator'].unique()"
   ]
  },
  {
   "cell_type": "code",
   "execution_count": 159,
   "metadata": {},
   "outputs": [
    {
     "name": "stderr",
     "output_type": "stream",
     "text": [
      "/home/ayushi/anaconda3/lib/python3.7/site-packages/ipykernel_launcher.py:4: SettingWithCopyWarning: \n",
      "A value is trying to be set on a copy of a slice from a DataFrame\n",
      "\n",
      "See the caveats in the documentation: http://pandas.pydata.org/pandas-docs/stable/indexing.html#indexing-view-versus-copy\n",
      "  after removing the cwd from sys.path.\n"
     ]
    },
    {
     "data": {
      "text/html": [
       "<div>\n",
       "<style scoped>\n",
       "    .dataframe tbody tr th:only-of-type {\n",
       "        vertical-align: middle;\n",
       "    }\n",
       "\n",
       "    .dataframe tbody tr th {\n",
       "        vertical-align: top;\n",
       "    }\n",
       "\n",
       "    .dataframe thead th {\n",
       "        text-align: right;\n",
       "    }\n",
       "</style>\n",
       "<table border=\"1\" class=\"dataframe\">\n",
       "  <thead>\n",
       "    <tr style=\"text-align: right;\">\n",
       "      <th></th>\n",
       "      <th>Calendar Year Month</th>\n",
       "      <th>Product Line (M)</th>\n",
       "      <th>Product Class (M)</th>\n",
       "      <th>Sales District Key (M)</th>\n",
       "      <th>ABC indicator</th>\n",
       "    </tr>\n",
       "  </thead>\n",
       "  <tbody>\n",
       "    <tr>\n",
       "      <th>0</th>\n",
       "      <td>201812</td>\n",
       "      <td>L16</td>\n",
       "      <td>L20L125</td>\n",
       "      <td>603000</td>\n",
       "      <td>B</td>\n",
       "    </tr>\n",
       "    <tr>\n",
       "      <th>1</th>\n",
       "      <td>201812</td>\n",
       "      <td>L36</td>\n",
       "      <td>L08L030</td>\n",
       "      <td>600000</td>\n",
       "      <td>P</td>\n",
       "    </tr>\n",
       "    <tr>\n",
       "      <th>2</th>\n",
       "      <td>201812</td>\n",
       "      <td>L36</td>\n",
       "      <td>L26L405</td>\n",
       "      <td>600000</td>\n",
       "      <td>A</td>\n",
       "    </tr>\n",
       "    <tr>\n",
       "      <th>3</th>\n",
       "      <td>201812</td>\n",
       "      <td>L24</td>\n",
       "      <td>L26L400</td>\n",
       "      <td>611000</td>\n",
       "      <td>A</td>\n",
       "    </tr>\n",
       "    <tr>\n",
       "      <th>4</th>\n",
       "      <td>201812</td>\n",
       "      <td>L32</td>\n",
       "      <td>L24L330</td>\n",
       "      <td>606200</td>\n",
       "      <td>P</td>\n",
       "    </tr>\n",
       "  </tbody>\n",
       "</table>\n",
       "</div>"
      ],
      "text/plain": [
       "  Calendar Year Month Product Line (M)  Product Class (M)   \\\n",
       "0              201812               L16            L20L125   \n",
       "1              201812               L36            L08L030   \n",
       "2              201812               L36            L26L405   \n",
       "3              201812               L24            L26L400   \n",
       "4              201812               L32            L24L330   \n",
       "\n",
       "   Sales District Key (M)  ABC indicator  \n",
       "0                   603000             B  \n",
       "1                   600000             P  \n",
       "2                   600000             A  \n",
       "3                   611000             A  \n",
       "4                   606200             P  "
      ]
     },
     "execution_count": 159,
     "metadata": {},
     "output_type": "execute_result"
    }
   ],
   "source": [
    "u=['D', 'A', 'B', 'C', '1', 'P']\n",
    "df['ABC indicator']='A'\n",
    "for i in range(len(df)):\n",
    "    df['ABC indicator'][i]=random.choice(u)\n",
    "df.head()"
   ]
  },
  {
   "cell_type": "code",
   "execution_count": 160,
   "metadata": {},
   "outputs": [
    {
     "data": {
      "text/plain": [
       "array(['MTO', 'MTS', nan], dtype=object)"
      ]
     },
     "execution_count": 160,
     "metadata": {},
     "output_type": "execute_result"
    }
   ],
   "source": [
    "ddf['MTO/MTS Flag'].unique()"
   ]
  },
  {
   "cell_type": "code",
   "execution_count": 161,
   "metadata": {},
   "outputs": [],
   "source": [
    "m=['MTO', 'MTS']"
   ]
  },
  {
   "cell_type": "code",
   "execution_count": 162,
   "metadata": {},
   "outputs": [
    {
     "name": "stderr",
     "output_type": "stream",
     "text": [
      "/home/ayushi/anaconda3/lib/python3.7/site-packages/ipykernel_launcher.py:3: SettingWithCopyWarning: \n",
      "A value is trying to be set on a copy of a slice from a DataFrame\n",
      "\n",
      "See the caveats in the documentation: http://pandas.pydata.org/pandas-docs/stable/indexing.html#indexing-view-versus-copy\n",
      "  This is separate from the ipykernel package so we can avoid doing imports until\n"
     ]
    },
    {
     "data": {
      "text/html": [
       "<div>\n",
       "<style scoped>\n",
       "    .dataframe tbody tr th:only-of-type {\n",
       "        vertical-align: middle;\n",
       "    }\n",
       "\n",
       "    .dataframe tbody tr th {\n",
       "        vertical-align: top;\n",
       "    }\n",
       "\n",
       "    .dataframe thead th {\n",
       "        text-align: right;\n",
       "    }\n",
       "</style>\n",
       "<table border=\"1\" class=\"dataframe\">\n",
       "  <thead>\n",
       "    <tr style=\"text-align: right;\">\n",
       "      <th></th>\n",
       "      <th>Calendar Year Month</th>\n",
       "      <th>Product Line (M)</th>\n",
       "      <th>Product Class (M)</th>\n",
       "      <th>Sales District Key (M)</th>\n",
       "      <th>ABC indicator</th>\n",
       "      <th>MTO/MTS Flag</th>\n",
       "    </tr>\n",
       "  </thead>\n",
       "  <tbody>\n",
       "    <tr>\n",
       "      <th>0</th>\n",
       "      <td>201812</td>\n",
       "      <td>L16</td>\n",
       "      <td>L20L125</td>\n",
       "      <td>603000</td>\n",
       "      <td>B</td>\n",
       "      <td>MTS</td>\n",
       "    </tr>\n",
       "    <tr>\n",
       "      <th>1</th>\n",
       "      <td>201812</td>\n",
       "      <td>L36</td>\n",
       "      <td>L08L030</td>\n",
       "      <td>600000</td>\n",
       "      <td>P</td>\n",
       "      <td>MTO</td>\n",
       "    </tr>\n",
       "    <tr>\n",
       "      <th>2</th>\n",
       "      <td>201812</td>\n",
       "      <td>L36</td>\n",
       "      <td>L26L405</td>\n",
       "      <td>600000</td>\n",
       "      <td>A</td>\n",
       "      <td>MTO</td>\n",
       "    </tr>\n",
       "    <tr>\n",
       "      <th>3</th>\n",
       "      <td>201812</td>\n",
       "      <td>L24</td>\n",
       "      <td>L26L400</td>\n",
       "      <td>611000</td>\n",
       "      <td>A</td>\n",
       "      <td>MTO</td>\n",
       "    </tr>\n",
       "    <tr>\n",
       "      <th>4</th>\n",
       "      <td>201812</td>\n",
       "      <td>L32</td>\n",
       "      <td>L24L330</td>\n",
       "      <td>606200</td>\n",
       "      <td>P</td>\n",
       "      <td>MTO</td>\n",
       "    </tr>\n",
       "  </tbody>\n",
       "</table>\n",
       "</div>"
      ],
      "text/plain": [
       "  Calendar Year Month Product Line (M)  Product Class (M)   \\\n",
       "0              201812               L16            L20L125   \n",
       "1              201812               L36            L08L030   \n",
       "2              201812               L36            L26L405   \n",
       "3              201812               L24            L26L400   \n",
       "4              201812               L32            L24L330   \n",
       "\n",
       "   Sales District Key (M)  ABC indicator MTO/MTS Flag  \n",
       "0                   603000             B          MTS  \n",
       "1                   600000             P          MTO  \n",
       "2                   600000             A          MTO  \n",
       "3                   611000             A          MTO  \n",
       "4                   606200             P          MTO  "
      ]
     },
     "execution_count": 162,
     "metadata": {},
     "output_type": "execute_result"
    }
   ],
   "source": [
    "df['MTO/MTS Flag']='A'\n",
    "for i in range(len(df)):\n",
    "    df['MTO/MTS Flag'][i]=random.choice(m)\n",
    "df.head()"
   ]
  },
  {
   "cell_type": "code",
   "execution_count": 177,
   "metadata": {},
   "outputs": [],
   "source": [
    "df['Total_Backlog']"
   ]
  },
  {
   "cell_type": "code",
   "execution_count": 198,
   "metadata": {},
   "outputs": [
    {
     "name": "stderr",
     "output_type": "stream",
     "text": [
      "/home/ayushi/anaconda3/lib/python3.7/site-packages/ipykernel_launcher.py:4: SettingWithCopyWarning: \n",
      "A value is trying to be set on a copy of a slice from a DataFrame\n",
      "\n",
      "See the caveats in the documentation: http://pandas.pydata.org/pandas-docs/stable/indexing.html#indexing-view-versus-copy\n",
      "  after removing the cwd from sys.path.\n"
     ]
    },
    {
     "data": {
      "text/html": [
       "<div>\n",
       "<style scoped>\n",
       "    .dataframe tbody tr th:only-of-type {\n",
       "        vertical-align: middle;\n",
       "    }\n",
       "\n",
       "    .dataframe tbody tr th {\n",
       "        vertical-align: top;\n",
       "    }\n",
       "\n",
       "    .dataframe thead th {\n",
       "        text-align: right;\n",
       "    }\n",
       "</style>\n",
       "<table border=\"1\" class=\"dataframe\">\n",
       "  <thead>\n",
       "    <tr style=\"text-align: right;\">\n",
       "      <th></th>\n",
       "      <th>Calendar Year Month</th>\n",
       "      <th>Product Line (M)</th>\n",
       "      <th>Product Class (M)</th>\n",
       "      <th>Sales District Key (M)</th>\n",
       "      <th>ABC indicator</th>\n",
       "      <th>MTO/MTS Flag</th>\n",
       "      <th>Total_Backlog</th>\n",
       "    </tr>\n",
       "  </thead>\n",
       "  <tbody>\n",
       "    <tr>\n",
       "      <th>0</th>\n",
       "      <td>201812</td>\n",
       "      <td>L16</td>\n",
       "      <td>L20L125</td>\n",
       "      <td>603000</td>\n",
       "      <td>B</td>\n",
       "      <td>MTS</td>\n",
       "      <td>581</td>\n",
       "    </tr>\n",
       "    <tr>\n",
       "      <th>1</th>\n",
       "      <td>201812</td>\n",
       "      <td>L36</td>\n",
       "      <td>L08L030</td>\n",
       "      <td>600000</td>\n",
       "      <td>P</td>\n",
       "      <td>MTO</td>\n",
       "      <td>6322</td>\n",
       "    </tr>\n",
       "    <tr>\n",
       "      <th>2</th>\n",
       "      <td>201812</td>\n",
       "      <td>L36</td>\n",
       "      <td>L26L405</td>\n",
       "      <td>600000</td>\n",
       "      <td>A</td>\n",
       "      <td>MTO</td>\n",
       "      <td>8724</td>\n",
       "    </tr>\n",
       "    <tr>\n",
       "      <th>3</th>\n",
       "      <td>201812</td>\n",
       "      <td>L24</td>\n",
       "      <td>L26L400</td>\n",
       "      <td>611000</td>\n",
       "      <td>A</td>\n",
       "      <td>MTO</td>\n",
       "      <td>1536</td>\n",
       "    </tr>\n",
       "    <tr>\n",
       "      <th>4</th>\n",
       "      <td>201812</td>\n",
       "      <td>L32</td>\n",
       "      <td>L24L330</td>\n",
       "      <td>606200</td>\n",
       "      <td>P</td>\n",
       "      <td>MTO</td>\n",
       "      <td>433</td>\n",
       "    </tr>\n",
       "  </tbody>\n",
       "</table>\n",
       "</div>"
      ],
      "text/plain": [
       "  Calendar Year Month Product Line (M)  Product Class (M)   \\\n",
       "0              201812               L16            L20L125   \n",
       "1              201812               L36            L08L030   \n",
       "2              201812               L36            L26L405   \n",
       "3              201812               L24            L26L400   \n",
       "4              201812               L32            L24L330   \n",
       "\n",
       "   Sales District Key (M)  ABC indicator MTO/MTS Flag  Total_Backlog  \n",
       "0                   603000             B          MTS            581  \n",
       "1                   600000             P          MTO           6322  \n",
       "2                   600000             A          MTO           8724  \n",
       "3                   611000             A          MTO           1536  \n",
       "4                   606200             P          MTO            433  "
      ]
     },
     "execution_count": 198,
     "metadata": {},
     "output_type": "execute_result"
    }
   ],
   "source": [
    "import random\n",
    "# Numbers = range(300, 1000000)\n",
    "for i in range(len(df)):\n",
    "    df['Total_Backlog'][i]=np.round((np.random.rand(1)*random.uniform(300, 10000)),2)\n",
    "df.head()\n",
    "\n"
   ]
  },
  {
   "cell_type": "code",
   "execution_count": 183,
   "metadata": {},
   "outputs": [],
   "source": [
    "df.to_csv('Sample.csv')"
   ]
  },
  {
   "cell_type": "code",
   "execution_count": 199,
   "metadata": {},
   "outputs": [
    {
     "data": {
      "text/html": [
       "<div>\n",
       "<style scoped>\n",
       "    .dataframe tbody tr th:only-of-type {\n",
       "        vertical-align: middle;\n",
       "    }\n",
       "\n",
       "    .dataframe tbody tr th {\n",
       "        vertical-align: top;\n",
       "    }\n",
       "\n",
       "    .dataframe thead th {\n",
       "        text-align: right;\n",
       "    }\n",
       "</style>\n",
       "<table border=\"1\" class=\"dataframe\">\n",
       "  <thead>\n",
       "    <tr style=\"text-align: right;\">\n",
       "      <th></th>\n",
       "      <th>Calendar Year Month</th>\n",
       "      <th>Product Line (M)</th>\n",
       "      <th>Product Class (M)</th>\n",
       "      <th>Sales District Key (M)</th>\n",
       "      <th>ABC indicator</th>\n",
       "      <th>MTO/MTS Flag</th>\n",
       "      <th>Total_Backlog</th>\n",
       "    </tr>\n",
       "  </thead>\n",
       "  <tbody>\n",
       "    <tr>\n",
       "      <th>0</th>\n",
       "      <td>201812</td>\n",
       "      <td>L16</td>\n",
       "      <td>L20L125</td>\n",
       "      <td>603000</td>\n",
       "      <td>B</td>\n",
       "      <td>MTS</td>\n",
       "      <td>581</td>\n",
       "    </tr>\n",
       "    <tr>\n",
       "      <th>1</th>\n",
       "      <td>201812</td>\n",
       "      <td>L36</td>\n",
       "      <td>L08L030</td>\n",
       "      <td>600000</td>\n",
       "      <td>P</td>\n",
       "      <td>MTO</td>\n",
       "      <td>6322</td>\n",
       "    </tr>\n",
       "    <tr>\n",
       "      <th>2</th>\n",
       "      <td>201812</td>\n",
       "      <td>L36</td>\n",
       "      <td>L26L405</td>\n",
       "      <td>600000</td>\n",
       "      <td>A</td>\n",
       "      <td>MTO</td>\n",
       "      <td>8724</td>\n",
       "    </tr>\n",
       "    <tr>\n",
       "      <th>3</th>\n",
       "      <td>201812</td>\n",
       "      <td>L24</td>\n",
       "      <td>L26L400</td>\n",
       "      <td>611000</td>\n",
       "      <td>A</td>\n",
       "      <td>MTO</td>\n",
       "      <td>1536</td>\n",
       "    </tr>\n",
       "    <tr>\n",
       "      <th>4</th>\n",
       "      <td>201812</td>\n",
       "      <td>L32</td>\n",
       "      <td>L24L330</td>\n",
       "      <td>606200</td>\n",
       "      <td>P</td>\n",
       "      <td>MTO</td>\n",
       "      <td>433</td>\n",
       "    </tr>\n",
       "  </tbody>\n",
       "</table>\n",
       "</div>"
      ],
      "text/plain": [
       "  Calendar Year Month Product Line (M)  Product Class (M)   \\\n",
       "0              201812               L16            L20L125   \n",
       "1              201812               L36            L08L030   \n",
       "2              201812               L36            L26L405   \n",
       "3              201812               L24            L26L400   \n",
       "4              201812               L32            L24L330   \n",
       "\n",
       "   Sales District Key (M)  ABC indicator MTO/MTS Flag  Total_Backlog  \n",
       "0                   603000             B          MTS            581  \n",
       "1                   600000             P          MTO           6322  \n",
       "2                   600000             A          MTO           8724  \n",
       "3                   611000             A          MTO           1536  \n",
       "4                   606200             P          MTO            433  "
      ]
     },
     "execution_count": 199,
     "metadata": {},
     "output_type": "execute_result"
    }
   ],
   "source": [
    "df.head()"
   ]
  },
  {
   "cell_type": "code",
   "execution_count": null,
   "metadata": {},
   "outputs": [],
   "source": []
  },
  {
   "cell_type": "code",
   "execution_count": null,
   "metadata": {},
   "outputs": [],
   "source": []
  },
  {
   "cell_type": "code",
   "execution_count": 91,
   "metadata": {},
   "outputs": [
    {
     "data": {
      "text/plain": [
       "240"
      ]
     },
     "execution_count": 91,
     "metadata": {},
     "output_type": "execute_result"
    }
   ],
   "source": [
    "import pandas as pd\n",
    "rng=pd.date_range(start='2018-12',end='2019-11',freq='B') # to generate dates\n",
    "newformat=rng.strftime('%Y%m')"
   ]
  },
  {
   "cell_type": "code",
   "execution_count": 76,
   "metadata": {},
   "outputs": [
    {
     "data": {
      "text/plain": [
       "Calendar Year Month         object\n",
       "Product Line (M)            object\n",
       "Product Class (M)           object\n",
       "Sales District Key (M)     float64\n",
       "ABC indicator               object\n",
       "MTO/MTS Flag                object\n",
       "Total_Backlog              float64\n",
       "dtype: object"
      ]
     },
     "execution_count": 76,
     "metadata": {},
     "output_type": "execute_result"
    }
   ],
   "source": [
    "ddf.dtypes"
   ]
  },
  {
   "cell_type": "code",
   "execution_count": 81,
   "metadata": {},
   "outputs": [
    {
     "ename": "ValueError",
     "evalue": "time data '2018-12-01' does not match format '%Y%m'",
     "output_type": "error",
     "traceback": [
      "\u001b[0;31m---------------------------------------------------------------------------\u001b[0m",
      "\u001b[0;31mValueError\u001b[0m                                Traceback (most recent call last)",
      "\u001b[0;32m<ipython-input-81-65c60e1995ba>\u001b[0m in \u001b[0;36m<module>\u001b[0;34m()\u001b[0m\n\u001b[1;32m      1\u001b[0m \u001b[0mdatemask\u001b[0m \u001b[0;34m=\u001b[0m \u001b[0;34m\"%Y%m\"\u001b[0m\u001b[0;34m\u001b[0m\u001b[0m\n\u001b[0;32m----> 2\u001b[0;31m \u001b[0mdatetime_object\u001b[0m \u001b[0;34m=\u001b[0m \u001b[0mdatetime\u001b[0m\u001b[0;34m.\u001b[0m\u001b[0mdatetime\u001b[0m\u001b[0;34m.\u001b[0m\u001b[0mstrptime\u001b[0m\u001b[0;34m(\u001b[0m\u001b[0ma\u001b[0m\u001b[0;34m,\u001b[0m \u001b[0mdatemask\u001b[0m\u001b[0;34m)\u001b[0m\u001b[0;34m\u001b[0m\u001b[0m\n\u001b[0m",
      "\u001b[0;32m~/anaconda3/lib/python3.7/_strptime.py\u001b[0m in \u001b[0;36m_strptime_datetime\u001b[0;34m(cls, data_string, format)\u001b[0m\n\u001b[1;32m    575\u001b[0m     \"\"\"Return a class cls instance based on the input string and the\n\u001b[1;32m    576\u001b[0m     format string.\"\"\"\n\u001b[0;32m--> 577\u001b[0;31m     \u001b[0mtt\u001b[0m\u001b[0;34m,\u001b[0m \u001b[0mfraction\u001b[0m\u001b[0;34m,\u001b[0m \u001b[0mgmtoff_fraction\u001b[0m \u001b[0;34m=\u001b[0m \u001b[0m_strptime\u001b[0m\u001b[0;34m(\u001b[0m\u001b[0mdata_string\u001b[0m\u001b[0;34m,\u001b[0m \u001b[0mformat\u001b[0m\u001b[0;34m)\u001b[0m\u001b[0;34m\u001b[0m\u001b[0m\n\u001b[0m\u001b[1;32m    578\u001b[0m     \u001b[0mtzname\u001b[0m\u001b[0;34m,\u001b[0m \u001b[0mgmtoff\u001b[0m \u001b[0;34m=\u001b[0m \u001b[0mtt\u001b[0m\u001b[0;34m[\u001b[0m\u001b[0;34m-\u001b[0m\u001b[0;36m2\u001b[0m\u001b[0;34m:\u001b[0m\u001b[0;34m]\u001b[0m\u001b[0;34m\u001b[0m\u001b[0m\n\u001b[1;32m    579\u001b[0m     \u001b[0margs\u001b[0m \u001b[0;34m=\u001b[0m \u001b[0mtt\u001b[0m\u001b[0;34m[\u001b[0m\u001b[0;34m:\u001b[0m\u001b[0;36m6\u001b[0m\u001b[0;34m]\u001b[0m \u001b[0;34m+\u001b[0m \u001b[0;34m(\u001b[0m\u001b[0mfraction\u001b[0m\u001b[0;34m,\u001b[0m\u001b[0;34m)\u001b[0m\u001b[0;34m\u001b[0m\u001b[0m\n",
      "\u001b[0;32m~/anaconda3/lib/python3.7/_strptime.py\u001b[0m in \u001b[0;36m_strptime\u001b[0;34m(data_string, format)\u001b[0m\n\u001b[1;32m    357\u001b[0m     \u001b[0;32mif\u001b[0m \u001b[0;32mnot\u001b[0m \u001b[0mfound\u001b[0m\u001b[0;34m:\u001b[0m\u001b[0;34m\u001b[0m\u001b[0m\n\u001b[1;32m    358\u001b[0m         raise ValueError(\"time data %r does not match format %r\" %\n\u001b[0;32m--> 359\u001b[0;31m                          (data_string, format))\n\u001b[0m\u001b[1;32m    360\u001b[0m     \u001b[0;32mif\u001b[0m \u001b[0mlen\u001b[0m\u001b[0;34m(\u001b[0m\u001b[0mdata_string\u001b[0m\u001b[0;34m)\u001b[0m \u001b[0;34m!=\u001b[0m \u001b[0mfound\u001b[0m\u001b[0;34m.\u001b[0m\u001b[0mend\u001b[0m\u001b[0;34m(\u001b[0m\u001b[0;34m)\u001b[0m\u001b[0;34m:\u001b[0m\u001b[0;34m\u001b[0m\u001b[0m\n\u001b[1;32m    361\u001b[0m         raise ValueError(\"unconverted data remains: %s\" %\n",
      "\u001b[0;31mValueError\u001b[0m: time data '2018-12-01' does not match format '%Y%m'"
     ]
    }
   ],
   "source": [
    "datemask = \"%Y%m\"\n",
    "datetime_object = datetime.datetime.strptime(a, datemask)\n"
   ]
  },
  {
   "cell_type": "code",
   "execution_count": null,
   "metadata": {},
   "outputs": [],
   "source": []
  }
 ],
 "metadata": {
  "kernelspec": {
   "display_name": "Python 3",
   "language": "python",
   "name": "python3"
  },
  "language_info": {
   "codemirror_mode": {
    "name": "ipython",
    "version": 3
   },
   "file_extension": ".py",
   "mimetype": "text/x-python",
   "name": "python",
   "nbconvert_exporter": "python",
   "pygments_lexer": "ipython3",
   "version": "3.7.0"
  }
 },
 "nbformat": 4,
 "nbformat_minor": 2
}
