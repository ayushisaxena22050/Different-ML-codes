{
 "cells": [
  {
   "cell_type": "code",
   "execution_count": 2,
   "metadata": {},
   "outputs": [],
   "source": [
    "import pandas as pd\n",
    "import matplotlib.pyplot as plt\n",
    "%matplotlib inline\n",
    "import seaborn as sns"
   ]
  },
  {
   "cell_type": "code",
   "execution_count": 3,
   "metadata": {},
   "outputs": [],
   "source": [
    "df1=pd.read_excel('/home/ayushi/Downloads/RE/R1.xlsx',sheet_name='Sheet1', header=1)"
   ]
  },
  {
   "cell_type": "code",
   "execution_count": 4,
   "metadata": {},
   "outputs": [
    {
     "data": {
      "text/plain": [
       "array(['Arresters', 'Bushings', 'Cable Accessories', 'Connectors',\n",
       "       'Construction', 'Enclosures & Drains', 'Insulators',\n",
       "       'Safety Products', 'Switching & Fusing', 'Utility Automation',\n",
       "       'Wire Management', nan], dtype=object)"
      ]
     },
     "execution_count": 4,
     "metadata": {},
     "output_type": "execute_result"
    }
   ],
   "source": [
    "df1['Product Line Desc (M)'].unique()"
   ]
  },
  {
   "cell_type": "code",
   "execution_count": 5,
   "metadata": {},
   "outputs": [
    {
     "data": {
      "text/html": [
       "<div>\n",
       "<style scoped>\n",
       "    .dataframe tbody tr th:only-of-type {\n",
       "        vertical-align: middle;\n",
       "    }\n",
       "\n",
       "    .dataframe tbody tr th {\n",
       "        vertical-align: top;\n",
       "    }\n",
       "\n",
       "    .dataframe thead th {\n",
       "        text-align: right;\n",
       "    }\n",
       "</style>\n",
       "<table border=\"1\" class=\"dataframe\">\n",
       "  <thead>\n",
       "    <tr style=\"text-align: right;\">\n",
       "      <th></th>\n",
       "      <th>Calendar Year Month</th>\n",
       "      <th>Product Line Desc (M)</th>\n",
       "      <th>Product Class Desc (M)</th>\n",
       "      <th>Sales District Desc (M)</th>\n",
       "      <th>ABC indicator</th>\n",
       "      <th>Unnamed: 5</th>\n",
       "      <th>USD</th>\n",
       "      <th>USD.1</th>\n",
       "      <th>USD.2</th>\n",
       "      <th>USD.3</th>\n",
       "      <th>USD.4</th>\n",
       "      <th>USD.5</th>\n",
       "      <th>Unnamed: 12</th>\n",
       "    </tr>\n",
       "  </thead>\n",
       "  <tbody>\n",
       "    <tr>\n",
       "      <th>0</th>\n",
       "      <td>201701</td>\n",
       "      <td>Arresters</td>\n",
       "      <td>#</td>\n",
       "      <td>North East Region</td>\n",
       "      <td>##</td>\n",
       "      <td>0.00</td>\n",
       "      <td>0.0</td>\n",
       "      <td>0.00</td>\n",
       "      <td>0.0</td>\n",
       "      <td>536.34</td>\n",
       "      <td>0.0</td>\n",
       "      <td>0.0</td>\n",
       "      <td>536.34</td>\n",
       "    </tr>\n",
       "    <tr>\n",
       "      <th>1</th>\n",
       "      <td>201701</td>\n",
       "      <td>Arresters</td>\n",
       "      <td>Blocks</td>\n",
       "      <td>EuropeMidEastAfrica</td>\n",
       "      <td>B</td>\n",
       "      <td>0.00</td>\n",
       "      <td>0.0</td>\n",
       "      <td>0.00</td>\n",
       "      <td>0.0</td>\n",
       "      <td>23040.00</td>\n",
       "      <td>23040.0</td>\n",
       "      <td>15360.0</td>\n",
       "      <td>61440.00</td>\n",
       "    </tr>\n",
       "    <tr>\n",
       "      <th>2</th>\n",
       "      <td>201701</td>\n",
       "      <td>Arresters</td>\n",
       "      <td>Blocks</td>\n",
       "      <td>EuropeMidEastAfrica</td>\n",
       "      <td>C</td>\n",
       "      <td>60588.00</td>\n",
       "      <td>60588.0</td>\n",
       "      <td>0.00</td>\n",
       "      <td>0.0</td>\n",
       "      <td>25486.20</td>\n",
       "      <td>46656.0</td>\n",
       "      <td>190256.0</td>\n",
       "      <td>322986.20</td>\n",
       "    </tr>\n",
       "    <tr>\n",
       "      <th>3</th>\n",
       "      <td>201701</td>\n",
       "      <td>Arresters</td>\n",
       "      <td>Blocks</td>\n",
       "      <td>North East Region</td>\n",
       "      <td>C</td>\n",
       "      <td>0.00</td>\n",
       "      <td>0.0</td>\n",
       "      <td>0.00</td>\n",
       "      <td>0.0</td>\n",
       "      <td>5691.00</td>\n",
       "      <td>0.0</td>\n",
       "      <td>0.0</td>\n",
       "      <td>5691.00</td>\n",
       "    </tr>\n",
       "    <tr>\n",
       "      <th>4</th>\n",
       "      <td>201701</td>\n",
       "      <td>Arresters</td>\n",
       "      <td>Distribution Arresters</td>\n",
       "      <td>APAC</td>\n",
       "      <td>1</td>\n",
       "      <td>9963.52</td>\n",
       "      <td>0.0</td>\n",
       "      <td>9963.52</td>\n",
       "      <td>0.0</td>\n",
       "      <td>0.00</td>\n",
       "      <td>0.0</td>\n",
       "      <td>0.0</td>\n",
       "      <td>9963.52</td>\n",
       "    </tr>\n",
       "  </tbody>\n",
       "</table>\n",
       "</div>"
      ],
      "text/plain": [
       "  Calendar Year Month Product Line Desc (M)  Product Class Desc (M)  \\\n",
       "0              201701             Arresters                       #   \n",
       "1              201701             Arresters                  Blocks   \n",
       "2              201701             Arresters                  Blocks   \n",
       "3              201701             Arresters                  Blocks   \n",
       "4              201701             Arresters  Distribution Arresters   \n",
       "\n",
       "  Sales District Desc (M)  ABC indicator  Unnamed: 5      USD    USD.1  USD.2  \\\n",
       "0        North East Region            ##        0.00      0.0     0.00    0.0   \n",
       "1      EuropeMidEastAfrica             B        0.00      0.0     0.00    0.0   \n",
       "2      EuropeMidEastAfrica             C    60588.00  60588.0     0.00    0.0   \n",
       "3        North East Region             C        0.00      0.0     0.00    0.0   \n",
       "4                     APAC             1     9963.52      0.0  9963.52    0.0   \n",
       "\n",
       "      USD.3    USD.4     USD.5  Unnamed: 12  \n",
       "0    536.34      0.0       0.0       536.34  \n",
       "1  23040.00  23040.0   15360.0     61440.00  \n",
       "2  25486.20  46656.0  190256.0    322986.20  \n",
       "3   5691.00      0.0       0.0      5691.00  \n",
       "4      0.00      0.0       0.0      9963.52  "
      ]
     },
     "execution_count": 5,
     "metadata": {},
     "output_type": "execute_result"
    }
   ],
   "source": [
    "df1.head()"
   ]
  },
  {
   "cell_type": "code",
   "execution_count": 6,
   "metadata": {},
   "outputs": [
    {
     "name": "stderr",
     "output_type": "stream",
     "text": [
      "/home/ayushi/anaconda3/lib/python3.7/site-packages/pandas/core/frame.py:3697: SettingWithCopyWarning: \n",
      "A value is trying to be set on a copy of a slice from a DataFrame\n",
      "\n",
      "See the caveats in the documentation: http://pandas.pydata.org/pandas-docs/stable/indexing.html#indexing-view-versus-copy\n",
      "  errors=errors)\n",
      "/home/ayushi/anaconda3/lib/python3.7/site-packages/ipykernel_launcher.py:18: SettingWithCopyWarning: \n",
      "A value is trying to be set on a copy of a slice from a DataFrame.\n",
      "Try using .loc[row_indexer,col_indexer] = value instead\n",
      "\n",
      "See the caveats in the documentation: http://pandas.pydata.org/pandas-docs/stable/indexing.html#indexing-view-versus-copy\n"
     ]
    }
   ],
   "source": [
    "df1 = df1.iloc[:-1] # deleting last row\n",
    "\n",
    "df1['Calendar Year Month']=pd.to_datetime(df1['Calendar Year Month'],format='%Y%m')\n",
    "df1['year']=df1['Calendar Year Month'].apply(lambda x: x.year) \n",
    "df1['month']=df1['Calendar Year Month'].apply(lambda x: x.month)\n",
    "df1.drop(['Calendar Year Month'],axis=1,inplace=True)\n",
    "\n",
    "a=df1[df1['Product Line Desc (M)']=='Cable Accessories']\n",
    "\n",
    "a['Product Class Desc (M)'].unique()# have to do one hot encoding \n",
    "\n",
    "a['Product Line Desc (M)'].unique()#  have to removing this one, because it has one constant \n",
    "\n",
    "a.drop(['Product Line Desc (M)'],axis=1,inplace=True)\n",
    "\n",
    "from sklearn import preprocessing\n",
    "le = preprocessing.LabelEncoder()\n",
    "a['Sales District Desc (M) '] = le.fit_transform(a['Sales District Desc (M) '])\n",
    "\n",
    "one_hot1 = pd.get_dummies(a['Product Class Desc (M)'])\n",
    "\n",
    "one_hot2 = pd.get_dummies(a['ABC indicator'])\n",
    "\n",
    "a = pd.concat([a, one_hot1], axis=1)\n",
    "\n",
    "a=pd.concat([a,one_hot2], axis=1)\n",
    "\n",
    "a.drop(['Product Class Desc (M)','ABC indicator'],axis=1,inplace=True)"
   ]
  },
  {
   "cell_type": "code",
   "execution_count": 7,
   "metadata": {},
   "outputs": [
    {
     "data": {
      "text/html": [
       "<div>\n",
       "<style scoped>\n",
       "    .dataframe tbody tr th:only-of-type {\n",
       "        vertical-align: middle;\n",
       "    }\n",
       "\n",
       "    .dataframe tbody tr th {\n",
       "        vertical-align: top;\n",
       "    }\n",
       "\n",
       "    .dataframe thead th {\n",
       "        text-align: right;\n",
       "    }\n",
       "</style>\n",
       "<table border=\"1\" class=\"dataframe\">\n",
       "  <thead>\n",
       "    <tr style=\"text-align: right;\">\n",
       "      <th></th>\n",
       "      <th>Sales District Desc (M)</th>\n",
       "      <th>Unnamed: 5</th>\n",
       "      <th>USD</th>\n",
       "      <th>USD.1</th>\n",
       "      <th>USD.2</th>\n",
       "      <th>USD.3</th>\n",
       "      <th>USD.4</th>\n",
       "      <th>USD.5</th>\n",
       "      <th>Unnamed: 12</th>\n",
       "      <th>year</th>\n",
       "      <th>month</th>\n",
       "      <th>URD Accessories</th>\n",
       "      <th>URD Arresters</th>\n",
       "      <th>1</th>\n",
       "      <th>A</th>\n",
       "      <th>B</th>\n",
       "      <th>C</th>\n",
       "      <th>D</th>\n",
       "    </tr>\n",
       "  </thead>\n",
       "  <tbody>\n",
       "    <tr>\n",
       "      <th>181</th>\n",
       "      <td>1</td>\n",
       "      <td>2791.66</td>\n",
       "      <td>481.94</td>\n",
       "      <td>2309.72</td>\n",
       "      <td>0.0</td>\n",
       "      <td>0.00</td>\n",
       "      <td>6328.42</td>\n",
       "      <td>0.00</td>\n",
       "      <td>9120.08</td>\n",
       "      <td>2017</td>\n",
       "      <td>1</td>\n",
       "      <td>1</td>\n",
       "      <td>0</td>\n",
       "      <td>0</td>\n",
       "      <td>1</td>\n",
       "      <td>0</td>\n",
       "      <td>0</td>\n",
       "      <td>0</td>\n",
       "    </tr>\n",
       "    <tr>\n",
       "      <th>182</th>\n",
       "      <td>1</td>\n",
       "      <td>5512.37</td>\n",
       "      <td>0.00</td>\n",
       "      <td>5512.37</td>\n",
       "      <td>0.0</td>\n",
       "      <td>0.00</td>\n",
       "      <td>0.00</td>\n",
       "      <td>0.00</td>\n",
       "      <td>5512.37</td>\n",
       "      <td>2017</td>\n",
       "      <td>1</td>\n",
       "      <td>1</td>\n",
       "      <td>0</td>\n",
       "      <td>0</td>\n",
       "      <td>0</td>\n",
       "      <td>1</td>\n",
       "      <td>0</td>\n",
       "      <td>0</td>\n",
       "    </tr>\n",
       "    <tr>\n",
       "      <th>183</th>\n",
       "      <td>1</td>\n",
       "      <td>0.00</td>\n",
       "      <td>0.00</td>\n",
       "      <td>0.00</td>\n",
       "      <td>0.0</td>\n",
       "      <td>0.00</td>\n",
       "      <td>4015.19</td>\n",
       "      <td>4015.19</td>\n",
       "      <td>8030.38</td>\n",
       "      <td>2017</td>\n",
       "      <td>1</td>\n",
       "      <td>1</td>\n",
       "      <td>0</td>\n",
       "      <td>0</td>\n",
       "      <td>0</td>\n",
       "      <td>0</td>\n",
       "      <td>0</td>\n",
       "      <td>1</td>\n",
       "    </tr>\n",
       "    <tr>\n",
       "      <th>184</th>\n",
       "      <td>3</td>\n",
       "      <td>0.00</td>\n",
       "      <td>0.00</td>\n",
       "      <td>0.00</td>\n",
       "      <td>0.0</td>\n",
       "      <td>0.00</td>\n",
       "      <td>0.00</td>\n",
       "      <td>5757.60</td>\n",
       "      <td>5757.60</td>\n",
       "      <td>2017</td>\n",
       "      <td>1</td>\n",
       "      <td>1</td>\n",
       "      <td>0</td>\n",
       "      <td>0</td>\n",
       "      <td>1</td>\n",
       "      <td>0</td>\n",
       "      <td>0</td>\n",
       "      <td>0</td>\n",
       "    </tr>\n",
       "    <tr>\n",
       "      <th>185</th>\n",
       "      <td>3</td>\n",
       "      <td>0.00</td>\n",
       "      <td>0.00</td>\n",
       "      <td>0.00</td>\n",
       "      <td>0.0</td>\n",
       "      <td>429.84</td>\n",
       "      <td>0.00</td>\n",
       "      <td>0.00</td>\n",
       "      <td>429.84</td>\n",
       "      <td>2017</td>\n",
       "      <td>1</td>\n",
       "      <td>1</td>\n",
       "      <td>0</td>\n",
       "      <td>0</td>\n",
       "      <td>0</td>\n",
       "      <td>1</td>\n",
       "      <td>0</td>\n",
       "      <td>0</td>\n",
       "    </tr>\n",
       "  </tbody>\n",
       "</table>\n",
       "</div>"
      ],
      "text/plain": [
       "     Sales District Desc (M)   Unnamed: 5     USD    USD.1  USD.2   USD.3  \\\n",
       "181                         1     2791.66  481.94  2309.72    0.0    0.00   \n",
       "182                         1     5512.37    0.00  5512.37    0.0    0.00   \n",
       "183                         1        0.00    0.00     0.00    0.0    0.00   \n",
       "184                         3        0.00    0.00     0.00    0.0    0.00   \n",
       "185                         3        0.00    0.00     0.00    0.0  429.84   \n",
       "\n",
       "       USD.4    USD.5  Unnamed: 12  year  month  URD Accessories  \\\n",
       "181  6328.42     0.00      9120.08  2017      1                1   \n",
       "182     0.00     0.00      5512.37  2017      1                1   \n",
       "183  4015.19  4015.19      8030.38  2017      1                1   \n",
       "184     0.00  5757.60      5757.60  2017      1                1   \n",
       "185     0.00     0.00       429.84  2017      1                1   \n",
       "\n",
       "     URD Arresters  1  A  B  C  D  \n",
       "181              0  0  1  0  0  0  \n",
       "182              0  0  0  1  0  0  \n",
       "183              0  0  0  0  0  1  \n",
       "184              0  0  1  0  0  0  \n",
       "185              0  0  0  1  0  0  "
      ]
     },
     "execution_count": 7,
     "metadata": {},
     "output_type": "execute_result"
    }
   ],
   "source": [
    "a.head()"
   ]
  },
  {
   "cell_type": "code",
   "execution_count": 70,
   "metadata": {},
   "outputs": [
    {
     "data": {
      "text/plain": [
       "Sales District Desc (M)       int64\n",
       "Unnamed: 5                  float64\n",
       "USD                         float64\n",
       "USD.1                       float64\n",
       "USD.2                       float64\n",
       "USD.3                       float64\n",
       "USD.4                       float64\n",
       "USD.5                       float64\n",
       "Unnamed: 12                 float64\n",
       "year                          int64\n",
       "month                         int64\n",
       "URD Accessories               uint8\n",
       "URD Arresters                 uint8\n",
       "1                             uint8\n",
       "A                             uint8\n",
       "B                             uint8\n",
       "C                             uint8\n",
       "D                             uint8\n",
       "dtype: object"
      ]
     },
     "execution_count": 70,
     "metadata": {},
     "output_type": "execute_result"
    }
   ],
   "source": [
    "a.dtypes"
   ]
  },
  {
   "cell_type": "code",
   "execution_count": 8,
   "metadata": {},
   "outputs": [],
   "source": [
    "from sklearn import preprocessing\n",
    "le = preprocessing.LabelEncoder()\n",
    "\n",
    "def cat_var(X):\n",
    "    for i in range(0,X.shape[1]):\n",
    "        if X.dtypes[i]=='object':\n",
    "            X[X.columns[i]] = le.fit_transform(X[X.columns[i]])"
   ]
  },
  {
   "cell_type": "code",
   "execution_count": 10,
   "metadata": {},
   "outputs": [],
   "source": [
    "cat_var(a)"
   ]
  },
  {
   "cell_type": "code",
   "execution_count": 11,
   "metadata": {},
   "outputs": [
    {
     "data": {
      "text/plain": [
       "Sales District Desc (M)       int64\n",
       "Unnamed: 5                  float64\n",
       "USD                         float64\n",
       "USD.1                       float64\n",
       "USD.2                       float64\n",
       "USD.3                       float64\n",
       "USD.4                       float64\n",
       "USD.5                       float64\n",
       "Unnamed: 12                 float64\n",
       "year                          int64\n",
       "month                         int64\n",
       "URD Accessories               uint8\n",
       "URD Arresters                 uint8\n",
       "1                             uint8\n",
       "A                             uint8\n",
       "B                             uint8\n",
       "C                             uint8\n",
       "D                             uint8\n",
       "dtype: object"
      ]
     },
     "execution_count": 11,
     "metadata": {},
     "output_type": "execute_result"
    }
   ],
   "source": [
    "a.dtypes"
   ]
  },
  {
   "cell_type": "code",
   "execution_count": 12,
   "metadata": {},
   "outputs": [],
   "source": [
    "a.drop(['USD','USD.1','USD.2','USD.3','USD.4','USD.5','Unnamed: 12'],inplace=True,axis=1)"
   ]
  },
  {
   "cell_type": "code",
   "execution_count": 13,
   "metadata": {},
   "outputs": [
    {
     "data": {
      "text/html": [
       "<div>\n",
       "<style scoped>\n",
       "    .dataframe tbody tr th:only-of-type {\n",
       "        vertical-align: middle;\n",
       "    }\n",
       "\n",
       "    .dataframe tbody tr th {\n",
       "        vertical-align: top;\n",
       "    }\n",
       "\n",
       "    .dataframe thead th {\n",
       "        text-align: right;\n",
       "    }\n",
       "</style>\n",
       "<table border=\"1\" class=\"dataframe\">\n",
       "  <thead>\n",
       "    <tr style=\"text-align: right;\">\n",
       "      <th></th>\n",
       "      <th>Sales District Desc (M)</th>\n",
       "      <th>Unnamed: 5</th>\n",
       "      <th>year</th>\n",
       "      <th>month</th>\n",
       "      <th>URD Accessories</th>\n",
       "      <th>URD Arresters</th>\n",
       "      <th>1</th>\n",
       "      <th>A</th>\n",
       "      <th>B</th>\n",
       "      <th>C</th>\n",
       "      <th>D</th>\n",
       "    </tr>\n",
       "  </thead>\n",
       "  <tbody>\n",
       "    <tr>\n",
       "      <th>181</th>\n",
       "      <td>1</td>\n",
       "      <td>2791.66</td>\n",
       "      <td>2017</td>\n",
       "      <td>1</td>\n",
       "      <td>1</td>\n",
       "      <td>0</td>\n",
       "      <td>0</td>\n",
       "      <td>1</td>\n",
       "      <td>0</td>\n",
       "      <td>0</td>\n",
       "      <td>0</td>\n",
       "    </tr>\n",
       "    <tr>\n",
       "      <th>182</th>\n",
       "      <td>1</td>\n",
       "      <td>5512.37</td>\n",
       "      <td>2017</td>\n",
       "      <td>1</td>\n",
       "      <td>1</td>\n",
       "      <td>0</td>\n",
       "      <td>0</td>\n",
       "      <td>0</td>\n",
       "      <td>1</td>\n",
       "      <td>0</td>\n",
       "      <td>0</td>\n",
       "    </tr>\n",
       "    <tr>\n",
       "      <th>183</th>\n",
       "      <td>1</td>\n",
       "      <td>0.00</td>\n",
       "      <td>2017</td>\n",
       "      <td>1</td>\n",
       "      <td>1</td>\n",
       "      <td>0</td>\n",
       "      <td>0</td>\n",
       "      <td>0</td>\n",
       "      <td>0</td>\n",
       "      <td>0</td>\n",
       "      <td>1</td>\n",
       "    </tr>\n",
       "    <tr>\n",
       "      <th>184</th>\n",
       "      <td>3</td>\n",
       "      <td>0.00</td>\n",
       "      <td>2017</td>\n",
       "      <td>1</td>\n",
       "      <td>1</td>\n",
       "      <td>0</td>\n",
       "      <td>0</td>\n",
       "      <td>1</td>\n",
       "      <td>0</td>\n",
       "      <td>0</td>\n",
       "      <td>0</td>\n",
       "    </tr>\n",
       "    <tr>\n",
       "      <th>185</th>\n",
       "      <td>3</td>\n",
       "      <td>0.00</td>\n",
       "      <td>2017</td>\n",
       "      <td>1</td>\n",
       "      <td>1</td>\n",
       "      <td>0</td>\n",
       "      <td>0</td>\n",
       "      <td>0</td>\n",
       "      <td>1</td>\n",
       "      <td>0</td>\n",
       "      <td>0</td>\n",
       "    </tr>\n",
       "  </tbody>\n",
       "</table>\n",
       "</div>"
      ],
      "text/plain": [
       "     Sales District Desc (M)   Unnamed: 5  year  month  URD Accessories  \\\n",
       "181                         1     2791.66  2017      1                1   \n",
       "182                         1     5512.37  2017      1                1   \n",
       "183                         1        0.00  2017      1                1   \n",
       "184                         3        0.00  2017      1                1   \n",
       "185                         3        0.00  2017      1                1   \n",
       "\n",
       "     URD Arresters  1  A  B  C  D  \n",
       "181              0  0  1  0  0  0  \n",
       "182              0  0  0  1  0  0  \n",
       "183              0  0  0  0  0  1  \n",
       "184              0  0  1  0  0  0  \n",
       "185              0  0  0  1  0  0  "
      ]
     },
     "execution_count": 13,
     "metadata": {},
     "output_type": "execute_result"
    }
   ],
   "source": [
    "a.head()"
   ]
  },
  {
   "cell_type": "code",
   "execution_count": 41,
   "metadata": {},
   "outputs": [],
   "source": [
    "from sklearn import linear_model\n",
    "from sklearn.model_selection import train_test_split"
   ]
  },
  {
   "cell_type": "code",
   "execution_count": 43,
   "metadata": {},
   "outputs": [],
   "source": [
    "Y=a['Unnamed: 5']\n",
    "a.drop('Unnamed: 5',axis=1,inplace=True)\n",
    "X=a\n",
    "X_train, X_test, y_train, y_test = train_test_split(X, Y, test_size=0.33, random_state=42)"
   ]
  },
  {
   "cell_type": "code",
   "execution_count": 46,
   "metadata": {},
   "outputs": [],
   "source": [
    "lm=linear_model.LinearRegression()"
   ]
  },
  {
   "cell_type": "code",
   "execution_count": 48,
   "metadata": {},
   "outputs": [],
   "source": [
    "model=lm.fit(X_train, y_train)"
   ]
  },
  {
   "cell_type": "code",
   "execution_count": 50,
   "metadata": {},
   "outputs": [],
   "source": [
    "predictions=lm.predict(X_test)"
   ]
  },
  {
   "cell_type": "code",
   "execution_count": 52,
   "metadata": {},
   "outputs": [
    {
     "data": {
      "text/plain": [
       "Text(0,0.5,'Predictions')"
      ]
     },
     "execution_count": 52,
     "metadata": {},
     "output_type": "execute_result"
    },
    {
     "data": {
      "image/png": "[encoded data removed]",
      "text/plain": [
       "<Figure size 432x288 with 1 Axes>"
      ]
     },
     "metadata": {
      "needs_background": "light"
     },
     "output_type": "display_data"
    }
   ],
   "source": [
    "plt.scatter(y_test, predictions)\n",
    "plt.xlabel(\"True Values\")\n",
    "plt.ylabel(\"Predictions\")"
   ]
  },
  {
   "cell_type": "code",
   "execution_count": 58,
   "metadata": {},
   "outputs": [],
   "source": [
    "from sklearn.metrics import mean_squared_error\n",
    "from sklearn.metrics import r2_score"
   ]
  },
  {
   "cell_type": "code",
   "execution_count": 59,
   "metadata": {},
   "outputs": [
    {
     "data": {
      "text/plain": [
       "0.15615478930272186"
      ]
     },
     "execution_count": 59,
     "metadata": {},
     "output_type": "execute_result"
    }
   ],
   "source": [
    "r2_score(y_test,predictions)"
   ]
  },
  {
   "cell_type": "code",
   "execution_count": null,
   "metadata": {},
   "outputs": [],
   "source": []
  }
 ],
 "metadata": {
  "kernelspec": {
   "display_name": "Python 3",
   "language": "python",
   "name": "python3"
  },
  "language_info": {
   "codemirror_mode": {
    "name": "ipython",
    "version": 3
   },
   "file_extension": ".py",
   "mimetype": "text/x-python",
   "name": "python",
   "nbconvert_exporter": "python",
   "pygments_lexer": "ipython3",
   "version": "3.7.0"
  }
 },
 "nbformat": 4,
 "nbformat_minor": 2
}
