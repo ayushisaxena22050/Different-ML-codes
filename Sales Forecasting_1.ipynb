{
 "cells": [
  {
   "cell_type": "code",
   "execution_count": 1,
   "metadata": {},
   "outputs": [],
   "source": [
    "import numpy as np\n",
    "import pandas as pd\n",
    "import matplotlib.pyplot as plt\n",
    "import seaborn as sns\n",
    "from statsmodels.tsa.arima_model import ARIMA\n",
    "from sklearn.model_selection import GridSearchCV\n",
    "%matplotlib inline"
   ]
  },
  {
   "cell_type": "code",
   "execution_count": 5,
   "metadata": {},
   "outputs": [],
   "source": [
    "df1=pd.read_excel('/home/ayushi/Downloads/RE/R1.xlsx',sheet_name='Sheet1', header=1)"
   ]
  },
  {
   "cell_type": "code",
   "execution_count": 6,
   "metadata": {},
   "outputs": [
    {
     "data": {
      "text/html": [
       "<div>\n",
       "<style scoped>\n",
       "    .dataframe tbody tr th:only-of-type {\n",
       "        vertical-align: middle;\n",
       "    }\n",
       "\n",
       "    .dataframe tbody tr th {\n",
       "        vertical-align: top;\n",
       "    }\n",
       "\n",
       "    .dataframe thead th {\n",
       "        text-align: right;\n",
       "    }\n",
       "</style>\n",
       "<table border=\"1\" class=\"dataframe\">\n",
       "  <thead>\n",
       "    <tr style=\"text-align: right;\">\n",
       "      <th></th>\n",
       "      <th>Calendar Year Month</th>\n",
       "      <th>Product Line Desc (M)</th>\n",
       "      <th>Product Class Desc (M)</th>\n",
       "      <th>Sales District Desc (M)</th>\n",
       "      <th>ABC indicator</th>\n",
       "      <th>Unnamed: 5</th>\n",
       "      <th>USD</th>\n",
       "      <th>USD.1</th>\n",
       "      <th>USD.2</th>\n",
       "      <th>USD.3</th>\n",
       "      <th>USD.4</th>\n",
       "      <th>USD.5</th>\n",
       "      <th>Unnamed: 12</th>\n",
       "    </tr>\n",
       "  </thead>\n",
       "  <tbody>\n",
       "    <tr>\n",
       "      <th>0</th>\n",
       "      <td>201701</td>\n",
       "      <td>Arresters</td>\n",
       "      <td>#</td>\n",
       "      <td>North East Region</td>\n",
       "      <td>##</td>\n",
       "      <td>0.00</td>\n",
       "      <td>0.0</td>\n",
       "      <td>0.00</td>\n",
       "      <td>0.0</td>\n",
       "      <td>536.34</td>\n",
       "      <td>0.0</td>\n",
       "      <td>0.0</td>\n",
       "      <td>536.34</td>\n",
       "    </tr>\n",
       "    <tr>\n",
       "      <th>1</th>\n",
       "      <td>201701</td>\n",
       "      <td>Arresters</td>\n",
       "      <td>Blocks</td>\n",
       "      <td>EuropeMidEastAfrica</td>\n",
       "      <td>B</td>\n",
       "      <td>0.00</td>\n",
       "      <td>0.0</td>\n",
       "      <td>0.00</td>\n",
       "      <td>0.0</td>\n",
       "      <td>23040.00</td>\n",
       "      <td>23040.0</td>\n",
       "      <td>15360.0</td>\n",
       "      <td>61440.00</td>\n",
       "    </tr>\n",
       "    <tr>\n",
       "      <th>2</th>\n",
       "      <td>201701</td>\n",
       "      <td>Arresters</td>\n",
       "      <td>Blocks</td>\n",
       "      <td>EuropeMidEastAfrica</td>\n",
       "      <td>C</td>\n",
       "      <td>60588.00</td>\n",
       "      <td>60588.0</td>\n",
       "      <td>0.00</td>\n",
       "      <td>0.0</td>\n",
       "      <td>25486.20</td>\n",
       "      <td>46656.0</td>\n",
       "      <td>190256.0</td>\n",
       "      <td>322986.20</td>\n",
       "    </tr>\n",
       "    <tr>\n",
       "      <th>3</th>\n",
       "      <td>201701</td>\n",
       "      <td>Arresters</td>\n",
       "      <td>Blocks</td>\n",
       "      <td>North East Region</td>\n",
       "      <td>C</td>\n",
       "      <td>0.00</td>\n",
       "      <td>0.0</td>\n",
       "      <td>0.00</td>\n",
       "      <td>0.0</td>\n",
       "      <td>5691.00</td>\n",
       "      <td>0.0</td>\n",
       "      <td>0.0</td>\n",
       "      <td>5691.00</td>\n",
       "    </tr>\n",
       "    <tr>\n",
       "      <th>4</th>\n",
       "      <td>201701</td>\n",
       "      <td>Arresters</td>\n",
       "      <td>Distribution Arresters</td>\n",
       "      <td>APAC</td>\n",
       "      <td>1</td>\n",
       "      <td>9963.52</td>\n",
       "      <td>0.0</td>\n",
       "      <td>9963.52</td>\n",
       "      <td>0.0</td>\n",
       "      <td>0.00</td>\n",
       "      <td>0.0</td>\n",
       "      <td>0.0</td>\n",
       "      <td>9963.52</td>\n",
       "    </tr>\n",
       "  </tbody>\n",
       "</table>\n",
       "</div>"
      ],
      "text/plain": [
       "  Calendar Year Month Product Line Desc (M)  Product Class Desc (M)  \\\n",
       "0              201701             Arresters                       #   \n",
       "1              201701             Arresters                  Blocks   \n",
       "2              201701             Arresters                  Blocks   \n",
       "3              201701             Arresters                  Blocks   \n",
       "4              201701             Arresters  Distribution Arresters   \n",
       "\n",
       "  Sales District Desc (M)  ABC indicator  Unnamed: 5      USD    USD.1  USD.2  \\\n",
       "0        North East Region            ##        0.00      0.0     0.00    0.0   \n",
       "1      EuropeMidEastAfrica             B        0.00      0.0     0.00    0.0   \n",
       "2      EuropeMidEastAfrica             C    60588.00  60588.0     0.00    0.0   \n",
       "3        North East Region             C        0.00      0.0     0.00    0.0   \n",
       "4                     APAC             1     9963.52      0.0  9963.52    0.0   \n",
       "\n",
       "      USD.3    USD.4     USD.5  Unnamed: 12  \n",
       "0    536.34      0.0       0.0       536.34  \n",
       "1  23040.00  23040.0   15360.0     61440.00  \n",
       "2  25486.20  46656.0  190256.0    322986.20  \n",
       "3   5691.00      0.0       0.0      5691.00  \n",
       "4      0.00      0.0       0.0      9963.52  "
      ]
     },
     "execution_count": 6,
     "metadata": {},
     "output_type": "execute_result"
    }
   ],
   "source": [
    "df1.head()"
   ]
  },
  {
   "cell_type": "code",
   "execution_count": 7,
   "metadata": {},
   "outputs": [],
   "source": [
    "df1 = df1.iloc[:-1] # deleting last row\n",
    "\n",
    "#df1['Calendar Year Month']=datetime.datetime.strptime(df1['Calendar Year Month'],format=\"%Y%m\")\n",
    "df1['Calendar Year Month']=pd.to_datetime(df1['Calendar Year Month'],format='%Y%m')\n",
    "\n",
    "df1=df1[df1['Product Line Desc (M)'].isin(['Arresters','Cable Accessories', 'Connectors','Construction'\n",
    "                                     ,'Insulators','Safety Products','Switching & Fusing'])]\n",
    "\n",
    "df1=df1[df1['Product Class Desc (M)']!='#']\n",
    "\n",
    "df1=df1[df1['ABC indicator']!='##']\n",
    "\n",
    "df1=df1[['Calendar Year Month','Product Line Desc (M)','Product Class Desc (M)','Sales District Desc (M) ','ABC indicator','Unnamed: 5']]\n",
    "\n",
    "df1.index=df1['Calendar Year Month']\n",
    "df1.drop('Calendar Year Month',axis=1,inplace=True)"
   ]
  },
  {
   "cell_type": "code",
   "execution_count": 8,
   "metadata": {},
   "outputs": [],
   "source": [
    "arresters=df1[df1['Product Line Desc (M)']=='Arresters']"
   ]
  },
  {
   "cell_type": "code",
   "execution_count": 9,
   "metadata": {},
   "outputs": [
    {
     "data": {
      "text/plain": [
       "array(['Blocks', 'Distribution Arresters', 'Substation HC Arresters',\n",
       "       'Substation SC Arresters', 'Transmission Arresters'], dtype=object)"
      ]
     },
     "execution_count": 9,
     "metadata": {},
     "output_type": "execute_result"
    }
   ],
   "source": [
    "arresters['Product Class Desc (M)'].unique()"
   ]
  },
  {
   "cell_type": "code",
   "execution_count": 10,
   "metadata": {},
   "outputs": [
    {
     "data": {
      "text/plain": [
       "array(['EuropeMidEastAfrica', 'North East Region', 'APAC',\n",
       "       'CANADA UTILITY', 'Communication - East', 'Communication - West',\n",
       "       'Greater China', 'House Accounts', 'Latin America',\n",
       "       'NORTH CENTRAL REGION', 'SOUTH CENTRAL REGION', 'SOUTHEAST REGION',\n",
       "       'West Region', 'HOUSE INTERNATIONAL'], dtype=object)"
      ]
     },
     "execution_count": 10,
     "metadata": {},
     "output_type": "execute_result"
    }
   ],
   "source": [
    "arresters['Sales District Desc (M) '].unique()"
   ]
  },
  {
   "cell_type": "code",
   "execution_count": 11,
   "metadata": {},
   "outputs": [
    {
     "data": {
      "text/plain": [
       "array(['B', 'C', '1', 'A', 'D'], dtype=object)"
      ]
     },
     "execution_count": 11,
     "metadata": {},
     "output_type": "execute_result"
    }
   ],
   "source": [
    "arresters['ABC indicator'].unique()"
   ]
  },
  {
   "cell_type": "code",
   "execution_count": 12,
   "metadata": {},
   "outputs": [
    {
     "name": "stderr",
     "output_type": "stream",
     "text": [
      "/home/ayushi/anaconda3/lib/python3.7/site-packages/pandas/core/frame.py:3697: SettingWithCopyWarning: \n",
      "A value is trying to be set on a copy of a slice from a DataFrame\n",
      "\n",
      "See the caveats in the documentation: http://pandas.pydata.org/pandas-docs/stable/indexing.html#indexing-view-versus-copy\n",
      "  errors=errors)\n"
     ]
    }
   ],
   "source": [
    "arresters.drop('Product Line Desc (M)',axis=1,inplace=True)"
   ]
  },
  {
   "cell_type": "code",
   "execution_count": 13,
   "metadata": {},
   "outputs": [
    {
     "name": "stderr",
     "output_type": "stream",
     "text": [
      "/home/ayushi/anaconda3/lib/python3.7/site-packages/ipykernel_launcher.py:3: SettingWithCopyWarning: \n",
      "A value is trying to be set on a copy of a slice from a DataFrame.\n",
      "Try using .loc[row_indexer,col_indexer] = value instead\n",
      "\n",
      "See the caveats in the documentation: http://pandas.pydata.org/pandas-docs/stable/indexing.html#indexing-view-versus-copy\n",
      "  This is separate from the ipykernel package so we can avoid doing imports until\n"
     ]
    }
   ],
   "source": [
    "from sklearn import preprocessing\n",
    "le = preprocessing.LabelEncoder()\n",
    "arresters['Sales District Desc (M) '] = le.fit_transform(arresters['Sales District Desc (M) '])\n",
    "\n",
    "one_hot1 = pd.get_dummies(arresters['Product Class Desc (M)'])\n",
    "\n",
    "one_hot2 = pd.get_dummies(arresters['ABC indicator'])\n",
    "\n",
    "arresters = pd.concat([arresters, one_hot1], axis=1)\n",
    "\n",
    "arresters=pd.concat([arresters,one_hot2], axis=1)\n",
    "\n",
    "arresters.drop(['Product Class Desc (M)','ABC indicator'],axis=1,inplace=True)"
   ]
  },
  {
   "cell_type": "code",
   "execution_count": 20,
   "metadata": {},
   "outputs": [
    {
     "data": {
      "text/html": [
       "<div>\n",
       "<style scoped>\n",
       "    .dataframe tbody tr th:only-of-type {\n",
       "        vertical-align: middle;\n",
       "    }\n",
       "\n",
       "    .dataframe tbody tr th {\n",
       "        vertical-align: top;\n",
       "    }\n",
       "\n",
       "    .dataframe thead th {\n",
       "        text-align: right;\n",
       "    }\n",
       "</style>\n",
       "<table border=\"1\" class=\"dataframe\">\n",
       "  <thead>\n",
       "    <tr style=\"text-align: right;\">\n",
       "      <th></th>\n",
       "      <th>Sales District Desc (M)</th>\n",
       "      <th>Unnamed: 5</th>\n",
       "      <th>Blocks</th>\n",
       "      <th>Distribution Arresters</th>\n",
       "      <th>Substation HC Arresters</th>\n",
       "      <th>Substation SC Arresters</th>\n",
       "      <th>Transmission Arresters</th>\n",
       "      <th>1</th>\n",
       "      <th>A</th>\n",
       "      <th>B</th>\n",
       "      <th>C</th>\n",
       "      <th>D</th>\n",
       "    </tr>\n",
       "    <tr>\n",
       "      <th>Calendar Year Month</th>\n",
       "      <th></th>\n",
       "      <th></th>\n",
       "      <th></th>\n",
       "      <th></th>\n",
       "      <th></th>\n",
       "      <th></th>\n",
       "      <th></th>\n",
       "      <th></th>\n",
       "      <th></th>\n",
       "      <th></th>\n",
       "      <th></th>\n",
       "      <th></th>\n",
       "    </tr>\n",
       "  </thead>\n",
       "  <tbody>\n",
       "    <tr>\n",
       "      <th>2017-01-01</th>\n",
       "      <td>4</td>\n",
       "      <td>0.00</td>\n",
       "      <td>1</td>\n",
       "      <td>0</td>\n",
       "      <td>0</td>\n",
       "      <td>0</td>\n",
       "      <td>0</td>\n",
       "      <td>0</td>\n",
       "      <td>0</td>\n",
       "      <td>1</td>\n",
       "      <td>0</td>\n",
       "      <td>0</td>\n",
       "    </tr>\n",
       "    <tr>\n",
       "      <th>2017-01-01</th>\n",
       "      <td>4</td>\n",
       "      <td>60588.00</td>\n",
       "      <td>1</td>\n",
       "      <td>0</td>\n",
       "      <td>0</td>\n",
       "      <td>0</td>\n",
       "      <td>0</td>\n",
       "      <td>0</td>\n",
       "      <td>0</td>\n",
       "      <td>0</td>\n",
       "      <td>1</td>\n",
       "      <td>0</td>\n",
       "    </tr>\n",
       "    <tr>\n",
       "      <th>2017-01-01</th>\n",
       "      <td>10</td>\n",
       "      <td>0.00</td>\n",
       "      <td>1</td>\n",
       "      <td>0</td>\n",
       "      <td>0</td>\n",
       "      <td>0</td>\n",
       "      <td>0</td>\n",
       "      <td>0</td>\n",
       "      <td>0</td>\n",
       "      <td>0</td>\n",
       "      <td>1</td>\n",
       "      <td>0</td>\n",
       "    </tr>\n",
       "    <tr>\n",
       "      <th>2017-01-01</th>\n",
       "      <td>0</td>\n",
       "      <td>9963.52</td>\n",
       "      <td>0</td>\n",
       "      <td>1</td>\n",
       "      <td>0</td>\n",
       "      <td>0</td>\n",
       "      <td>0</td>\n",
       "      <td>1</td>\n",
       "      <td>0</td>\n",
       "      <td>0</td>\n",
       "      <td>0</td>\n",
       "      <td>0</td>\n",
       "    </tr>\n",
       "    <tr>\n",
       "      <th>2017-01-01</th>\n",
       "      <td>0</td>\n",
       "      <td>9100.77</td>\n",
       "      <td>0</td>\n",
       "      <td>1</td>\n",
       "      <td>0</td>\n",
       "      <td>0</td>\n",
       "      <td>0</td>\n",
       "      <td>0</td>\n",
       "      <td>0</td>\n",
       "      <td>1</td>\n",
       "      <td>0</td>\n",
       "      <td>0</td>\n",
       "    </tr>\n",
       "  </tbody>\n",
       "</table>\n",
       "</div>"
      ],
      "text/plain": [
       "                     Sales District Desc (M)   Unnamed: 5  Blocks  \\\n",
       "Calendar Year Month                                                 \n",
       "2017-01-01                                  4        0.00       1   \n",
       "2017-01-01                                  4    60588.00       1   \n",
       "2017-01-01                                 10        0.00       1   \n",
       "2017-01-01                                  0     9963.52       0   \n",
       "2017-01-01                                  0     9100.77       0   \n",
       "\n",
       "                     Distribution Arresters  Substation HC Arresters  \\\n",
       "Calendar Year Month                                                    \n",
       "2017-01-01                                0                        0   \n",
       "2017-01-01                                0                        0   \n",
       "2017-01-01                                0                        0   \n",
       "2017-01-01                                1                        0   \n",
       "2017-01-01                                1                        0   \n",
       "\n",
       "                     Substation SC Arresters  Transmission Arresters  1  A  B  \\\n",
       "Calendar Year Month                                                             \n",
       "2017-01-01                                 0                       0  0  0  1   \n",
       "2017-01-01                                 0                       0  0  0  0   \n",
       "2017-01-01                                 0                       0  0  0  0   \n",
       "2017-01-01                                 0                       0  1  0  0   \n",
       "2017-01-01                                 0                       0  0  0  1   \n",
       "\n",
       "                     C  D  \n",
       "Calendar Year Month        \n",
       "2017-01-01           0  0  \n",
       "2017-01-01           1  0  \n",
       "2017-01-01           1  0  \n",
       "2017-01-01           0  0  \n",
       "2017-01-01           0  0  "
      ]
     },
     "execution_count": 20,
     "metadata": {},
     "output_type": "execute_result"
    }
   ],
   "source": [
    "arr_train=arresters[:round(len(arresters)*0.8)]\n",
    "arr_test=arresters[round(len(arresters)*0.8):]\n",
    "arr_train.head()"
   ]
  },
  {
   "cell_type": "code",
   "execution_count": 21,
   "metadata": {},
   "outputs": [
    {
     "name": "stderr",
     "output_type": "stream",
     "text": [
      "/home/ayushi/anaconda3/lib/python3.7/site-packages/statsmodels/tsa/base/tsa_model.py:225: ValueWarning: A date index has been provided, but it has no associated frequency information and so will be ignored when e.g. forecasting.\n",
      "  ' ignored when e.g. forecasting.', ValueWarning)\n"
     ]
    }
   ],
   "source": [
    "model=ARIMA(endog=arr_train['Unnamed: 5'],exog=arr_train[['Sales District Desc (M) ', 'Blocks',\n",
    "       'Distribution Arresters', 'Substation HC Arresters',\n",
    "       'Substation SC Arresters', 'Transmission Arresters', '1', 'A', 'B', 'C',\n",
    "       'D']],\n",
    "      order=(5,0,5))\n"
   ]
  },
  {
   "cell_type": "code",
   "execution_count": 22,
   "metadata": {},
   "outputs": [
    {
     "name": "stderr",
     "output_type": "stream",
     "text": [
      "/home/ayushi/anaconda3/lib/python3.7/site-packages/statsmodels/base/model.py:488: HessianInversionWarning: Inverting hessian failed, no bse or cov_params available\n",
      "  'available', HessianInversionWarning)\n"
     ]
    },
    {
     "data": {
      "text/plain": [
       "57134.266931045495"
      ]
     },
     "execution_count": 22,
     "metadata": {},
     "output_type": "execute_result"
    }
   ],
   "source": [
    "model_fit=model.fit()\n",
    "model_fit.aic"
   ]
  },
  {
   "cell_type": "code",
   "execution_count": 23,
   "metadata": {},
   "outputs": [
    {
     "name": "stderr",
     "output_type": "stream",
     "text": [
      "/home/ayushi/anaconda3/lib/python3.7/site-packages/statsmodels/tsa/base/tsa_model.py:531: ValueWarning: No supported index is available. Prediction results will be given with an integer index beginning at `start`.\n",
      "  ValueWarning)\n"
     ]
    }
   ],
   "source": [
    "predictions=model_fit.predict(start=2501, end=3126,exog=arresters[['Sales District Desc (M) ', 'Blocks',\n",
    "       'Distribution Arresters', 'Substation HC Arresters',\n",
    "       'Substation SC Arresters', 'Transmission Arresters', '1', 'A', 'B', 'C',\n",
    "       'D']])"
   ]
  },
  {
   "cell_type": "code",
   "execution_count": 24,
   "metadata": {},
   "outputs": [
    {
     "data": {
      "text/plain": [
       "2501     7236.323306\n",
       "2502     6672.276116\n",
       "2503     5310.960599\n",
       "2504    11718.444222\n",
       "2505    19352.587583\n",
       "2506    17889.754807\n",
       "2507     7764.426403\n",
       "2508    13655.960801\n",
       "2509    19447.400116\n",
       "2510    18580.692794\n",
       "2511    14103.125441\n",
       "2512    15309.106585\n",
       "2513    13193.009660\n",
       "2514    15783.930426\n",
       "2515    15349.798956\n",
       "2516    15047.223431\n",
       "2517     7070.654482\n",
       "2518    14906.450657\n",
       "2519    14370.137381\n",
       "2520     5819.450240\n",
       "2521    12726.588566\n",
       "2522    16923.658401\n",
       "2523     4493.943923\n",
       "2524     5218.594904\n",
       "2525    10706.384326\n",
       "2526    15841.636334\n",
       "2527     5022.407808\n",
       "2528     5361.941811\n",
       "2529     9072.958339\n",
       "2530    14117.276690\n",
       "            ...     \n",
       "3097     2116.337549\n",
       "3098     6964.520076\n",
       "3099     8946.944313\n",
       "3100     5129.961841\n",
       "3101    10482.416572\n",
       "3102    17769.726150\n",
       "3103    19527.909142\n",
       "3104    13546.310003\n",
       "3105    13063.309473\n",
       "3106    17324.000176\n",
       "3107    19043.468810\n",
       "3108     7653.533393\n",
       "3109    11517.854338\n",
       "3110    16096.394813\n",
       "3111     7420.028526\n",
       "3112    10328.189698\n",
       "3113    14853.422097\n",
       "3114    17663.702539\n",
       "3115    14601.842571\n",
       "3116    16328.937099\n",
       "3117     8421.631814\n",
       "3118    13212.242749\n",
       "3119    15706.316225\n",
       "3120     4680.411182\n",
       "3121     7686.369325\n",
       "3122    12305.330529\n",
       "3123    15046.196115\n",
       "3124     4264.234665\n",
       "3125     7097.225547\n",
       "3126    11422.277375\n",
       "Length: 626, dtype: float64"
      ]
     },
     "execution_count": 24,
     "metadata": {},
     "output_type": "execute_result"
    }
   ],
   "source": [
    "predictions"
   ]
  },
  {
   "cell_type": "markdown",
   "metadata": {},
   "source": [
    "# Sarimax"
   ]
  },
  {
   "cell_type": "code",
   "execution_count": null,
   "metadata": {},
   "outputs": [],
   "source": [
    "columns="
   ]
  },
  {
   "cell_type": "code",
   "execution_count": 44,
   "metadata": {},
   "outputs": [
    {
     "data": {
      "text/plain": [
       "Sales District Desc (M)       int64\n",
       "Unnamed: 5                  float64\n",
       "Blocks                        uint8\n",
       "Distribution Arresters        uint8\n",
       "Substation HC Arresters       uint8\n",
       "Substation SC Arresters       uint8\n",
       "Transmission Arresters        uint8\n",
       "1                             uint8\n",
       "A                             uint8\n",
       "B                             uint8\n",
       "C                             uint8\n",
       "D                             uint8\n",
       "dtype: object"
      ]
     },
     "execution_count": 44,
     "metadata": {},
     "output_type": "execute_result"
    }
   ],
   "source": [
    "arr_train.dtypes"
   ]
  },
  {
   "cell_type": "code",
   "execution_count": 29,
   "metadata": {},
   "outputs": [],
   "source": [
    "from statsmodels.tsa.statespace.sarimax import SARIMAX"
   ]
  },
  {
   "cell_type": "code",
   "execution_count": 35,
   "metadata": {},
   "outputs": [
    {
     "name": "stderr",
     "output_type": "stream",
     "text": [
      "/home/ayushi/anaconda3/lib/python3.7/site-packages/statsmodels/tsa/base/tsa_model.py:225: ValueWarning: A date index has been provided, but it has no associated frequency information and so will be ignored when e.g. forecasting.\n",
      "  ' ignored when e.g. forecasting.', ValueWarning)\n"
     ]
    }
   ],
   "source": [
    "model_sa=SARIMAX(endog=arr_train['Unnamed: 5'],exog=arr_train[['Sales District Desc (M) ', 'Blocks',\n",
    "       'Distribution Arresters', 'Substation HC Arresters',\n",
    "       'Substation SC Arresters', 'Transmission Arresters', '1', 'A', 'B', 'C',\n",
    "       'D']],\n",
    "      order=(1, 0, 0), seasonal_order=(1, 1, 1, 1), trend=None)"
   ]
  },
  {
   "cell_type": "code",
   "execution_count": null,
   "metadata": {},
   "outputs": [],
   "source": [
    "model_sa=SARIMAX(endog=arr_train['Unnamed: 5'],exog=ExogenousFeature_train.values.astype('float64'),\n",
    "      order=(1, 0, 0), seasonal_order=(1, 1, 1, 1), trend=None)"
   ]
  },
  {
   "cell_type": "code",
   "execution_count": 36,
   "metadata": {},
   "outputs": [],
   "source": [
    "model_sa_fit=model_sa.fit()"
   ]
  },
  {
   "cell_type": "code",
   "execution_count": 37,
   "metadata": {},
   "outputs": [
    {
     "data": {
      "text/plain": [
       "57311.95152584059"
      ]
     },
     "execution_count": 37,
     "metadata": {},
     "output_type": "execute_result"
    }
   ],
   "source": [
    "model_sa_fit.aic"
   ]
  },
  {
   "cell_type": "code",
   "execution_count": 43,
   "metadata": {},
   "outputs": [
    {
     "ename": "ValueError",
     "evalue": "Provided exogenous values are not of the appropriate shape. Required (1, 11), got (11,).",
     "output_type": "error",
     "traceback": [
      "\u001b[0;31m---------------------------------------------------------------------------\u001b[0m",
      "\u001b[0;31mValueError\u001b[0m                                Traceback (most recent call last)",
      "\u001b[0;32m<ipython-input-43-69b95a364852>\u001b[0m in \u001b[0;36m<module>\u001b[0;34m()\u001b[0m\n\u001b[1;32m      2\u001b[0m        \u001b[0;34m'Distribution Arresters'\u001b[0m\u001b[0;34m,\u001b[0m \u001b[0;34m'Substation HC Arresters'\u001b[0m\u001b[0;34m,\u001b[0m\u001b[0;34m\u001b[0m\u001b[0m\n\u001b[1;32m      3\u001b[0m        \u001b[0;34m'Substation SC Arresters'\u001b[0m\u001b[0;34m,\u001b[0m \u001b[0;34m'Transmission Arresters'\u001b[0m\u001b[0;34m,\u001b[0m \u001b[0;34m'1'\u001b[0m\u001b[0;34m,\u001b[0m \u001b[0;34m'A'\u001b[0m\u001b[0;34m,\u001b[0m \u001b[0;34m'B'\u001b[0m\u001b[0;34m,\u001b[0m \u001b[0;34m'C'\u001b[0m\u001b[0;34m,\u001b[0m\u001b[0;34m\u001b[0m\u001b[0m\n\u001b[0;32m----> 4\u001b[0;31m        'D'])\n\u001b[0m",
      "\u001b[0;32m~/anaconda3/lib/python3.7/site-packages/statsmodels/tsa/statespace/sarimax.py\u001b[0m in \u001b[0;36mget_prediction\u001b[0;34m(self, start, end, dynamic, index, exog, **kwargs)\u001b[0m\n\u001b[1;32m   1944\u001b[0m                                      \u001b[0;34m' appropriate shape. Required %s, got %s.'\u001b[0m\u001b[0;34m\u001b[0m\u001b[0m\n\u001b[1;32m   1945\u001b[0m                                      % (str(required_exog_shape),\n\u001b[0;32m-> 1946\u001b[0;31m                                         str(exog.shape)))\n\u001b[0m\u001b[1;32m   1947\u001b[0m                 \u001b[0mexog\u001b[0m \u001b[0;34m=\u001b[0m \u001b[0mnp\u001b[0m\u001b[0;34m.\u001b[0m\u001b[0mc_\u001b[0m\u001b[0;34m[\u001b[0m\u001b[0mself\u001b[0m\u001b[0;34m.\u001b[0m\u001b[0mmodel\u001b[0m\u001b[0;34m.\u001b[0m\u001b[0mdata\u001b[0m\u001b[0;34m.\u001b[0m\u001b[0morig_exog\u001b[0m\u001b[0;34m.\u001b[0m\u001b[0mT\u001b[0m\u001b[0;34m,\u001b[0m \u001b[0mexog\u001b[0m\u001b[0;34m.\u001b[0m\u001b[0mT\u001b[0m\u001b[0;34m]\u001b[0m\u001b[0;34m.\u001b[0m\u001b[0mT\u001b[0m\u001b[0;34m\u001b[0m\u001b[0m\n\u001b[1;32m   1948\u001b[0m \u001b[0;34m\u001b[0m\u001b[0m\n",
      "\u001b[0;31mValueError\u001b[0m: Provided exogenous values are not of the appropriate shape. Required (1, 11), got (11,)."
     ]
    }
   ],
   "source": [
    "predictions=model_sa_fit.get_prediction(start=2501,dynamic=False,exog=['Sales District Desc (M) ', 'Blocks',\n",
    "       'Distribution Arresters', 'Substation HC Arresters',\n",
    "       'Substation SC Arresters', 'Transmission Arresters', '1', 'A', 'B', 'C',\n",
    "       'D'])"
   ]
  },
  {
   "cell_type": "markdown",
   "metadata": {},
   "source": [
    "# for Univariate"
   ]
  },
  {
   "cell_type": "code",
   "execution_count": 19,
   "metadata": {},
   "outputs": [],
   "source": [
    "t=arresters['Unnamed: 5']\n",
    "t=pd.DataFrame(t)"
   ]
  },
  {
   "cell_type": "code",
   "execution_count": 28,
   "metadata": {},
   "outputs": [
    {
     "data": {
      "image/png": "[encoded data removed]",
      "text/plain": [
       "<Figure size 432x288 with 1 Axes>"
      ]
     },
     "execution_count": 28,
     "metadata": {},
     "output_type": "execute_result"
    },
    {
     "data": {
      "image/png": "[encoded data removed]",
      "text/plain": [
       "<Figure size 432x288 with 1 Axes>"
      ]
     },
     "metadata": {
      "needs_background": "light"
     },
     "output_type": "display_data"
    }
   ],
   "source": [
    "from statsmodels.graphics.tsaplots import plot_acf\n",
    "plot_acf(t)"
   ]
  },
  {
   "cell_type": "markdown",
   "metadata": {},
   "source": [
    "this plot shows that data is stationary because the values decreased instantly"
   ]
  },
  {
   "cell_type": "markdown",
   "metadata": {},
   "source": [
    "#  Stationarity\n",
    "mean, variance, covariance are same over period of time. It is used to remove trend in the data"
   ]
  },
  {
   "cell_type": "markdown",
   "metadata": {},
   "source": [
    "our data is already stationary , so we dont need to do any differncing , otherwise it can be done as below\n",
    "Converting series to stationarity\n",
    "\n",
    "t_diff=t.diff(periods=1)\n",
    "integrated of order =1, denoted by d( for diff), it is one of the parameter of ARIMAmodel\n",
    "\n",
    "t_diff=t_diff[1:]\n",
    "\n"
   ]
  },
  {
   "cell_type": "code",
   "execution_count": 29,
   "metadata": {},
   "outputs": [],
   "source": [
    "train=t[:round(len(t)*0.8)]\n",
    "test=t[round(len(t)*0.8):]"
   ]
  },
  {
   "cell_type": "markdown",
   "metadata": {},
   "source": [
    "# AR Model"
   ]
  },
  {
   "cell_type": "code",
   "execution_count": 30,
   "metadata": {},
   "outputs": [],
   "source": [
    "from statsmodels.tsa.ar_model import AR\n",
    "from sklearn.metrics import mean_squared_error"
   ]
  },
  {
   "cell_type": "code",
   "execution_count": 31,
   "metadata": {},
   "outputs": [
    {
     "name": "stderr",
     "output_type": "stream",
     "text": [
      "/home/ayushi/anaconda3/lib/python3.7/site-packages/statsmodels/tsa/base/tsa_model.py:225: ValueWarning: A date index has been provided, but it has no associated frequency information and so will be ignored when e.g. forecasting.\n",
      "  ' ignored when e.g. forecasting.', ValueWarning)\n"
     ]
    }
   ],
   "source": [
    "model_ar = AR(train)\n",
    "model_ar_fit = model_ar.fit()"
   ]
  },
  {
   "cell_type": "code",
   "execution_count": 32,
   "metadata": {},
   "outputs": [
    {
     "name": "stderr",
     "output_type": "stream",
     "text": [
      "/home/ayushi/anaconda3/lib/python3.7/site-packages/statsmodels/tsa/base/tsa_model.py:531: ValueWarning: No supported index is available. Prediction results will be given with an integer index beginning at `start`.\n",
      "  ValueWarning)\n"
     ]
    }
   ],
   "source": [
    "predictions=model_ar_fit.predict(start=2501, end=3126)\n",
    "predictions=pd.DataFrame(predictions)"
   ]
  },
  {
   "cell_type": "code",
   "execution_count": 33,
   "metadata": {},
   "outputs": [
    {
     "data": {
      "text/plain": [
       "<matplotlib.axes._subplots.AxesSubplot at 0x7fea8a2e9eb8>"
      ]
     },
     "execution_count": 33,
     "metadata": {},
     "output_type": "execute_result"
    },
    {
     "data": {
      "image/png": "[encoded data removed]",
      "text/plain": [
       "<Figure size 432x288 with 1 Axes>"
      ]
     },
     "metadata": {
      "needs_background": "light"
     },
     "output_type": "display_data"
    }
   ],
   "source": [
    "sns.lineplot(data=predictions)\n",
    "# sns.lineplot(data=test)"
   ]
  },
  {
   "cell_type": "markdown",
   "metadata": {},
   "source": [
    "# ARIMA Model"
   ]
  },
  {
   "cell_type": "code",
   "execution_count": 34,
   "metadata": {},
   "outputs": [],
   "source": [
    "from statsmodels.tsa.arima_model import ARIMA"
   ]
  },
  {
   "cell_type": "code",
   "execution_count": 38,
   "metadata": {},
   "outputs": [
    {
     "name": "stdout",
     "output_type": "stream",
     "text": [
      "57213.31353924744\n"
     ]
    }
   ],
   "source": [
    "# p,d,q \n",
    "# p= periods taken for autoregressive model\n",
    "# d= order of integrated, difference\n",
    "# q= periods in moving average model\n",
    "model_arima= ARIMA(train, order=(1,1,1))\n",
    "model_arima_fit= model_arima.fit()\n",
    "print(model_arima_fit.aic)"
   ]
  },
  {
   "cell_type": "code",
   "execution_count": 40,
   "metadata": {},
   "outputs": [],
   "source": [
    "import itertools\n",
    "p=d=q=range(1,2)\n",
    "pdq=list(itertools.product(p,d,q))"
   ]
  },
  {
   "cell_type": "code",
   "execution_count": 41,
   "metadata": {},
   "outputs": [],
   "source": [
    "import warnings\n",
    "warnings.filterwarnings('ignore')\n",
    "for param in pdq:\n",
    "    try:\n",
    "        model_arima= ARIMA(train, order=param)\n",
    "        model_arima_fit= model_arima.fit()\n",
    "        print(params,model_arima_fit.aic)\n",
    "    except:\n",
    "        continue"
   ]
  },
  {
   "cell_type": "code",
   "execution_count": null,
   "metadata": {},
   "outputs": [],
   "source": [
    "model_arima_fit.forecast(steps=625)[0]"
   ]
  },
  {
   "cell_type": "code",
   "execution_count": 46,
   "metadata": {},
   "outputs": [
    {
     "data": {
      "text/plain": [
       "Index(['Product Class Desc (M)', 'Sales District Desc (M) ', 'ABC indicator',\n",
       "       'Unnamed: 5'],\n",
       "      dtype='object')"
      ]
     },
     "execution_count": 46,
     "metadata": {},
     "output_type": "execute_result"
    }
   ],
   "source": [
    "arresters.columns"
   ]
  },
  {
   "cell_type": "code",
   "execution_count": 47,
   "metadata": {},
   "outputs": [],
   "source": [
    "data=arr_train[['Sales District Desc (M) ', 'Blocks',\n",
    "       'Distribution Arresters', 'Substation HC Arresters',\n",
    "       'Substation SC Arresters', 'Transmission Arresters', '1', 'A', 'B', 'C',\n",
    "       'D']]\n",
    "target=arr_train['Unnamed: 5']"
   ]
  },
  {
   "cell_type": "code",
   "execution_count": 64,
   "metadata": {},
   "outputs": [
    {
     "name": "stderr",
     "output_type": "stream",
     "text": [
      "/home/ayushi/anaconda3/lib/python3.7/site-packages/statsmodels/tsa/base/tsa_model.py:225: ValueWarning: A date index has been provided, but it has no associated frequency information and so will be ignored when e.g. forecasting.\n",
      "  ' ignored when e.g. forecasting.', ValueWarning)\n"
     ]
    },
    {
     "ename": "TypeError",
     "evalue": "Cannot clone object '<statsmodels.tsa.arima_model.ARMA object at 0x7f3196e77278>' (type <class 'statsmodels.tsa.arima_model.ARMA'>): it does not seem to be a scikit-learn estimator as it does not implement a 'get_params' methods.",
     "output_type": "error",
     "traceback": [
      "\u001b[0;31m---------------------------------------------------------------------------\u001b[0m",
      "\u001b[0;31mTypeError\u001b[0m                                 Traceback (most recent call last)",
      "\u001b[0;32m<ipython-input-64-ceb46c6b2c25>\u001b[0m in \u001b[0;36m<module>\u001b[0;34m()\u001b[0m\n\u001b[1;32m      2\u001b[0m \u001b[0mmodel\u001b[0m\u001b[0;34m=\u001b[0m\u001b[0mARIMA\u001b[0m\u001b[0;34m(\u001b[0m\u001b[0marr_train\u001b[0m\u001b[0;34m,\u001b[0m\u001b[0morder\u001b[0m\u001b[0;34m=\u001b[0m\u001b[0;34m(\u001b[0m\u001b[0;36m3\u001b[0m\u001b[0;34m,\u001b[0m\u001b[0;36m0\u001b[0m\u001b[0;34m,\u001b[0m\u001b[0;36m2\u001b[0m\u001b[0;34m)\u001b[0m\u001b[0;34m)\u001b[0m\u001b[0;34m\u001b[0m\u001b[0m\n\u001b[1;32m      3\u001b[0m \u001b[0mgrid\u001b[0m \u001b[0;34m=\u001b[0m \u001b[0mGridSearchCV\u001b[0m\u001b[0;34m(\u001b[0m\u001b[0mestimator\u001b[0m\u001b[0;34m=\u001b[0m\u001b[0mmodel\u001b[0m\u001b[0;34m,\u001b[0m \u001b[0mparam_grid\u001b[0m\u001b[0;34m=\u001b[0m\u001b[0mparam\u001b[0m\u001b[0;34m)\u001b[0m\u001b[0;34m\u001b[0m\u001b[0m\n\u001b[0;32m----> 4\u001b[0;31m \u001b[0mgrid\u001b[0m\u001b[0;34m.\u001b[0m\u001b[0mfit\u001b[0m\u001b[0;34m(\u001b[0m\u001b[0mdata\u001b[0m\u001b[0;34m,\u001b[0m \u001b[0mtarget\u001b[0m\u001b[0;34m)\u001b[0m\u001b[0;34m\u001b[0m\u001b[0m\n\u001b[0m\u001b[1;32m      5\u001b[0m \u001b[0mprint\u001b[0m\u001b[0;34m(\u001b[0m\u001b[0mgrid\u001b[0m\u001b[0;34m)\u001b[0m\u001b[0;34m\u001b[0m\u001b[0m\n\u001b[1;32m      6\u001b[0m \u001b[0;31m# summarize the results of the grid search\u001b[0m\u001b[0;34m\u001b[0m\u001b[0;34m\u001b[0m\u001b[0m\n",
      "\u001b[0;32m~/anaconda3/lib/python3.7/site-packages/sklearn/model_selection/_search.py\u001b[0m in \u001b[0;36mfit\u001b[0;34m(self, X, y, groups, **fit_params)\u001b[0m\n\u001b[1;32m    624\u001b[0m                                      n_candidates * n_splits))\n\u001b[1;32m    625\u001b[0m \u001b[0;34m\u001b[0m\u001b[0m\n\u001b[0;32m--> 626\u001b[0;31m         \u001b[0mbase_estimator\u001b[0m \u001b[0;34m=\u001b[0m \u001b[0mclone\u001b[0m\u001b[0;34m(\u001b[0m\u001b[0mself\u001b[0m\u001b[0;34m.\u001b[0m\u001b[0mestimator\u001b[0m\u001b[0;34m)\u001b[0m\u001b[0;34m\u001b[0m\u001b[0m\n\u001b[0m\u001b[1;32m    627\u001b[0m         \u001b[0mpre_dispatch\u001b[0m \u001b[0;34m=\u001b[0m \u001b[0mself\u001b[0m\u001b[0;34m.\u001b[0m\u001b[0mpre_dispatch\u001b[0m\u001b[0;34m\u001b[0m\u001b[0m\n\u001b[1;32m    628\u001b[0m \u001b[0;34m\u001b[0m\u001b[0m\n",
      "\u001b[0;32m~/anaconda3/lib/python3.7/site-packages/sklearn/base.py\u001b[0m in \u001b[0;36mclone\u001b[0;34m(estimator, safe)\u001b[0m\n\u001b[1;32m     56\u001b[0m                             \u001b[0;34m\"it does not seem to be a scikit-learn estimator \"\u001b[0m\u001b[0;34m\u001b[0m\u001b[0m\n\u001b[1;32m     57\u001b[0m                             \u001b[0;34m\"as it does not implement a 'get_params' methods.\"\u001b[0m\u001b[0;34m\u001b[0m\u001b[0m\n\u001b[0;32m---> 58\u001b[0;31m                             % (repr(estimator), type(estimator)))\n\u001b[0m\u001b[1;32m     59\u001b[0m     \u001b[0mklass\u001b[0m \u001b[0;34m=\u001b[0m \u001b[0mestimator\u001b[0m\u001b[0;34m.\u001b[0m\u001b[0m__class__\u001b[0m\u001b[0;34m\u001b[0m\u001b[0m\n\u001b[1;32m     60\u001b[0m     \u001b[0mnew_object_params\u001b[0m \u001b[0;34m=\u001b[0m \u001b[0mestimator\u001b[0m\u001b[0;34m.\u001b[0m\u001b[0mget_params\u001b[0m\u001b[0;34m(\u001b[0m\u001b[0mdeep\u001b[0m\u001b[0;34m=\u001b[0m\u001b[0;32mFalse\u001b[0m\u001b[0;34m)\u001b[0m\u001b[0;34m\u001b[0m\u001b[0m\n",
      "\u001b[0;31mTypeError\u001b[0m: Cannot clone object '<statsmodels.tsa.arima_model.ARMA object at 0x7f3196e77278>' (type <class 'statsmodels.tsa.arima_model.ARMA'>): it does not seem to be a scikit-learn estimator as it does not implement a 'get_params' methods."
     ]
    }
   ],
   "source": [
    "# create and fit a ridge regression model, testing each alpha\n",
    "model=ARIMA(arr_train,order=(3,0,2))\n",
    "grid = GridSearchCV(estimator=model, param_grid=param)\n",
    "grid.fit(data, target)\n",
    "print(grid)\n",
    "# summarize the results of the grid search\n",
    "print(grid.best_score_)\n",
    "print(grid.best_estimator_.alpha)\n"
   ]
  },
  {
   "cell_type": "code",
   "execution_count": 45,
   "metadata": {},
   "outputs": [],
   "source": [
    "param={'p':[0,1,2,3,4,5,6,7,8,9],'d':[0,1,2,3,4,5,6,7,8,9],'q':[0,1,2,3,4,5,6,7,8,9]}"
   ]
  },
  {
   "cell_type": "code",
   "execution_count": 46,
   "metadata": {},
   "outputs": [
    {
     "data": {
      "text/plain": [
       "{'p': [0, 1, 2, 3, 4, 5, 6, 7, 8, 9],\n",
       " 'd': [0, 1, 2, 3, 4, 5, 6, 7, 8, 9],\n",
       " 'q': [0, 1, 2, 3, 4, 5, 6, 7, 8, 9]}"
      ]
     },
     "execution_count": 46,
     "metadata": {},
     "output_type": "execute_result"
    }
   ],
   "source": [
    "param"
   ]
  },
  {
   "cell_type": "code",
   "execution_count": null,
   "metadata": {},
   "outputs": [],
   "source": []
  }
 ],
 "metadata": {
  "kernelspec": {
   "display_name": "Python 3",
   "language": "python",
   "name": "python3"
  },
  "language_info": {
   "codemirror_mode": {
    "name": "ipython",
    "version": 3
   },
   "file_extension": ".py",
   "mimetype": "text/x-python",
   "name": "python",
   "nbconvert_exporter": "python",
   "pygments_lexer": "ipython3",
   "version": "3.7.1"
  }
 },
 "nbformat": 4,
 "nbformat_minor": 2
}
