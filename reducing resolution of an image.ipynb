{
 "cells": [
  {
   "cell_type": "code",
   "execution_count": 9,
   "metadata": {},
   "outputs": [
    {
     "name": "stderr",
     "output_type": "stream",
     "text": [
      "100%|██████████| 20/20 [00:01<00:00, 13.95it/s]\n"
     ]
    }
   ],
   "source": [
    "from PIL import Image\n",
    "import os \n",
    "from tqdm import tqdm\n",
    "\n",
    "f = os.listdir('/home/ayushi/Documents/downloads/car bumper minor damage 2')\n",
    "fpath = [os.path.join('/home/ayushi/Documents/downloads/car bumper minor damage 2', x) for x in f]\n",
    "\n",
    "count = 0\n",
    "for img in tqdm(fpath):\n",
    "    foo = Image.open(img)\n",
    "    foo = foo.convert('RGB')\n",
    "    foo = foo.resize((640, 480), Image.ANTIALIAS)\n",
    "    foo.save('/home/ayushi/Documents/downloads/car bumper minor damage 2' +\"car\"+str(count)+'.jpg', quality=50)\n",
    "    count += 1"
   ]
  },
  {
   "cell_type": "code",
   "execution_count": null,
   "metadata": {},
   "outputs": [],
   "source": []
  }
 ],
 "metadata": {
  "kernelspec": {
   "display_name": "Python 3",
   "language": "python",
   "name": "python3"
  },
  "language_info": {
   "codemirror_mode": {
    "name": "ipython",
    "version": 3
   },
   "file_extension": ".py",
   "mimetype": "text/x-python",
   "name": "python",
   "nbconvert_exporter": "python",
   "pygments_lexer": "ipython3",
   "version": "3.7.0"
  }
 },
 "nbformat": 4,
 "nbformat_minor": 2
}
