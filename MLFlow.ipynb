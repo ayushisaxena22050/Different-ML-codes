{
 "cells": [
  {
   "cell_type": "code",
   "execution_count": 1,
   "metadata": {},
   "outputs": [
    {
     "name": "stdout",
     "output_type": "stream",
     "text": [
      "Collecting mlflow\n",
      "\u001b[?25l  Downloading https://files.pythonhosted.org/packages/3b/a5/33eb76eeedadd2c02d4697abd56a555e56edbfb747aefc5f83e30a4f9bd9/mlflow-0.8.2.tar.gz (11.6MB)\n",
      "\u001b[K    100% |████████████████████████████████| 11.6MB 2.1MB/s ta 0:00:01   16% |█████▏                          | 1.9MB 1.1MB/s eta 0:00:10    19% |██████▎                         | 2.3MB 1.8MB/s eta 0:00:06\n",
      "\u001b[?25hRequirement already satisfied: click>=6.7 in /home/ayushi/anaconda3/lib/python3.7/site-packages (from mlflow) (6.7)\n",
      "Collecting databricks-cli>=0.8.0 (from mlflow)\n",
      "\u001b[?25l  Downloading https://files.pythonhosted.org/packages/5f/14/7cc3d43a60156ce23b76f613fbc37ed007e298a7a51ea04a1a5bb9d0a485/databricks-cli-0.8.3.tar.gz (41kB)\n",
      "\u001b[K    100% |████████████████████████████████| 51kB 3.3MB/s ta 0:00:01\n",
      "\u001b[?25hRequirement already satisfied: requests>=2.17.3 in /home/ayushi/anaconda3/lib/python3.7/site-packages (from mlflow) (2.19.1)\n",
      "Requirement already satisfied: six>=1.10.0 in /home/ayushi/anaconda3/lib/python3.7/site-packages (from mlflow) (1.11.0)\n",
      "Collecting gunicorn (from mlflow)\n",
      "\u001b[?25l  Downloading https://files.pythonhosted.org/packages/8c/da/b8dd8deb741bff556db53902d4706774c8e1e67265f69528c14c003644e6/gunicorn-19.9.0-py2.py3-none-any.whl (112kB)\n",
      "\u001b[K    100% |████████████████████████████████| 122kB 3.9MB/s ta 0:00:01\n",
      "\u001b[?25hRequirement already satisfied: Flask in /home/ayushi/anaconda3/lib/python3.7/site-packages (from mlflow) (1.0.2)\n",
      "Requirement already satisfied: numpy in /home/ayushi/anaconda3/lib/python3.7/site-packages (from mlflow) (1.15.1)\n",
      "Requirement already satisfied: pandas in /home/ayushi/anaconda3/lib/python3.7/site-packages (from mlflow) (0.23.4)\n",
      "Requirement already satisfied: scipy in /home/ayushi/anaconda3/lib/python3.7/site-packages (from mlflow) (1.1.0)\n",
      "Requirement already satisfied: scikit-learn in /home/ayushi/anaconda3/lib/python3.7/site-packages (from mlflow) (0.19.2)\n",
      "Requirement already satisfied: python-dateutil in /home/ayushi/anaconda3/lib/python3.7/site-packages (from mlflow) (2.7.3)\n",
      "Collecting protobuf>=3.6.0 (from mlflow)\n",
      "\u001b[?25l  Downloading https://files.pythonhosted.org/packages/3a/30/289ead101f94998d88e8961a3548aea29417ae0057be23972483cddebf4f/protobuf-3.6.1-cp37-cp37m-manylinux1_x86_64.whl (1.1MB)\n",
      "\u001b[K    100% |████████████████████████████████| 1.1MB 3.6MB/s ta 0:00:011\n",
      "\u001b[?25hCollecting gitpython>=2.1.0 (from mlflow)\n",
      "\u001b[?25l  Downloading https://files.pythonhosted.org/packages/fe/e5/fafe827507644c32d6dc553a1c435cdf882e0c28918a5bab29f7fbebfb70/GitPython-2.1.11-py2.py3-none-any.whl (448kB)\n",
      "\u001b[K    100% |████████████████████████████████| 450kB 134kB/s ta 0:00:01\n",
      "\u001b[?25hRequirement already satisfied: pyyaml in /home/ayushi/anaconda3/lib/python3.7/site-packages (from mlflow) (3.13)\n",
      "Requirement already satisfied: boto3>=1.7.12 in /home/ayushi/anaconda3/lib/python3.7/site-packages (from mlflow) (1.9.50)\n",
      "Collecting querystring_parser (from mlflow)\n",
      "  Downloading https://files.pythonhosted.org/packages/57/64/3086a9a991ff3aca7b769f5b0b51ff8445a06337ae2c58f215bcee48f527/querystring_parser-1.2.3.tar.gz\n",
      "Collecting simplejson (from mlflow)\n",
      "\u001b[?25l  Downloading https://files.pythonhosted.org/packages/e3/24/c35fb1c1c315fc0fffe61ea00d3f88e85469004713dab488dee4f35b0aff/simplejson-3.16.0.tar.gz (81kB)\n",
      "\u001b[K    100% |████████████████████████████████| 81kB 145kB/s ta 0:00:01\n",
      "\u001b[?25hCollecting mleap>=0.8.1 (from mlflow)\n",
      "  Downloading https://files.pythonhosted.org/packages/3b/17/486a3cf30695581f029ba618ee878252a9e9f859c48913e30a07d13c8a21/mleap-0.8.1.tar.gz\n",
      "Requirement already satisfied: cloudpickle in /home/ayushi/anaconda3/lib/python3.7/site-packages (from mlflow) (0.5.5)\n",
      "Collecting tabulate>=0.7.7 (from databricks-cli>=0.8.0->mlflow)\n",
      "\u001b[?25l  Downloading https://files.pythonhosted.org/packages/c2/fd/202954b3f0eb896c53b7b6f07390851b1fd2ca84aa95880d7ae4f434c4ac/tabulate-0.8.3.tar.gz (46kB)\n",
      "\u001b[K    100% |████████████████████████████████| 51kB 1.7MB/s ta 0:00:01\n",
      "\u001b[?25hCollecting configparser>=0.3.5 (from databricks-cli>=0.8.0->mlflow)\n",
      "  Downloading https://files.pythonhosted.org/packages/43/63/220afe02a0d302c2244309b1dce3d884a865be65c7d8148ededfc0c29c31/configparser-3.7.1-py3-none-any.whl\n",
      "Requirement already satisfied: certifi>=2017.4.17 in /home/ayushi/anaconda3/lib/python3.7/site-packages (from requests>=2.17.3->mlflow) (2018.8.24)\n",
      "Requirement already satisfied: urllib3<1.24,>=1.21.1 in /home/ayushi/anaconda3/lib/python3.7/site-packages (from requests>=2.17.3->mlflow) (1.23)\n",
      "Requirement already satisfied: idna<2.8,>=2.5 in /home/ayushi/anaconda3/lib/python3.7/site-packages (from requests>=2.17.3->mlflow) (2.7)\n",
      "Requirement already satisfied: chardet<3.1.0,>=3.0.2 in /home/ayushi/anaconda3/lib/python3.7/site-packages (from requests>=2.17.3->mlflow) (3.0.4)\n",
      "Requirement already satisfied: Jinja2>=2.10 in /home/ayushi/anaconda3/lib/python3.7/site-packages (from Flask->mlflow) (2.10)\n",
      "Requirement already satisfied: itsdangerous>=0.24 in /home/ayushi/anaconda3/lib/python3.7/site-packages (from Flask->mlflow) (0.24)\n",
      "Requirement already satisfied: Werkzeug>=0.14 in /home/ayushi/anaconda3/lib/python3.7/site-packages (from Flask->mlflow) (0.14.1)\n",
      "Requirement already satisfied: pytz>=2011k in /home/ayushi/anaconda3/lib/python3.7/site-packages (from pandas->mlflow) (2018.5)\n",
      "Requirement already satisfied: setuptools in /home/ayushi/anaconda3/lib/python3.7/site-packages (from protobuf>=3.6.0->mlflow) (40.2.0)\n",
      "Collecting gitdb2>=2.0.0 (from gitpython>=2.1.0->mlflow)\n",
      "\u001b[?25l  Downloading https://files.pythonhosted.org/packages/da/30/a407568aa8d8f25db817cf50121a958722f3fc5f87e3a6fba1f40c0633e3/gitdb2-2.0.5-py2.py3-none-any.whl (62kB)\n",
      "\u001b[K    100% |████████████████████████████████| 71kB 1.0MB/s ta 0:00:01\n",
      "\u001b[?25hRequirement already satisfied: botocore<1.13.0,>=1.12.50 in /home/ayushi/anaconda3/lib/python3.7/site-packages (from boto3>=1.7.12->mlflow) (1.12.50)\n",
      "Requirement already satisfied: s3transfer<0.2.0,>=0.1.10 in /home/ayushi/anaconda3/lib/python3.7/site-packages (from boto3>=1.7.12->mlflow) (0.1.13)\n",
      "Requirement already satisfied: jmespath<1.0.0,>=0.7.1 in /home/ayushi/anaconda3/lib/python3.7/site-packages (from boto3>=1.7.12->mlflow) (0.9.3)\n",
      "Collecting argparse>=1.1 (from mleap>=0.8.1->mlflow)\n",
      "  Downloading https://files.pythonhosted.org/packages/f2/94/3af39d34be01a24a6e65433d19e107099374224905f1e0cc6bbe1fd22a2f/argparse-1.4.0-py2.py3-none-any.whl\n",
      "Collecting nose-exclude>=0.5.0 (from mleap>=0.8.1->mlflow)\n",
      "  Downloading https://files.pythonhosted.org/packages/63/cf/90c4be56bf11b7bc8801086d9445baf731aa36b8e8fc5791731e8e604dcd/nose-exclude-0.5.0.tar.gz\n",
      "Requirement already satisfied: MarkupSafe>=0.23 in /home/ayushi/anaconda3/lib/python3.7/site-packages (from Jinja2>=2.10->Flask->mlflow) (1.0)\n",
      "Collecting smmap2>=2.0.0 (from gitdb2>=2.0.0->gitpython>=2.1.0->mlflow)\n",
      "  Downloading https://files.pythonhosted.org/packages/55/d2/866d45e3a121ee15a1dc013824d58072fd5c7799c9c34d01378eb262ca8f/smmap2-2.0.5-py2.py3-none-any.whl\n",
      "Requirement already satisfied: docutils>=0.10 in /home/ayushi/anaconda3/lib/python3.7/site-packages (from botocore<1.13.0,>=1.12.50->boto3>=1.7.12->mlflow) (0.14)\n",
      "Requirement already satisfied: nose in /home/ayushi/anaconda3/lib/python3.7/site-packages (from nose-exclude>=0.5.0->mleap>=0.8.1->mlflow) (1.3.7)\n",
      "Building wheels for collected packages: mlflow, databricks-cli, querystring-parser, simplejson, mleap, tabulate, nose-exclude\n",
      "  Building wheel for mlflow (setup.py) ... \u001b[?25ldone\n",
      "\u001b[?25h  Stored in directory: /home/ayushi/.cache/pip/wheels/f8/63/bc/a532313edbcc8f318916e29b1018d5439ae8928b4be4a0f615\n",
      "  Building wheel for databricks-cli (setup.py) ... \u001b[?25ldone\n",
      "\u001b[?25h  Stored in directory: /home/ayushi/.cache/pip/wheels/08/ed/d4/bcc912de9f513275d166f186d4e6c62d8a49beee6ebdacee0f\n",
      "  Building wheel for querystring-parser (setup.py) ... \u001b[?25ldone\n",
      "\u001b[?25h  Stored in directory: /home/ayushi/.cache/pip/wheels/ee/09/99/bf937e4f02788fa8b33dc5240842ba3977ba5c3c4ad4a115d7\n",
      "  Building wheel for simplejson (setup.py) ... \u001b[?25ldone\n",
      "\u001b[?25h  Stored in directory: /home/ayushi/.cache/pip/wheels/5d/1a/1e/0350bb3df3e74215cd91325344cc86c2c691f5306eb4d22c77\n",
      "  Building wheel for mleap (setup.py) ... \u001b[?25ldone\n",
      "\u001b[?25h  Stored in directory: /home/ayushi/.cache/pip/wheels/bc/a5/8d/7d021f2741ed8a7354e4fe19c1890e71ed719d681cd16cf292\n"
     ]
    },
    {
     "name": "stdout",
     "output_type": "stream",
     "text": [
      "  Building wheel for tabulate (setup.py) ... \u001b[?25ldone\n",
      "\u001b[?25h  Stored in directory: /home/ayushi/.cache/pip/wheels/2b/67/89/414471314a2d15de625d184d8be6d38a03ae1e983dbda91e84\n",
      "  Building wheel for nose-exclude (setup.py) ... \u001b[?25ldone\n",
      "\u001b[?25h  Stored in directory: /home/ayushi/.cache/pip/wheels/fe/b9/8f/764ed47b11e2e062ae8fe5f09d1c801a600292fdd9ba3477bb\n",
      "Successfully built mlflow databricks-cli querystring-parser simplejson mleap tabulate nose-exclude\n",
      "\u001b[31mtensorflow 0.12.0 has requirement protobuf==3.1.0, but you'll have protobuf 3.6.1 which is incompatible.\u001b[0m\n",
      "Installing collected packages: tabulate, configparser, databricks-cli, gunicorn, protobuf, smmap2, gitdb2, gitpython, querystring-parser, simplejson, argparse, nose-exclude, mleap, mlflow\n",
      "  Found existing installation: protobuf 3.1.0\n",
      "    Uninstalling protobuf-3.1.0:\n",
      "      Successfully uninstalled protobuf-3.1.0\n",
      "Successfully installed argparse-1.4.0 configparser-3.7.1 databricks-cli-0.8.3 gitdb2-2.0.5 gitpython-2.1.11 gunicorn-19.9.0 mleap-0.8.1 mlflow-0.8.2 nose-exclude-0.5.0 protobuf-3.6.1 querystring-parser-1.2.3 simplejson-3.16.0 smmap2-2.0.5 tabulate-0.8.3\n"
     ]
    }
   ],
   "source": [
    "!pip install mlflow"
   ]
  },
  {
   "cell_type": "code",
   "execution_count": 3,
   "metadata": {},
   "outputs": [
    {
     "name": "stdout",
     "output_type": "stream",
     "text": [
      "Cloning into 'mlflow'...\n",
      "remote: Enumerating objects: 65, done.\u001b[K\n",
      "remote: Counting objects: 100% (65/65), done.\u001b[K\n",
      "remote: Compressing objects: 100% (55/55), done.\u001b[K\n",
      "remote: Total 6632 (delta 20), reused 22 (delta 9), pack-reused 6567\u001b[K\n",
      "Receiving objects: 100% (6632/6632), 7.55 MiB | 459.00 KiB/s, done.\n",
      "Resolving deltas: 100% (3946/3946), done.\n"
     ]
    }
   ],
   "source": [
    "!git clone https://github.com/mlflow/mlflow"
   ]
  },
  {
   "cell_type": "code",
   "execution_count": 4,
   "metadata": {},
   "outputs": [],
   "source": [
    "import os\n",
    "from mlflow import log_metric, log_param, log_artifact\n",
    "\n",
    "if __name__ == \"__main__\":\n",
    "    # Log a parameter (key-value pair)\n",
    "    log_param(\"param1\", 5)\n",
    "\n",
    "    # Log a metric; metrics can be updated throughout the run\n",
    "    log_metric(\"foo\", 1)\n",
    "    log_metric(\"foo\", 2)\n",
    "    log_metric(\"foo\", 3)\n",
    "\n",
    "    # Log an artifact (output file)\n",
    "    with open(\"output.txt\", \"w\") as f:\n",
    "        f.write(\"Hello world!\")\n",
    "    log_artifact(\"output.txt\")\n"
   ]
  },
  {
   "cell_type": "code",
   "execution_count": 7,
   "metadata": {},
   "outputs": [
    {
     "name": "stdout",
     "output_type": "stream",
     "text": [
      "[2019-02-07 12:19:35 +0530] [6976] [INFO] Starting gunicorn 19.9.0\n",
      "[2019-02-07 12:19:35 +0530] [6976] [INFO] Listening at: http://127.0.0.1:5000 (6976)\n",
      "[2019-02-07 12:19:35 +0530] [6976] [INFO] Using worker: sync\n",
      "[2019-02-07 12:19:35 +0530] [6979] [INFO] Booting worker with pid: 6979\n",
      "^C\n",
      "[2019-02-07 13:48:17 +0530] [6976] [INFO] Handling signal: int\n",
      "[2019-02-07 13:48:17 +0530] [6979] [INFO] Worker exiting (pid: 6979)\n"
     ]
    }
   ],
   "source": [
    "!mlflow ui"
   ]
  },
  {
   "cell_type": "code",
   "execution_count": 8,
   "metadata": {},
   "outputs": [
    {
     "ename": "SyntaxError",
     "evalue": "invalid syntax (<ipython-input-8-7500fca82805>, line 1)",
     "output_type": "error",
     "traceback": [
      "\u001b[0;36m  File \u001b[0;32m\"<ipython-input-8-7500fca82805>\"\u001b[0;36m, line \u001b[0;32m1\u001b[0m\n\u001b[0;31m    python sklearn_logistic_regression/train.py\u001b[0m\n\u001b[0m                                     ^\u001b[0m\n\u001b[0;31mSyntaxError\u001b[0m\u001b[0;31m:\u001b[0m invalid syntax\n"
     ]
    }
   ],
   "source": [
    "python sklearn_logistic_regression/train.py"
   ]
  },
  {
   "cell_type": "code",
   "execution_count": null,
   "metadata": {},
   "outputs": [],
   "source": []
  }
 ],
 "metadata": {
  "kernelspec": {
   "display_name": "Python 3",
   "language": "python",
   "name": "python3"
  },
  "language_info": {
   "codemirror_mode": {
    "name": "ipython",
    "version": 3
   },
   "file_extension": ".py",
   "mimetype": "text/x-python",
   "name": "python",
   "nbconvert_exporter": "python",
   "pygments_lexer": "ipython3",
   "version": "3.7.0"
  }
 },
 "nbformat": 4,
 "nbformat_minor": 2
}
