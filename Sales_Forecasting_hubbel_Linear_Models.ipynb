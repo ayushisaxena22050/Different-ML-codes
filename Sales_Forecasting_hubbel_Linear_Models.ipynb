{
 "cells": [
  {
   "cell_type": "code",
   "execution_count": 1,
   "metadata": {},
   "outputs": [],
   "source": [
    "import pandas as pd\n",
    "import numpy as np\n",
    "import matplotlib.pylab as plt\n",
    "%matplotlib inline\n",
    "from matplotlib.pylab import rcParams\n",
    "import statsmodels\n",
    "from statsmodels.tsa.stattools import adfuller\n",
    "import statsmodels.api as sm #For Dickey-Fuller Test\n",
    "from sklearn.preprocessing import LabelEncoder\n",
    "from sklearn.preprocessing import OneHotEncoder\n",
    "from sklearn.model_selection import train_test_split\n",
    "from sklearn import linear_model\n",
    "from sklearn.metrics import r2_score,mean_squared_error\n",
    "rcParams['figure.figsize'] = 15, 6"
   ]
  },
  {
   "cell_type": "code",
   "execution_count": 2,
   "metadata": {},
   "outputs": [
    {
     "data": {
      "text/html": [
       "<div>\n",
       "<style scoped>\n",
       "    .dataframe tbody tr th:only-of-type {\n",
       "        vertical-align: middle;\n",
       "    }\n",
       "\n",
       "    .dataframe tbody tr th {\n",
       "        vertical-align: top;\n",
       "    }\n",
       "\n",
       "    .dataframe thead th {\n",
       "        text-align: right;\n",
       "    }\n",
       "</style>\n",
       "<table border=\"1\" class=\"dataframe\">\n",
       "  <thead>\n",
       "    <tr style=\"text-align: right;\">\n",
       "      <th></th>\n",
       "      <th>ABCIndicator</th>\n",
       "      <th>Month</th>\n",
       "      <th>ProductClassDesc</th>\n",
       "      <th>ProductLineDesc</th>\n",
       "      <th>SalesDistrictDesc</th>\n",
       "      <th>Shippable_$</th>\n",
       "      <th>Year</th>\n",
       "    </tr>\n",
       "  </thead>\n",
       "  <tbody>\n",
       "    <tr>\n",
       "      <th>0</th>\n",
       "      <td>P</td>\n",
       "      <td>1</td>\n",
       "      <td>Underground</td>\n",
       "      <td>Enclosures &amp; Drains</td>\n",
       "      <td>West Region</td>\n",
       "      <td>590.05</td>\n",
       "      <td>2017</td>\n",
       "    </tr>\n",
       "    <tr>\n",
       "      <th>1</th>\n",
       "      <td>P</td>\n",
       "      <td>1</td>\n",
       "      <td>Fiberglass Construction</td>\n",
       "      <td>Safety Products</td>\n",
       "      <td>Communication - West</td>\n",
       "      <td>0.00</td>\n",
       "      <td>2017</td>\n",
       "    </tr>\n",
       "    <tr>\n",
       "      <th>2</th>\n",
       "      <td>C</td>\n",
       "      <td>1</td>\n",
       "      <td>Fiberglass Construction</td>\n",
       "      <td>Safety Products</td>\n",
       "      <td>Communication - West</td>\n",
       "      <td>0.00</td>\n",
       "      <td>2017</td>\n",
       "    </tr>\n",
       "    <tr>\n",
       "      <th>3</th>\n",
       "      <td>A</td>\n",
       "      <td>1</td>\n",
       "      <td>Fiberglass Construction</td>\n",
       "      <td>Safety Products</td>\n",
       "      <td>Communication - West</td>\n",
       "      <td>435.77</td>\n",
       "      <td>2017</td>\n",
       "    </tr>\n",
       "    <tr>\n",
       "      <th>4</th>\n",
       "      <td>B</td>\n",
       "      <td>1</td>\n",
       "      <td>Fiberglass Construction</td>\n",
       "      <td>Safety Products</td>\n",
       "      <td>Communication - East</td>\n",
       "      <td>0.00</td>\n",
       "      <td>2017</td>\n",
       "    </tr>\n",
       "  </tbody>\n",
       "</table>\n",
       "</div>"
      ],
      "text/plain": [
       "  ABCIndicator  Month         ProductClassDesc      ProductLineDesc  \\\n",
       "0            P      1              Underground  Enclosures & Drains   \n",
       "1            P      1  Fiberglass Construction      Safety Products   \n",
       "2            C      1  Fiberglass Construction      Safety Products   \n",
       "3            A      1  Fiberglass Construction      Safety Products   \n",
       "4            B      1  Fiberglass Construction      Safety Products   \n",
       "\n",
       "      SalesDistrictDesc  Shippable_$  Year  \n",
       "0           West Region       590.05  2017  \n",
       "1  Communication - West         0.00  2017  \n",
       "2  Communication - West         0.00  2017  \n",
       "3  Communication - West       435.77  2017  \n",
       "4  Communication - East         0.00  2017  "
      ]
     },
     "execution_count": 2,
     "metadata": {},
     "output_type": "execute_result"
    }
   ],
   "source": [
    "#Reading a csv file\n",
    "df=pd.read_csv('shippable_revenue_forecasting.csv')\n",
    "df.head()"
   ]
  },
  {
   "cell_type": "code",
   "execution_count": 3,
   "metadata": {},
   "outputs": [
    {
     "data": {
      "text/plain": [
       "(31593, 7)"
      ]
     },
     "execution_count": 3,
     "metadata": {},
     "output_type": "execute_result"
    }
   ],
   "source": [
    "train=df[1:round(len(df)*0.9)]  #here we can't use random train test split because this is time series data ,so we need values sequentially\n",
    "train.shape"
   ]
  },
  {
   "cell_type": "code",
   "execution_count": 4,
   "metadata": {},
   "outputs": [
    {
     "data": {
      "text/plain": [
       "(3511, 7)"
      ]
     },
     "execution_count": 4,
     "metadata": {},
     "output_type": "execute_result"
    }
   ],
   "source": [
    "test=df[31593:]\n",
    "test.shape"
   ]
  },
  {
   "cell_type": "code",
   "execution_count": 46,
   "metadata": {},
   "outputs": [],
   "source": [
    "#Making a copy, to protect original data\n",
    "train_original = train.copy()\n",
    "test_original =test.copy()"
   ]
  },
  {
   "cell_type": "code",
   "execution_count": 47,
   "metadata": {},
   "outputs": [],
   "source": [
    "train=train.loc[train.ProductClassDesc!='#'] #Removing # values\n",
    "test = test.loc[test.ProductClassDesc!='#'] "
   ]
  },
  {
   "cell_type": "code",
   "execution_count": 48,
   "metadata": {},
   "outputs": [
    {
     "data": {
      "text/plain": [
       "ABCIndicator         0\n",
       "Month                0\n",
       "ProductClassDesc     0\n",
       "ProductLineDesc      0\n",
       "SalesDistrictDesc    0\n",
       "Shippable_$          0\n",
       "Year                 0\n",
       "dtype: int64"
      ]
     },
     "execution_count": 48,
     "metadata": {},
     "output_type": "execute_result"
    }
   ],
   "source": [
    "train.isnull().sum()# No Missing Values"
   ]
  },
  {
   "cell_type": "code",
   "execution_count": 49,
   "metadata": {},
   "outputs": [
    {
     "data": {
      "text/plain": [
       "C     8949\n",
       "B     6770\n",
       "A     6078\n",
       "D     3695\n",
       "1     3345\n",
       "P     1326\n",
       "##    1268\n",
       "Name: ABCIndicator, dtype: int64"
      ]
     },
     "execution_count": 49,
     "metadata": {},
     "output_type": "execute_result"
    }
   ],
   "source": [
    "train.ABCIndicator.value_counts()"
   ]
  },
  {
   "cell_type": "code",
   "execution_count": 50,
   "metadata": {},
   "outputs": [],
   "source": [
    "#Removing '##' values from ABCIndicator\n",
    "train=train.loc[train.ABCIndicator!='##'] \n",
    "test = test.loc[test.ABCIndicator!='##'] "
   ]
  },
  {
   "cell_type": "code",
   "execution_count": null,
   "metadata": {},
   "outputs": [],
   "source": []
  },
  {
   "cell_type": "code",
   "execution_count": 51,
   "metadata": {},
   "outputs": [
    {
     "data": {
      "text/plain": [
       "Year  Month\n",
       "2017  1        17306125.03\n",
       "      2        15250667.97\n",
       "      3        13606118.84\n",
       "      4        11365164.37\n",
       "      5        11936396.65\n",
       "      6        11646166.27\n",
       "      7        14436917.67\n",
       "      8        14650194.96\n",
       "      9        19142549.07\n",
       "      10       16807334.24\n",
       "      11       15045913.93\n",
       "      12       11752345.95\n",
       "2018  1        16490530.66\n",
       "      2        14367265.73\n",
       "      3        12966175.04\n",
       "      4        16226271.05\n",
       "      5        18107058.22\n",
       "      6        15017874.28\n",
       "      7        19964405.91\n",
       "      8        18298135.40\n",
       "      9        14591188.44\n",
       "      10       16605596.90\n",
       "      11       15099817.93\n",
       "      12              0.00\n",
       "2019  1               0.00\n",
       "      2               0.00\n",
       "      3               0.00\n",
       "      4               0.00\n",
       "      5               0.00\n",
       "      6               0.00\n",
       "      7               0.00\n",
       "      8               0.00\n",
       "      9               0.00\n",
       "      10              0.00\n",
       "      11              0.00\n",
       "Name: Shippable_$, dtype: float64"
      ]
     },
     "execution_count": 51,
     "metadata": {},
     "output_type": "execute_result"
    }
   ],
   "source": [
    "df.groupby(['Year','Month']).sum()['Shippable_$']"
   ]
  },
  {
   "cell_type": "code",
   "execution_count": 52,
   "metadata": {},
   "outputs": [
    {
     "data": {
      "text/plain": [
       "C    8949\n",
       "B    6770\n",
       "A    6078\n",
       "D    3695\n",
       "1    3345\n",
       "P    1326\n",
       "Name: ABCIndicator, dtype: int64"
      ]
     },
     "execution_count": 52,
     "metadata": {},
     "output_type": "execute_result"
    }
   ],
   "source": [
    "train.ABCIndicator.value_counts()"
   ]
  },
  {
   "cell_type": "code",
   "execution_count": 53,
   "metadata": {},
   "outputs": [
    {
     "data": {
      "text/plain": [
       "Traditional Tools                   1554\n",
       "Pole Line Hardware                  1313\n",
       "Distribution Connectors             1290\n",
       "Resale                              1191\n",
       "Utility Anchors                     1142\n",
       "Distribution Arresters              1096\n",
       "Underground                         1057\n",
       "Transmission Connectors             1054\n",
       "Substation Connectors               1000\n",
       "Substation SC Arresters              991\n",
       "URD Accessories                      934\n",
       "PCORE Electric                       905\n",
       "Cutouts                              900\n",
       "Fiberglass Construction              894\n",
       "Fuse Links                           848\n",
       "Transmission Insulators              817\n",
       "Distribution Insulators              809\n",
       "Gloves and Sleeves                   761\n",
       "Substation HC Arresters              760\n",
       "Above Ground                         758\n",
       "OVHD Switches                        748\n",
       "Cutouts - Polymer                    709\n",
       "URD Arresters                        577\n",
       "Teleprotection (TPR)                 497\n",
       "Substation Switches                  482\n",
       "Enclosures                           479\n",
       "Carrier Comm (CCM)                   450\n",
       "Electro Composites                   441\n",
       "Capacitor Switches                   419\n",
       "Accessories                          412\n",
       "Power Load                           394\n",
       "Transmission Arresters               386\n",
       "Turner Accessories                   376\n",
       "Civil                                290\n",
       "Sectionalizers                       273\n",
       "Power Factor Correction              271\n",
       "Lighting Control                     269\n",
       "Turner Interrupters                  263\n",
       "Reclosers                            245\n",
       "Reuel                                231\n",
       "Fiber Splice Products                220\n",
       "Other Assemblies                     197\n",
       "Padmount Switches                    186\n",
       "Aluminium Loops                      166\n",
       "Drain                                125\n",
       "Turner Substation Switches           120\n",
       "Hot Box                              108\n",
       "Turner Transmission Switches         107\n",
       "Cust Srvc Sales (CSS)                106\n",
       "Uti Trans Sys (UET)                   92\n",
       "Atlas                                 86\n",
       "Con Sys & Telemetry (CST)             82\n",
       "Plastic Loops                         81\n",
       "Blocks                                60\n",
       "DNU-Small Underground Enclosures      45\n",
       "Load Break Switches                   43\n",
       "DNU-Large Underground Enclosures      30\n",
       "OEM Rod                               17\n",
       "Wire Mesh                              6\n",
       "Name: ProductClassDesc, dtype: int64"
      ]
     },
     "execution_count": 53,
     "metadata": {},
     "output_type": "execute_result"
    }
   ],
   "source": [
    "train.ProductClassDesc.value_counts()"
   ]
  },
  {
   "cell_type": "code",
   "execution_count": 54,
   "metadata": {},
   "outputs": [],
   "source": [
    "# Now Lets try to predict on test data. But for that let's convert our features into numeric datatype\n",
    "labelencoder = LabelEncoder()\n",
    "train['ProductClassDesc']=labelencoder.fit_transform(train['ProductClassDesc'])\n",
    "train['SalesDistrictDesc']=labelencoder.fit_transform(train['SalesDistrictDesc'])\n",
    "train['ABCIndicator'] =labelencoder.fit_transform(train['ABCIndicator'])"
   ]
  },
  {
   "cell_type": "code",
   "execution_count": 55,
   "metadata": {},
   "outputs": [],
   "source": [
    "dummies=pd.get_dummies(train['ProductLineDesc'])\n",
    "train=pd.concat([train, dummies], axis=1)"
   ]
  },
  {
   "cell_type": "code",
   "execution_count": 56,
   "metadata": {},
   "outputs": [],
   "source": [
    "del train['ProductLineDesc']"
   ]
  },
  {
   "cell_type": "code",
   "execution_count": 57,
   "metadata": {},
   "outputs": [
    {
     "data": {
      "text/html": [
       "<div>\n",
       "<style scoped>\n",
       "    .dataframe tbody tr th:only-of-type {\n",
       "        vertical-align: middle;\n",
       "    }\n",
       "\n",
       "    .dataframe tbody tr th {\n",
       "        vertical-align: top;\n",
       "    }\n",
       "\n",
       "    .dataframe thead th {\n",
       "        text-align: right;\n",
       "    }\n",
       "</style>\n",
       "<table border=\"1\" class=\"dataframe\">\n",
       "  <thead>\n",
       "    <tr style=\"text-align: right;\">\n",
       "      <th></th>\n",
       "      <th>ABCIndicator</th>\n",
       "      <th>Month</th>\n",
       "      <th>ProductClassDesc</th>\n",
       "      <th>SalesDistrictDesc</th>\n",
       "      <th>Shippable_$</th>\n",
       "      <th>Year</th>\n",
       "      <th>Arresters</th>\n",
       "      <th>Bushings</th>\n",
       "      <th>Cable Accessories</th>\n",
       "      <th>Connectors</th>\n",
       "      <th>Construction</th>\n",
       "      <th>Enclosures &amp; Drains</th>\n",
       "      <th>Insulators</th>\n",
       "      <th>Safety Products</th>\n",
       "      <th>Switching &amp; Fusing</th>\n",
       "      <th>Utility Automation</th>\n",
       "      <th>Wire Management</th>\n",
       "    </tr>\n",
       "  </thead>\n",
       "  <tbody>\n",
       "    <tr>\n",
       "      <th>1</th>\n",
       "      <td>5</td>\n",
       "      <td>1</td>\n",
       "      <td>21</td>\n",
       "      <td>5</td>\n",
       "      <td>0.00</td>\n",
       "      <td>2017</td>\n",
       "      <td>0</td>\n",
       "      <td>0</td>\n",
       "      <td>0</td>\n",
       "      <td>0</td>\n",
       "      <td>0</td>\n",
       "      <td>0</td>\n",
       "      <td>0</td>\n",
       "      <td>1</td>\n",
       "      <td>0</td>\n",
       "      <td>0</td>\n",
       "      <td>0</td>\n",
       "    </tr>\n",
       "    <tr>\n",
       "      <th>2</th>\n",
       "      <td>3</td>\n",
       "      <td>1</td>\n",
       "      <td>21</td>\n",
       "      <td>5</td>\n",
       "      <td>0.00</td>\n",
       "      <td>2017</td>\n",
       "      <td>0</td>\n",
       "      <td>0</td>\n",
       "      <td>0</td>\n",
       "      <td>0</td>\n",
       "      <td>0</td>\n",
       "      <td>0</td>\n",
       "      <td>0</td>\n",
       "      <td>1</td>\n",
       "      <td>0</td>\n",
       "      <td>0</td>\n",
       "      <td>0</td>\n",
       "    </tr>\n",
       "    <tr>\n",
       "      <th>3</th>\n",
       "      <td>1</td>\n",
       "      <td>1</td>\n",
       "      <td>21</td>\n",
       "      <td>5</td>\n",
       "      <td>435.77</td>\n",
       "      <td>2017</td>\n",
       "      <td>0</td>\n",
       "      <td>0</td>\n",
       "      <td>0</td>\n",
       "      <td>0</td>\n",
       "      <td>0</td>\n",
       "      <td>0</td>\n",
       "      <td>0</td>\n",
       "      <td>1</td>\n",
       "      <td>0</td>\n",
       "      <td>0</td>\n",
       "      <td>0</td>\n",
       "    </tr>\n",
       "    <tr>\n",
       "      <th>4</th>\n",
       "      <td>2</td>\n",
       "      <td>1</td>\n",
       "      <td>21</td>\n",
       "      <td>4</td>\n",
       "      <td>0.00</td>\n",
       "      <td>2017</td>\n",
       "      <td>0</td>\n",
       "      <td>0</td>\n",
       "      <td>0</td>\n",
       "      <td>0</td>\n",
       "      <td>0</td>\n",
       "      <td>0</td>\n",
       "      <td>0</td>\n",
       "      <td>1</td>\n",
       "      <td>0</td>\n",
       "      <td>0</td>\n",
       "      <td>0</td>\n",
       "    </tr>\n",
       "    <tr>\n",
       "      <th>5</th>\n",
       "      <td>1</td>\n",
       "      <td>1</td>\n",
       "      <td>21</td>\n",
       "      <td>4</td>\n",
       "      <td>1055.10</td>\n",
       "      <td>2017</td>\n",
       "      <td>0</td>\n",
       "      <td>0</td>\n",
       "      <td>0</td>\n",
       "      <td>0</td>\n",
       "      <td>0</td>\n",
       "      <td>0</td>\n",
       "      <td>0</td>\n",
       "      <td>1</td>\n",
       "      <td>0</td>\n",
       "      <td>0</td>\n",
       "      <td>0</td>\n",
       "    </tr>\n",
       "  </tbody>\n",
       "</table>\n",
       "</div>"
      ],
      "text/plain": [
       "   ABCIndicator  Month  ProductClassDesc  SalesDistrictDesc  Shippable_$  \\\n",
       "1             5      1                21                  5         0.00   \n",
       "2             3      1                21                  5         0.00   \n",
       "3             1      1                21                  5       435.77   \n",
       "4             2      1                21                  4         0.00   \n",
       "5             1      1                21                  4      1055.10   \n",
       "\n",
       "   Year  Arresters  Bushings  Cable Accessories  Connectors  Construction  \\\n",
       "1  2017          0         0                  0           0             0   \n",
       "2  2017          0         0                  0           0             0   \n",
       "3  2017          0         0                  0           0             0   \n",
       "4  2017          0         0                  0           0             0   \n",
       "5  2017          0         0                  0           0             0   \n",
       "\n",
       "   Enclosures & Drains  Insulators  Safety Products  Switching & Fusing  \\\n",
       "1                    0           0                1                   0   \n",
       "2                    0           0                1                   0   \n",
       "3                    0           0                1                   0   \n",
       "4                    0           0                1                   0   \n",
       "5                    0           0                1                   0   \n",
       "\n",
       "   Utility Automation  Wire Management  \n",
       "1                   0                0  \n",
       "2                   0                0  \n",
       "3                   0                0  \n",
       "4                   0                0  \n",
       "5                   0                0  "
      ]
     },
     "execution_count": 57,
     "metadata": {},
     "output_type": "execute_result"
    }
   ],
   "source": [
    "train.head()# Now All columns are numerical"
   ]
  },
  {
   "cell_type": "code",
   "execution_count": 18,
   "metadata": {},
   "outputs": [],
   "source": [
    "#Now lets apply Linear Regression.First we will make a validation set by using traintest split."
   ]
  },
  {
   "cell_type": "code",
   "execution_count": 20,
   "metadata": {},
   "outputs": [],
   "source": [
    "Y=train['Shippable_$']\n",
    "del train['Shippable_$']"
   ]
  },
  {
   "cell_type": "code",
   "execution_count": 21,
   "metadata": {},
   "outputs": [],
   "source": [
    "X_train,X_valid,Y_train,Y_valid=train_test_split(train,Y,test_size=0.33,random_state=334)"
   ]
  },
  {
   "cell_type": "code",
   "execution_count": 23,
   "metadata": {},
   "outputs": [],
   "source": [
    "regr=linear_model.LinearRegression()"
   ]
  },
  {
   "cell_type": "code",
   "execution_count": 24,
   "metadata": {},
   "outputs": [
    {
     "data": {
      "text/plain": [
       "LinearRegression(copy_X=True, fit_intercept=True, n_jobs=None,\n",
       "         normalize=False)"
      ]
     },
     "execution_count": 24,
     "metadata": {},
     "output_type": "execute_result"
    }
   ],
   "source": [
    "regr.fit(X_train,Y_train)"
   ]
  },
  {
   "cell_type": "code",
   "execution_count": 26,
   "metadata": {},
   "outputs": [],
   "source": [
    "predictions=regr.predict(X_valid)"
   ]
  },
  {
   "cell_type": "code",
   "execution_count": 29,
   "metadata": {},
   "outputs": [
    {
     "data": {
      "text/plain": [
       "31644.29093897195"
      ]
     },
     "execution_count": 29,
     "metadata": {},
     "output_type": "execute_result"
    }
   ],
   "source": [
    "np.sqrt(mean_squared_error(Y_valid,predictions)) #very high rmse, this mean our model didn't perform well."
   ]
  },
  {
   "cell_type": "code",
   "execution_count": 59,
   "metadata": {},
   "outputs": [
    {
     "data": {
      "text/plain": [
       "0.033267102225393086"
      ]
     },
     "execution_count": 59,
     "metadata": {},
     "output_type": "execute_result"
    }
   ],
   "source": [
    "r2_score(Y_valid,predictions)"
   ]
  },
  {
   "cell_type": "code",
   "execution_count": 60,
   "metadata": {},
   "outputs": [],
   "source": [
    "from sklearn.ensemble import RandomForestRegressor"
   ]
  },
  {
   "cell_type": "code",
   "execution_count": 115,
   "metadata": {},
   "outputs": [],
   "source": [
    "regr2 = RandomForestRegressor(max_depth=20, random_state=0,n_estimators=200,max_features='sqrt')"
   ]
  },
  {
   "cell_type": "code",
   "execution_count": 116,
   "metadata": {},
   "outputs": [
    {
     "data": {
      "text/plain": [
       "RandomForestRegressor(bootstrap=True, criterion='mse', max_depth=20,\n",
       "           max_features='sqrt', max_leaf_nodes=None,\n",
       "           min_impurity_decrease=0.0, min_impurity_split=None,\n",
       "           min_samples_leaf=1, min_samples_split=2,\n",
       "           min_weight_fraction_leaf=0.0, n_estimators=200, n_jobs=None,\n",
       "           oob_score=False, random_state=0, verbose=0, warm_start=False)"
      ]
     },
     "execution_count": 116,
     "metadata": {},
     "output_type": "execute_result"
    }
   ],
   "source": [
    "regr2.fit(X_train,Y_train)"
   ]
  },
  {
   "cell_type": "code",
   "execution_count": 117,
   "metadata": {},
   "outputs": [],
   "source": [
    "predictions=regr2.predict(X_valid)"
   ]
  },
  {
   "cell_type": "code",
   "execution_count": 118,
   "metadata": {},
   "outputs": [
    {
     "data": {
      "text/plain": [
       "23456.62751521539"
      ]
     },
     "execution_count": 118,
     "metadata": {},
     "output_type": "execute_result"
    }
   ],
   "source": [
    "np.sqrt(mean_squared_error(predictions,Y_valid))"
   ]
  },
  {
   "cell_type": "code",
   "execution_count": null,
   "metadata": {},
   "outputs": [],
   "source": []
  },
  {
   "cell_type": "code",
   "execution_count": null,
   "metadata": {},
   "outputs": [],
   "source": []
  }
 ],
 "metadata": {
  "kernelspec": {
   "display_name": "Python 3",
   "language": "python",
   "name": "python3"
  },
  "language_info": {
   "codemirror_mode": {
    "name": "ipython",
    "version": 3
   },
   "file_extension": ".py",
   "mimetype": "text/x-python",
   "name": "python",
   "nbconvert_exporter": "python",
   "pygments_lexer": "ipython3",
   "version": "3.7.1"
  }
 },
 "nbformat": 4,
 "nbformat_minor": 2
}
