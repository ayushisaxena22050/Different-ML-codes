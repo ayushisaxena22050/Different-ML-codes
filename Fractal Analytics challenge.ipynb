{
 "cells": [
  {
   "cell_type": "code",
   "execution_count": 12,
   "metadata": {},
   "outputs": [
    {
     "name": "stdout",
     "output_type": "stream",
     "text": [
      "3 4 5\n"
     ]
    },
    {
     "data": {
      "text/plain": [
       "[4, 4, 9]"
      ]
     },
     "execution_count": 12,
     "metadata": {},
     "output_type": "execute_result"
    }
   ],
   "source": [
    "# Determine the sum of all odd positives integers up to some numbers arr[i].If queries are arr=[4,5]the answerfor arr[0] 1+3=4 \n",
    "\n",
    "n=list(map(int, input().strip().split()))\n",
    "temp=0\n",
    "arr=[]\n",
    "for j in n:\n",
    "    temp=0\n",
    "    for i in range(1,j+1):\n",
    "        if(i%2!=0):\n",
    "            temp=temp+i\n",
    "    arr.append(temp)\n",
    "arr"
   ]
  }
 ],
 "metadata": {
  "kernelspec": {
   "display_name": "Python 3",
   "language": "python",
   "name": "python3"
  },
  "language_info": {
   "codemirror_mode": {
    "name": "ipython",
    "version": 3
   },
   "file_extension": ".py",
   "mimetype": "text/x-python",
   "name": "python",
   "nbconvert_exporter": "python",
   "pygments_lexer": "ipython3",
   "version": "3.7.0"
  }
 },
 "nbformat": 4,
 "nbformat_minor": 2
}
