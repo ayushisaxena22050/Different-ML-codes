{
 "cells": [
  {
   "cell_type": "code",
   "execution_count": 1,
   "metadata": {},
   "outputs": [],
   "source": [
    "\n",
    "\n",
    "from sklearn import preprocessing\n",
    "import pandas as pd\n",
    "import matplotlib.pyplot as plt\n",
    "from xgboost import XGBRegressor\n",
    "%matplotlib inline\n",
    "import seaborn as sns\n",
    "from sklearn import linear_model\n",
    "from sklearn.model_selection import train_test_split\n",
    "from sklearn.metrics import r2_score"
   ]
  },
  {
   "cell_type": "code",
   "execution_count": 2,
   "metadata": {},
   "outputs": [],
   "source": [
    "df1=pd.read_excel('/home/ayushi/Downloads/RE/R1.xlsx',sheet_name='Sheet1', header=1)"
   ]
  },
  {
   "cell_type": "code",
   "execution_count": 154,
   "metadata": {},
   "outputs": [],
   "source": [
    "df1 = df1.iloc[:-1] # deleting last row\n",
    "\n",
    "df1['Calendar Year Month']=pd.to_datetime(df1['Calendar Year Month'],format='%Y%m')\n",
    "df1['year']=df1['Calendar Year Month'].apply(lambda x: x.year) \n",
    "df1['month']=df1['Calendar Year Month'].apply(lambda x: x.month)\n",
    "df1.drop(['Calendar Year Month'],axis=1,inplace=True)"
   ]
  },
  {
   "cell_type": "code",
   "execution_count": 10,
   "metadata": {},
   "outputs": [
    {
     "data": {
      "text/plain": [
       "1        EuropeMidEastAfrica\n",
       "2        EuropeMidEastAfrica\n",
       "3          North East Region\n",
       "1296     EuropeMidEastAfrica\n",
       "1297     EuropeMidEastAfrica\n",
       "2603     EuropeMidEastAfrica\n",
       "2604     EuropeMidEastAfrica\n",
       "2605          House Accounts\n",
       "3903     EuropeMidEastAfrica\n",
       "3904     EuropeMidEastAfrica\n",
       "3905          House Accounts\n",
       "5219     EuropeMidEastAfrica\n",
       "6560     EuropeMidEastAfrica\n",
       "6561     EuropeMidEastAfrica\n",
       "6562          House Accounts\n",
       "7890     EuropeMidEastAfrica\n",
       "7891     EuropeMidEastAfrica\n",
       "9214     EuropeMidEastAfrica\n",
       "10504    EuropeMidEastAfrica\n",
       "10505         House Accounts\n",
       "10506         House Accounts\n",
       "11809    EuropeMidEastAfrica\n",
       "11810    EuropeMidEastAfrica\n",
       "11811         House Accounts\n",
       "13148    EuropeMidEastAfrica\n",
       "13149    EuropeMidEastAfrica\n",
       "13150         House Accounts\n",
       "14457    EuropeMidEastAfrica\n",
       "14458    EuropeMidEastAfrica\n",
       "14459         House Accounts\n",
       "15708    EuropeMidEastAfrica\n",
       "15709         House Accounts\n",
       "15710         House Accounts\n",
       "16981    EuropeMidEastAfrica\n",
       "16982    EuropeMidEastAfrica\n",
       "16983         House Accounts\n",
       "16984         House Accounts\n",
       "18242    EuropeMidEastAfrica\n",
       "18243         House Accounts\n",
       "18244         House Accounts\n",
       "19512    EuropeMidEastAfrica\n",
       "19513         House Accounts\n",
       "19514      North East Region\n",
       "20792    EuropeMidEastAfrica\n",
       "20793         House Accounts\n",
       "20794         House Accounts\n",
       "22114         House Accounts\n",
       "22115         House Accounts\n",
       "23391    EuropeMidEastAfrica\n",
       "23392    EuropeMidEastAfrica\n",
       "23393         House Accounts\n",
       "24702    EuropeMidEastAfrica\n",
       "24703    EuropeMidEastAfrica\n",
       "24704         House Accounts\n",
       "26054         House Accounts\n",
       "27404    EuropeMidEastAfrica\n",
       "27405      North East Region\n",
       "28755    EuropeMidEastAfrica\n",
       "28756    EuropeMidEastAfrica\n",
       "Name: Sales District Desc (M) , dtype: object"
      ]
     },
     "execution_count": 10,
     "metadata": {},
     "output_type": "execute_result"
    }
   ],
   "source": [
    "df1.groupby('')"
   ]
  },
  {
   "cell_type": "code",
   "execution_count": 155,
   "metadata": {},
   "outputs": [
    {
     "data": {
      "text/html": [
       "<div>\n",
       "<style scoped>\n",
       "    .dataframe tbody tr th:only-of-type {\n",
       "        vertical-align: middle;\n",
       "    }\n",
       "\n",
       "    .dataframe tbody tr th {\n",
       "        vertical-align: top;\n",
       "    }\n",
       "\n",
       "    .dataframe thead th {\n",
       "        text-align: right;\n",
       "    }\n",
       "</style>\n",
       "<table border=\"1\" class=\"dataframe\">\n",
       "  <thead>\n",
       "    <tr style=\"text-align: right;\">\n",
       "      <th></th>\n",
       "      <th>Product Line Desc (M)</th>\n",
       "      <th>Product Class Desc (M)</th>\n",
       "      <th>Sales District Desc (M)</th>\n",
       "      <th>ABC indicator</th>\n",
       "      <th>Unnamed: 5</th>\n",
       "      <th>USD</th>\n",
       "      <th>USD.1</th>\n",
       "      <th>USD.2</th>\n",
       "      <th>USD.3</th>\n",
       "      <th>USD.4</th>\n",
       "      <th>USD.5</th>\n",
       "      <th>Unnamed: 12</th>\n",
       "      <th>year</th>\n",
       "      <th>month</th>\n",
       "    </tr>\n",
       "  </thead>\n",
       "  <tbody>\n",
       "    <tr>\n",
       "      <th>0</th>\n",
       "      <td>Arresters</td>\n",
       "      <td>#</td>\n",
       "      <td>North East Region</td>\n",
       "      <td>##</td>\n",
       "      <td>0.00</td>\n",
       "      <td>0.0</td>\n",
       "      <td>0.00</td>\n",
       "      <td>0.0</td>\n",
       "      <td>536.34</td>\n",
       "      <td>0.0</td>\n",
       "      <td>0.0</td>\n",
       "      <td>536.34</td>\n",
       "      <td>2017</td>\n",
       "      <td>1</td>\n",
       "    </tr>\n",
       "    <tr>\n",
       "      <th>1</th>\n",
       "      <td>Arresters</td>\n",
       "      <td>Blocks</td>\n",
       "      <td>EuropeMidEastAfrica</td>\n",
       "      <td>B</td>\n",
       "      <td>0.00</td>\n",
       "      <td>0.0</td>\n",
       "      <td>0.00</td>\n",
       "      <td>0.0</td>\n",
       "      <td>23040.00</td>\n",
       "      <td>23040.0</td>\n",
       "      <td>15360.0</td>\n",
       "      <td>61440.00</td>\n",
       "      <td>2017</td>\n",
       "      <td>1</td>\n",
       "    </tr>\n",
       "    <tr>\n",
       "      <th>2</th>\n",
       "      <td>Arresters</td>\n",
       "      <td>Blocks</td>\n",
       "      <td>EuropeMidEastAfrica</td>\n",
       "      <td>C</td>\n",
       "      <td>60588.00</td>\n",
       "      <td>60588.0</td>\n",
       "      <td>0.00</td>\n",
       "      <td>0.0</td>\n",
       "      <td>25486.20</td>\n",
       "      <td>46656.0</td>\n",
       "      <td>190256.0</td>\n",
       "      <td>322986.20</td>\n",
       "      <td>2017</td>\n",
       "      <td>1</td>\n",
       "    </tr>\n",
       "    <tr>\n",
       "      <th>3</th>\n",
       "      <td>Arresters</td>\n",
       "      <td>Blocks</td>\n",
       "      <td>North East Region</td>\n",
       "      <td>C</td>\n",
       "      <td>0.00</td>\n",
       "      <td>0.0</td>\n",
       "      <td>0.00</td>\n",
       "      <td>0.0</td>\n",
       "      <td>5691.00</td>\n",
       "      <td>0.0</td>\n",
       "      <td>0.0</td>\n",
       "      <td>5691.00</td>\n",
       "      <td>2017</td>\n",
       "      <td>1</td>\n",
       "    </tr>\n",
       "    <tr>\n",
       "      <th>4</th>\n",
       "      <td>Arresters</td>\n",
       "      <td>Distribution Arresters</td>\n",
       "      <td>APAC</td>\n",
       "      <td>1</td>\n",
       "      <td>9963.52</td>\n",
       "      <td>0.0</td>\n",
       "      <td>9963.52</td>\n",
       "      <td>0.0</td>\n",
       "      <td>0.00</td>\n",
       "      <td>0.0</td>\n",
       "      <td>0.0</td>\n",
       "      <td>9963.52</td>\n",
       "      <td>2017</td>\n",
       "      <td>1</td>\n",
       "    </tr>\n",
       "  </tbody>\n",
       "</table>\n",
       "</div>"
      ],
      "text/plain": [
       "  Product Line Desc (M)  Product Class Desc (M) Sales District Desc (M)   \\\n",
       "0             Arresters                       #        North East Region   \n",
       "1             Arresters                  Blocks      EuropeMidEastAfrica   \n",
       "2             Arresters                  Blocks      EuropeMidEastAfrica   \n",
       "3             Arresters                  Blocks        North East Region   \n",
       "4             Arresters  Distribution Arresters                     APAC   \n",
       "\n",
       "  ABC indicator  Unnamed: 5      USD    USD.1  USD.2     USD.3    USD.4  \\\n",
       "0            ##        0.00      0.0     0.00    0.0    536.34      0.0   \n",
       "1             B        0.00      0.0     0.00    0.0  23040.00  23040.0   \n",
       "2             C    60588.00  60588.0     0.00    0.0  25486.20  46656.0   \n",
       "3             C        0.00      0.0     0.00    0.0   5691.00      0.0   \n",
       "4             1     9963.52      0.0  9963.52    0.0      0.00      0.0   \n",
       "\n",
       "      USD.5  Unnamed: 12  year  month  \n",
       "0       0.0       536.34  2017      1  \n",
       "1   15360.0     61440.00  2017      1  \n",
       "2  190256.0    322986.20  2017      1  \n",
       "3       0.0      5691.00  2017      1  \n",
       "4       0.0      9963.52  2017      1  "
      ]
     },
     "execution_count": 155,
     "metadata": {},
     "output_type": "execute_result"
    }
   ],
   "source": [
    "df1.head()"
   ]
  },
  {
   "cell_type": "code",
   "execution_count": 156,
   "metadata": {},
   "outputs": [],
   "source": [
    "arr=['Cable Accessories', 'Connectors','Construction', 'Insulators']"
   ]
  },
  {
   "cell_type": "code",
   "execution_count": 157,
   "metadata": {},
   "outputs": [],
   "source": [
    "def cleaning(x):\n",
    "    a=df1[df1['Product Line Desc (M)']==x]\n",
    "    a.drop(['Product Line Desc (M)'],axis=1,inplace=True)\n",
    "    le = preprocessing.LabelEncoder()\n",
    "    a['Sales District Desc (M) '] = le.fit_transform(a['Sales District Desc (M) '])\n",
    "    one_hot1 = pd.get_dummies(a['Product Class Desc (M)'])\n",
    "    one_hot2 = pd.get_dummies(a['ABC indicator'])\n",
    "    a = pd.concat([a, one_hot1], axis=1)\n",
    "    a=pd.concat([a,one_hot2], axis=1)\n",
    "    a.drop(['Product Class Desc (M)','ABC indicator'],axis=1,inplace=True)\n",
    "    a.drop(['USD','USD.1','USD.2','USD.3','USD.4','USD.5','Unnamed: 12'],inplace=True,axis=1)\n",
    "    return a"
   ]
  },
  {
   "cell_type": "code",
   "execution_count": 158,
   "metadata": {},
   "outputs": [
    {
     "name": "stderr",
     "output_type": "stream",
     "text": [
      "/home/ayushi/anaconda3/lib/python3.7/site-packages/pandas/core/frame.py:3697: SettingWithCopyWarning: \n",
      "A value is trying to be set on a copy of a slice from a DataFrame\n",
      "\n",
      "See the caveats in the documentation: http://pandas.pydata.org/pandas-docs/stable/indexing.html#indexing-view-versus-copy\n",
      "  errors=errors)\n",
      "/home/ayushi/anaconda3/lib/python3.7/site-packages/ipykernel_launcher.py:5: SettingWithCopyWarning: \n",
      "A value is trying to be set on a copy of a slice from a DataFrame.\n",
      "Try using .loc[row_indexer,col_indexer] = value instead\n",
      "\n",
      "See the caveats in the documentation: http://pandas.pydata.org/pandas-docs/stable/indexing.html#indexing-view-versus-copy\n",
      "  \"\"\"\n"
     ]
    },
    {
     "data": {
      "text/html": [
       "<div>\n",
       "<style scoped>\n",
       "    .dataframe tbody tr th:only-of-type {\n",
       "        vertical-align: middle;\n",
       "    }\n",
       "\n",
       "    .dataframe tbody tr th {\n",
       "        vertical-align: top;\n",
       "    }\n",
       "\n",
       "    .dataframe thead th {\n",
       "        text-align: right;\n",
       "    }\n",
       "</style>\n",
       "<table border=\"1\" class=\"dataframe\">\n",
       "  <thead>\n",
       "    <tr style=\"text-align: right;\">\n",
       "      <th></th>\n",
       "      <th>Sales District Desc (M)</th>\n",
       "      <th>Unnamed: 5</th>\n",
       "      <th>year</th>\n",
       "      <th>month</th>\n",
       "      <th>URD Accessories</th>\n",
       "      <th>URD Arresters</th>\n",
       "      <th>1</th>\n",
       "      <th>A</th>\n",
       "      <th>B</th>\n",
       "      <th>C</th>\n",
       "      <th>D</th>\n",
       "    </tr>\n",
       "  </thead>\n",
       "  <tbody>\n",
       "    <tr>\n",
       "      <th>181</th>\n",
       "      <td>1</td>\n",
       "      <td>2791.66</td>\n",
       "      <td>2017</td>\n",
       "      <td>1</td>\n",
       "      <td>1</td>\n",
       "      <td>0</td>\n",
       "      <td>0</td>\n",
       "      <td>1</td>\n",
       "      <td>0</td>\n",
       "      <td>0</td>\n",
       "      <td>0</td>\n",
       "    </tr>\n",
       "    <tr>\n",
       "      <th>182</th>\n",
       "      <td>1</td>\n",
       "      <td>5512.37</td>\n",
       "      <td>2017</td>\n",
       "      <td>1</td>\n",
       "      <td>1</td>\n",
       "      <td>0</td>\n",
       "      <td>0</td>\n",
       "      <td>0</td>\n",
       "      <td>1</td>\n",
       "      <td>0</td>\n",
       "      <td>0</td>\n",
       "    </tr>\n",
       "    <tr>\n",
       "      <th>183</th>\n",
       "      <td>1</td>\n",
       "      <td>0.00</td>\n",
       "      <td>2017</td>\n",
       "      <td>1</td>\n",
       "      <td>1</td>\n",
       "      <td>0</td>\n",
       "      <td>0</td>\n",
       "      <td>0</td>\n",
       "      <td>0</td>\n",
       "      <td>0</td>\n",
       "      <td>1</td>\n",
       "    </tr>\n",
       "    <tr>\n",
       "      <th>184</th>\n",
       "      <td>3</td>\n",
       "      <td>0.00</td>\n",
       "      <td>2017</td>\n",
       "      <td>1</td>\n",
       "      <td>1</td>\n",
       "      <td>0</td>\n",
       "      <td>0</td>\n",
       "      <td>1</td>\n",
       "      <td>0</td>\n",
       "      <td>0</td>\n",
       "      <td>0</td>\n",
       "    </tr>\n",
       "    <tr>\n",
       "      <th>185</th>\n",
       "      <td>3</td>\n",
       "      <td>0.00</td>\n",
       "      <td>2017</td>\n",
       "      <td>1</td>\n",
       "      <td>1</td>\n",
       "      <td>0</td>\n",
       "      <td>0</td>\n",
       "      <td>0</td>\n",
       "      <td>1</td>\n",
       "      <td>0</td>\n",
       "      <td>0</td>\n",
       "    </tr>\n",
       "  </tbody>\n",
       "</table>\n",
       "</div>"
      ],
      "text/plain": [
       "     Sales District Desc (M)   Unnamed: 5  year  month  URD Accessories  \\\n",
       "181                         1     2791.66  2017      1                1   \n",
       "182                         1     5512.37  2017      1                1   \n",
       "183                         1        0.00  2017      1                1   \n",
       "184                         3        0.00  2017      1                1   \n",
       "185                         3        0.00  2017      1                1   \n",
       "\n",
       "     URD Arresters  1  A  B  C  D  \n",
       "181              0  0  1  0  0  0  \n",
       "182              0  0  0  1  0  0  \n",
       "183              0  0  0  0  0  1  \n",
       "184              0  0  1  0  0  0  \n",
       "185              0  0  0  1  0  0  "
      ]
     },
     "execution_count": 158,
     "metadata": {},
     "output_type": "execute_result"
    }
   ],
   "source": [
    "cable=cleaning('Cable Accessories')\n",
    "cable.head()"
   ]
  },
  {
   "cell_type": "code",
   "execution_count": 159,
   "metadata": {},
   "outputs": [
    {
     "data": {
      "text/plain": [
       "Index(['Sales District Desc (M) ', 'Unnamed: 5', 'year', 'month',\n",
       "       'URD Accessories', 'URD Arresters', '1', 'A', 'B', 'C', 'D'],\n",
       "      dtype='object')"
      ]
     },
     "execution_count": 159,
     "metadata": {},
     "output_type": "execute_result"
    }
   ],
   "source": [
    "cable.columns"
   ]
  },
  {
   "cell_type": "code",
   "execution_count": 160,
   "metadata": {},
   "outputs": [],
   "source": [
    "Y=cable['Unnamed: 5']\n",
    "cable.drop('Unnamed: 5',axis=1,inplace=True)"
   ]
  },
  {
   "cell_type": "code",
   "execution_count": 161,
   "metadata": {},
   "outputs": [],
   "source": [
    "def xgboost(a):\n",
    "    X=a\n",
    "    X_train, X_test, y_train, y_test = train_test_split(X, Y, test_size=0.33, random_state=42)\n",
    "    model= XGBRegressor(\n",
    "     learning_rate =0.1,\n",
    "     n_estimators=1000,\n",
    "     max_depth=3,\n",
    "     min_child_weight=5,\n",
    "     gamma=0,\n",
    "     subsample=0.8,\n",
    "     colsample_bytree=0.8,\n",
    "     objective= 'reg:linear',\n",
    "     nthread=4,\n",
    "     scale_pos_weight=1,\n",
    "     seed=27)\n",
    "    model.fit(X_train,y_train)\n",
    "    predictions=model.predict(X_test)\n",
    "    r2=r2_score(y_test,predictions)\n",
    "    return predictions, r2"
   ]
  },
  {
   "cell_type": "code",
   "execution_count": 162,
   "metadata": {},
   "outputs": [],
   "source": [
    "cable_xb_pred=xgboost(cable)[0]"
   ]
  },
  {
   "cell_type": "code",
   "execution_count": 163,
   "metadata": {},
   "outputs": [],
   "source": [
    "cable_xb_r2=xgboost(cable)[1]"
   ]
  },
  {
   "cell_type": "code",
   "execution_count": 164,
   "metadata": {},
   "outputs": [
    {
     "data": {
      "text/plain": [
       "0.39044953062492027"
      ]
     },
     "execution_count": 164,
     "metadata": {},
     "output_type": "execute_result"
    }
   ],
   "source": [
    "cable_xb_r2"
   ]
  },
  {
   "cell_type": "code",
   "execution_count": 165,
   "metadata": {},
   "outputs": [],
   "source": [
    "lm=linear_model.LinearRegression()\n",
    "def linear(x):\n",
    "    X=x\n",
    "    X_train, X_test, y_train, y_test = train_test_split(X, Y, test_size=0.33, random_state=42)\n",
    "    model1=lm.fit(X_train, y_train)\n",
    "    predictions1=lm.predict(X_test)\n",
    "    r2=r2_score(y_test,predictions1)\n",
    "    return predictions1,r2"
   ]
  },
  {
   "cell_type": "code",
   "execution_count": 166,
   "metadata": {},
   "outputs": [],
   "source": [
    "cable_lin_pred=linear(cable)[0]"
   ]
  },
  {
   "cell_type": "code",
   "execution_count": 167,
   "metadata": {},
   "outputs": [
    {
     "data": {
      "text/plain": [
       "0.15615478930272186"
      ]
     },
     "execution_count": 167,
     "metadata": {},
     "output_type": "execute_result"
    }
   ],
   "source": [
    "cable_lin_r2=linear(cable)[1]\n",
    "cable_lin_r2"
   ]
  },
  {
   "cell_type": "code",
   "execution_count": 168,
   "metadata": {},
   "outputs": [],
   "source": [
    "def ensemble1(x):\n",
    "    X=x\n",
    "    X_train, X_test, y_train, y_test = train_test_split(X, Y, test_size=0.33, random_state=42)\n",
    "    final_pred=0.8*cable_xb_pred+0.5*cable_lin_pred\n",
    "    r2=r2_score(y_test,final_pred)\n",
    "    return final_pred,r2"
   ]
  },
  {
   "cell_type": "code",
   "execution_count": 169,
   "metadata": {},
   "outputs": [],
   "source": [
    "cable_ensem_pred=ensemble1(cable)[0]"
   ]
  },
  {
   "cell_type": "code",
   "execution_count": 170,
   "metadata": {},
   "outputs": [
    {
     "data": {
      "text/plain": [
       "0.40613356791498856"
      ]
     },
     "execution_count": 170,
     "metadata": {},
     "output_type": "execute_result"
    }
   ],
   "source": [
    "cable_ensem_r2=ensemble1(cable)[1]\n",
    "cable_ensem_r2"
   ]
  },
  {
   "cell_type": "code",
   "execution_count": 171,
   "metadata": {},
   "outputs": [
    {
     "name": "stderr",
     "output_type": "stream",
     "text": [
      "/home/ayushi/anaconda3/lib/python3.7/site-packages/pandas/core/frame.py:3697: SettingWithCopyWarning: \n",
      "A value is trying to be set on a copy of a slice from a DataFrame\n",
      "\n",
      "See the caveats in the documentation: http://pandas.pydata.org/pandas-docs/stable/indexing.html#indexing-view-versus-copy\n",
      "  errors=errors)\n",
      "/home/ayushi/anaconda3/lib/python3.7/site-packages/ipykernel_launcher.py:5: SettingWithCopyWarning: \n",
      "A value is trying to be set on a copy of a slice from a DataFrame.\n",
      "Try using .loc[row_indexer,col_indexer] = value instead\n",
      "\n",
      "See the caveats in the documentation: http://pandas.pydata.org/pandas-docs/stable/indexing.html#indexing-view-versus-copy\n",
      "  \"\"\"\n"
     ]
    }
   ],
   "source": [
    "connectors=cleaning('Connectors')"
   ]
  },
  {
   "cell_type": "code",
   "execution_count": 172,
   "metadata": {},
   "outputs": [],
   "source": [
    "Y=connectors['Unnamed: 5']\n",
    "connectors.drop('Unnamed: 5',axis=1,inplace=True)"
   ]
  },
  {
   "cell_type": "code",
   "execution_count": 173,
   "metadata": {},
   "outputs": [
    {
     "data": {
      "text/html": [
       "<div>\n",
       "<style scoped>\n",
       "    .dataframe tbody tr th:only-of-type {\n",
       "        vertical-align: middle;\n",
       "    }\n",
       "\n",
       "    .dataframe tbody tr th {\n",
       "        vertical-align: top;\n",
       "    }\n",
       "\n",
       "    .dataframe thead th {\n",
       "        text-align: right;\n",
       "    }\n",
       "</style>\n",
       "<table border=\"1\" class=\"dataframe\">\n",
       "  <thead>\n",
       "    <tr style=\"text-align: right;\">\n",
       "      <th></th>\n",
       "      <th>Sales District Desc (M)</th>\n",
       "      <th>year</th>\n",
       "      <th>month</th>\n",
       "      <th>Aluminium Loops</th>\n",
       "      <th>Distribution Connectors</th>\n",
       "      <th>Plastic Loops</th>\n",
       "      <th>Substation Connectors</th>\n",
       "      <th>Transmission Connectors</th>\n",
       "      <th>##</th>\n",
       "      <th>1</th>\n",
       "      <th>A</th>\n",
       "      <th>B</th>\n",
       "      <th>C</th>\n",
       "      <th>D</th>\n",
       "      <th>P</th>\n",
       "    </tr>\n",
       "  </thead>\n",
       "  <tbody>\n",
       "    <tr>\n",
       "      <th>239</th>\n",
       "      <td>3</td>\n",
       "      <td>2017</td>\n",
       "      <td>1</td>\n",
       "      <td>1</td>\n",
       "      <td>0</td>\n",
       "      <td>0</td>\n",
       "      <td>0</td>\n",
       "      <td>0</td>\n",
       "      <td>0</td>\n",
       "      <td>1</td>\n",
       "      <td>0</td>\n",
       "      <td>0</td>\n",
       "      <td>0</td>\n",
       "      <td>0</td>\n",
       "      <td>0</td>\n",
       "    </tr>\n",
       "    <tr>\n",
       "      <th>240</th>\n",
       "      <td>3</td>\n",
       "      <td>2017</td>\n",
       "      <td>1</td>\n",
       "      <td>1</td>\n",
       "      <td>0</td>\n",
       "      <td>0</td>\n",
       "      <td>0</td>\n",
       "      <td>0</td>\n",
       "      <td>0</td>\n",
       "      <td>0</td>\n",
       "      <td>1</td>\n",
       "      <td>0</td>\n",
       "      <td>0</td>\n",
       "      <td>0</td>\n",
       "      <td>0</td>\n",
       "    </tr>\n",
       "    <tr>\n",
       "      <th>241</th>\n",
       "      <td>3</td>\n",
       "      <td>2017</td>\n",
       "      <td>1</td>\n",
       "      <td>1</td>\n",
       "      <td>0</td>\n",
       "      <td>0</td>\n",
       "      <td>0</td>\n",
       "      <td>0</td>\n",
       "      <td>0</td>\n",
       "      <td>0</td>\n",
       "      <td>0</td>\n",
       "      <td>1</td>\n",
       "      <td>0</td>\n",
       "      <td>0</td>\n",
       "      <td>0</td>\n",
       "    </tr>\n",
       "    <tr>\n",
       "      <th>242</th>\n",
       "      <td>3</td>\n",
       "      <td>2017</td>\n",
       "      <td>1</td>\n",
       "      <td>1</td>\n",
       "      <td>0</td>\n",
       "      <td>0</td>\n",
       "      <td>0</td>\n",
       "      <td>0</td>\n",
       "      <td>0</td>\n",
       "      <td>0</td>\n",
       "      <td>0</td>\n",
       "      <td>0</td>\n",
       "      <td>1</td>\n",
       "      <td>0</td>\n",
       "      <td>0</td>\n",
       "    </tr>\n",
       "    <tr>\n",
       "      <th>243</th>\n",
       "      <td>4</td>\n",
       "      <td>2017</td>\n",
       "      <td>1</td>\n",
       "      <td>1</td>\n",
       "      <td>0</td>\n",
       "      <td>0</td>\n",
       "      <td>0</td>\n",
       "      <td>0</td>\n",
       "      <td>0</td>\n",
       "      <td>1</td>\n",
       "      <td>0</td>\n",
       "      <td>0</td>\n",
       "      <td>0</td>\n",
       "      <td>0</td>\n",
       "      <td>0</td>\n",
       "    </tr>\n",
       "  </tbody>\n",
       "</table>\n",
       "</div>"
      ],
      "text/plain": [
       "     Sales District Desc (M)   year  month  Aluminium Loops  \\\n",
       "239                         3  2017      1                1   \n",
       "240                         3  2017      1                1   \n",
       "241                         3  2017      1                1   \n",
       "242                         3  2017      1                1   \n",
       "243                         4  2017      1                1   \n",
       "\n",
       "     Distribution Connectors  Plastic Loops  Substation Connectors  \\\n",
       "239                        0              0                      0   \n",
       "240                        0              0                      0   \n",
       "241                        0              0                      0   \n",
       "242                        0              0                      0   \n",
       "243                        0              0                      0   \n",
       "\n",
       "     Transmission Connectors  ##  1  A  B  C  D  P  \n",
       "239                        0   0  1  0  0  0  0  0  \n",
       "240                        0   0  0  1  0  0  0  0  \n",
       "241                        0   0  0  0  1  0  0  0  \n",
       "242                        0   0  0  0  0  1  0  0  \n",
       "243                        0   0  1  0  0  0  0  0  "
      ]
     },
     "execution_count": 173,
     "metadata": {},
     "output_type": "execute_result"
    }
   ],
   "source": [
    "connectors.head()"
   ]
  },
  {
   "cell_type": "code",
   "execution_count": 174,
   "metadata": {},
   "outputs": [],
   "source": [
    "connectors_xg_pred=xgboost(connectors)[0]"
   ]
  },
  {
   "cell_type": "code",
   "execution_count": 175,
   "metadata": {},
   "outputs": [
    {
     "data": {
      "text/plain": [
       "0.49167487398426757"
      ]
     },
     "execution_count": 175,
     "metadata": {},
     "output_type": "execute_result"
    }
   ],
   "source": [
    "connectors_xg_r2=xgboost(connectors)[1]\n",
    "connectors_xg_r2"
   ]
  },
  {
   "cell_type": "code",
   "execution_count": 176,
   "metadata": {},
   "outputs": [],
   "source": [
    "connectors_lin_pred=linear(connectors)[0]"
   ]
  },
  {
   "cell_type": "code",
   "execution_count": 177,
   "metadata": {},
   "outputs": [
    {
     "data": {
      "text/plain": [
       "0.2386250319640103"
      ]
     },
     "execution_count": 177,
     "metadata": {},
     "output_type": "execute_result"
    }
   ],
   "source": [
    "connectors_lin_r2=linear(connectors)[1]\n",
    "connectors_lin_r2"
   ]
  },
  {
   "cell_type": "code",
   "execution_count": 178,
   "metadata": {},
   "outputs": [
    {
     "data": {
      "text/plain": [
       "array([ 2322.0408,  7841.2827, 20270.98  , ..., -6644.2197,  4190.03  ,\n",
       "       -3639.9277], dtype=float32)"
      ]
     },
     "execution_count": 178,
     "metadata": {},
     "output_type": "execute_result"
    }
   ],
   "source": [
    "connectors_xg_pred"
   ]
  },
  {
   "cell_type": "code",
   "execution_count": 179,
   "metadata": {},
   "outputs": [],
   "source": [
    "def ensemble2(x):\n",
    "    X=x\n",
    "    X_train, X_test, y_train, y_test = train_test_split(X, Y, test_size=0.33, random_state=42)\n",
    "    final_pred=0.8*connectors_xg_pred+0.5*connectors_lin_pred\n",
    "    r2=r2_score(y_test,final_pred)\n",
    "    return final_pred,r2"
   ]
  },
  {
   "cell_type": "code",
   "execution_count": 180,
   "metadata": {},
   "outputs": [],
   "source": [
    "connectors_ensem_pred=ensemble2(connectors)[0]"
   ]
  },
  {
   "cell_type": "code",
   "execution_count": 181,
   "metadata": {},
   "outputs": [
    {
     "data": {
      "text/plain": [
       "0.4332794412305485"
      ]
     },
     "execution_count": 181,
     "metadata": {},
     "output_type": "execute_result"
    }
   ],
   "source": [
    "connectors_ensem_r2=ensemble2(connectors)[1]\n",
    "connectors_ensem_r2"
   ]
  },
  {
   "cell_type": "code",
   "execution_count": 182,
   "metadata": {},
   "outputs": [
    {
     "name": "stderr",
     "output_type": "stream",
     "text": [
      "/home/ayushi/anaconda3/lib/python3.7/site-packages/pandas/core/frame.py:3697: SettingWithCopyWarning: \n",
      "A value is trying to be set on a copy of a slice from a DataFrame\n",
      "\n",
      "See the caveats in the documentation: http://pandas.pydata.org/pandas-docs/stable/indexing.html#indexing-view-versus-copy\n",
      "  errors=errors)\n",
      "/home/ayushi/anaconda3/lib/python3.7/site-packages/ipykernel_launcher.py:5: SettingWithCopyWarning: \n",
      "A value is trying to be set on a copy of a slice from a DataFrame.\n",
      "Try using .loc[row_indexer,col_indexer] = value instead\n",
      "\n",
      "See the caveats in the documentation: http://pandas.pydata.org/pandas-docs/stable/indexing.html#indexing-view-versus-copy\n",
      "  \"\"\"\n"
     ]
    }
   ],
   "source": [
    "construction=cleaning('Construction')"
   ]
  },
  {
   "cell_type": "code",
   "execution_count": 183,
   "metadata": {},
   "outputs": [
    {
     "data": {
      "text/html": [
       "<div>\n",
       "<style scoped>\n",
       "    .dataframe tbody tr th:only-of-type {\n",
       "        vertical-align: middle;\n",
       "    }\n",
       "\n",
       "    .dataframe tbody tr th {\n",
       "        vertical-align: top;\n",
       "    }\n",
       "\n",
       "    .dataframe thead th {\n",
       "        text-align: right;\n",
       "    }\n",
       "</style>\n",
       "<table border=\"1\" class=\"dataframe\">\n",
       "  <thead>\n",
       "    <tr style=\"text-align: right;\">\n",
       "      <th></th>\n",
       "      <th>Sales District Desc (M)</th>\n",
       "      <th>Unnamed: 5</th>\n",
       "      <th>year</th>\n",
       "      <th>month</th>\n",
       "      <th>#</th>\n",
       "      <th>Atlas</th>\n",
       "      <th>Civil</th>\n",
       "      <th>Pole Line Hardware</th>\n",
       "      <th>Utility Anchors</th>\n",
       "      <th>##</th>\n",
       "      <th>1</th>\n",
       "      <th>A</th>\n",
       "      <th>B</th>\n",
       "      <th>C</th>\n",
       "      <th>D</th>\n",
       "      <th>P</th>\n",
       "    </tr>\n",
       "  </thead>\n",
       "  <tbody>\n",
       "    <tr>\n",
       "      <th>404</th>\n",
       "      <td>10</td>\n",
       "      <td>1500.0</td>\n",
       "      <td>2017</td>\n",
       "      <td>1</td>\n",
       "      <td>1</td>\n",
       "      <td>0</td>\n",
       "      <td>0</td>\n",
       "      <td>0</td>\n",
       "      <td>0</td>\n",
       "      <td>1</td>\n",
       "      <td>0</td>\n",
       "      <td>0</td>\n",
       "      <td>0</td>\n",
       "      <td>0</td>\n",
       "      <td>0</td>\n",
       "      <td>0</td>\n",
       "    </tr>\n",
       "    <tr>\n",
       "      <th>405</th>\n",
       "      <td>12</td>\n",
       "      <td>1000.0</td>\n",
       "      <td>2017</td>\n",
       "      <td>1</td>\n",
       "      <td>1</td>\n",
       "      <td>0</td>\n",
       "      <td>0</td>\n",
       "      <td>0</td>\n",
       "      <td>0</td>\n",
       "      <td>1</td>\n",
       "      <td>0</td>\n",
       "      <td>0</td>\n",
       "      <td>0</td>\n",
       "      <td>0</td>\n",
       "      <td>0</td>\n",
       "      <td>0</td>\n",
       "    </tr>\n",
       "    <tr>\n",
       "      <th>406</th>\n",
       "      <td>2</td>\n",
       "      <td>1436.0</td>\n",
       "      <td>2017</td>\n",
       "      <td>1</td>\n",
       "      <td>0</td>\n",
       "      <td>1</td>\n",
       "      <td>0</td>\n",
       "      <td>0</td>\n",
       "      <td>0</td>\n",
       "      <td>0</td>\n",
       "      <td>0</td>\n",
       "      <td>1</td>\n",
       "      <td>0</td>\n",
       "      <td>0</td>\n",
       "      <td>0</td>\n",
       "      <td>0</td>\n",
       "    </tr>\n",
       "    <tr>\n",
       "      <th>407</th>\n",
       "      <td>2</td>\n",
       "      <td>27525.8</td>\n",
       "      <td>2017</td>\n",
       "      <td>1</td>\n",
       "      <td>0</td>\n",
       "      <td>1</td>\n",
       "      <td>0</td>\n",
       "      <td>0</td>\n",
       "      <td>0</td>\n",
       "      <td>0</td>\n",
       "      <td>0</td>\n",
       "      <td>0</td>\n",
       "      <td>1</td>\n",
       "      <td>0</td>\n",
       "      <td>0</td>\n",
       "      <td>0</td>\n",
       "    </tr>\n",
       "    <tr>\n",
       "      <th>408</th>\n",
       "      <td>2</td>\n",
       "      <td>807.0</td>\n",
       "      <td>2017</td>\n",
       "      <td>1</td>\n",
       "      <td>0</td>\n",
       "      <td>1</td>\n",
       "      <td>0</td>\n",
       "      <td>0</td>\n",
       "      <td>0</td>\n",
       "      <td>0</td>\n",
       "      <td>0</td>\n",
       "      <td>0</td>\n",
       "      <td>0</td>\n",
       "      <td>1</td>\n",
       "      <td>0</td>\n",
       "      <td>0</td>\n",
       "    </tr>\n",
       "  </tbody>\n",
       "</table>\n",
       "</div>"
      ],
      "text/plain": [
       "     Sales District Desc (M)   Unnamed: 5  year  month  #  Atlas  Civil  \\\n",
       "404                        10      1500.0  2017      1  1      0      0   \n",
       "405                        12      1000.0  2017      1  1      0      0   \n",
       "406                         2      1436.0  2017      1  0      1      0   \n",
       "407                         2     27525.8  2017      1  0      1      0   \n",
       "408                         2       807.0  2017      1  0      1      0   \n",
       "\n",
       "     Pole Line Hardware  Utility Anchors  ##  1  A  B  C  D  P  \n",
       "404                   0                0   1  0  0  0  0  0  0  \n",
       "405                   0                0   1  0  0  0  0  0  0  \n",
       "406                   0                0   0  0  1  0  0  0  0  \n",
       "407                   0                0   0  0  0  1  0  0  0  \n",
       "408                   0                0   0  0  0  0  1  0  0  "
      ]
     },
     "execution_count": 183,
     "metadata": {},
     "output_type": "execute_result"
    }
   ],
   "source": [
    "construction.head()"
   ]
  },
  {
   "cell_type": "code",
   "execution_count": 184,
   "metadata": {},
   "outputs": [],
   "source": [
    "Y=construction['Unnamed: 5']\n",
    "construction.drop('Unnamed: 5',axis=1,inplace=True)"
   ]
  },
  {
   "cell_type": "code",
   "execution_count": 185,
   "metadata": {},
   "outputs": [],
   "source": [
    "construction_xg_pred=xgboost(construction)[0]"
   ]
  },
  {
   "cell_type": "code",
   "execution_count": 186,
   "metadata": {},
   "outputs": [
    {
     "data": {
      "text/plain": [
       "0.6871317301236557"
      ]
     },
     "execution_count": 186,
     "metadata": {},
     "output_type": "execute_result"
    }
   ],
   "source": [
    "construction_xg_r2=xgboost(construction)[1]\n",
    "construction_xg_r2"
   ]
  },
  {
   "cell_type": "code",
   "execution_count": 187,
   "metadata": {},
   "outputs": [],
   "source": [
    "construction_lin_pred=linear(construction)[0]"
   ]
  },
  {
   "cell_type": "code",
   "execution_count": 188,
   "metadata": {},
   "outputs": [
    {
     "data": {
      "text/plain": [
       "0.15592786630261846"
      ]
     },
     "execution_count": 188,
     "metadata": {},
     "output_type": "execute_result"
    }
   ],
   "source": [
    "construction_lin_r2=linear(construction)[1]\n",
    "construction_lin_r2"
   ]
  },
  {
   "cell_type": "code",
   "execution_count": 189,
   "metadata": {},
   "outputs": [],
   "source": [
    "def ensemble3(x):\n",
    "    X=x\n",
    "    X_train, X_test, y_train, y_test = train_test_split(X, Y, test_size=0.33, random_state=42)\n",
    "    final_pred=0.8*construction_xg_pred+0.5*construction_lin_pred\n",
    "    r2=r2_score(y_test,final_pred)\n",
    "    return final_pred,r2"
   ]
  },
  {
   "cell_type": "code",
   "execution_count": 190,
   "metadata": {},
   "outputs": [],
   "source": [
    "construction_ensem_pred=ensemble3(construction)[0]"
   ]
  },
  {
   "cell_type": "code",
   "execution_count": 191,
   "metadata": {},
   "outputs": [
    {
     "data": {
      "text/plain": [
       "0.6478699837671893"
      ]
     },
     "execution_count": 191,
     "metadata": {},
     "output_type": "execute_result"
    }
   ],
   "source": [
    "construction_ensem_r2=ensemble3(construction)[1]\n",
    "construction_ensem_r2"
   ]
  },
  {
   "cell_type": "code",
   "execution_count": 192,
   "metadata": {},
   "outputs": [
    {
     "name": "stderr",
     "output_type": "stream",
     "text": [
      "/home/ayushi/anaconda3/lib/python3.7/site-packages/pandas/core/frame.py:3697: SettingWithCopyWarning: \n",
      "A value is trying to be set on a copy of a slice from a DataFrame\n",
      "\n",
      "See the caveats in the documentation: http://pandas.pydata.org/pandas-docs/stable/indexing.html#indexing-view-versus-copy\n",
      "  errors=errors)\n",
      "/home/ayushi/anaconda3/lib/python3.7/site-packages/ipykernel_launcher.py:5: SettingWithCopyWarning: \n",
      "A value is trying to be set on a copy of a slice from a DataFrame.\n",
      "Try using .loc[row_indexer,col_indexer] = value instead\n",
      "\n",
      "See the caveats in the documentation: http://pandas.pydata.org/pandas-docs/stable/indexing.html#indexing-view-versus-copy\n",
      "  \"\"\"\n"
     ]
    }
   ],
   "source": [
    "insulators=cleaning('Insulators')"
   ]
  },
  {
   "cell_type": "code",
   "execution_count": 193,
   "metadata": {},
   "outputs": [
    {
     "data": {
      "text/html": [
       "<div>\n",
       "<style scoped>\n",
       "    .dataframe tbody tr th:only-of-type {\n",
       "        vertical-align: middle;\n",
       "    }\n",
       "\n",
       "    .dataframe tbody tr th {\n",
       "        vertical-align: top;\n",
       "    }\n",
       "\n",
       "    .dataframe thead th {\n",
       "        text-align: right;\n",
       "    }\n",
       "</style>\n",
       "<table border=\"1\" class=\"dataframe\">\n",
       "  <thead>\n",
       "    <tr style=\"text-align: right;\">\n",
       "      <th></th>\n",
       "      <th>Sales District Desc (M)</th>\n",
       "      <th>Unnamed: 5</th>\n",
       "      <th>year</th>\n",
       "      <th>month</th>\n",
       "      <th>#</th>\n",
       "      <th>Distribution Insulators</th>\n",
       "      <th>Transmission Insulators</th>\n",
       "      <th>##</th>\n",
       "      <th>1</th>\n",
       "      <th>A</th>\n",
       "      <th>B</th>\n",
       "      <th>C</th>\n",
       "      <th>D</th>\n",
       "    </tr>\n",
       "  </thead>\n",
       "  <tbody>\n",
       "    <tr>\n",
       "      <th>645</th>\n",
       "      <td>0</td>\n",
       "      <td>1792.50</td>\n",
       "      <td>2017</td>\n",
       "      <td>1</td>\n",
       "      <td>0</td>\n",
       "      <td>1</td>\n",
       "      <td>0</td>\n",
       "      <td>0</td>\n",
       "      <td>1</td>\n",
       "      <td>0</td>\n",
       "      <td>0</td>\n",
       "      <td>0</td>\n",
       "      <td>0</td>\n",
       "    </tr>\n",
       "    <tr>\n",
       "      <th>646</th>\n",
       "      <td>0</td>\n",
       "      <td>0.00</td>\n",
       "      <td>2017</td>\n",
       "      <td>1</td>\n",
       "      <td>0</td>\n",
       "      <td>1</td>\n",
       "      <td>0</td>\n",
       "      <td>0</td>\n",
       "      <td>0</td>\n",
       "      <td>1</td>\n",
       "      <td>0</td>\n",
       "      <td>0</td>\n",
       "      <td>0</td>\n",
       "    </tr>\n",
       "    <tr>\n",
       "      <th>647</th>\n",
       "      <td>0</td>\n",
       "      <td>9384.00</td>\n",
       "      <td>2017</td>\n",
       "      <td>1</td>\n",
       "      <td>0</td>\n",
       "      <td>1</td>\n",
       "      <td>0</td>\n",
       "      <td>0</td>\n",
       "      <td>0</td>\n",
       "      <td>0</td>\n",
       "      <td>1</td>\n",
       "      <td>0</td>\n",
       "      <td>0</td>\n",
       "    </tr>\n",
       "    <tr>\n",
       "      <th>648</th>\n",
       "      <td>0</td>\n",
       "      <td>84.00</td>\n",
       "      <td>2017</td>\n",
       "      <td>1</td>\n",
       "      <td>0</td>\n",
       "      <td>1</td>\n",
       "      <td>0</td>\n",
       "      <td>0</td>\n",
       "      <td>0</td>\n",
       "      <td>0</td>\n",
       "      <td>0</td>\n",
       "      <td>1</td>\n",
       "      <td>0</td>\n",
       "    </tr>\n",
       "    <tr>\n",
       "      <th>649</th>\n",
       "      <td>1</td>\n",
       "      <td>6891.17</td>\n",
       "      <td>2017</td>\n",
       "      <td>1</td>\n",
       "      <td>0</td>\n",
       "      <td>1</td>\n",
       "      <td>0</td>\n",
       "      <td>0</td>\n",
       "      <td>0</td>\n",
       "      <td>1</td>\n",
       "      <td>0</td>\n",
       "      <td>0</td>\n",
       "      <td>0</td>\n",
       "    </tr>\n",
       "  </tbody>\n",
       "</table>\n",
       "</div>"
      ],
      "text/plain": [
       "     Sales District Desc (M)   Unnamed: 5  year  month  #  \\\n",
       "645                         0     1792.50  2017      1  0   \n",
       "646                         0        0.00  2017      1  0   \n",
       "647                         0     9384.00  2017      1  0   \n",
       "648                         0       84.00  2017      1  0   \n",
       "649                         1     6891.17  2017      1  0   \n",
       "\n",
       "     Distribution Insulators  Transmission Insulators  ##  1  A  B  C  D  \n",
       "645                        1                        0   0  1  0  0  0  0  \n",
       "646                        1                        0   0  0  1  0  0  0  \n",
       "647                        1                        0   0  0  0  1  0  0  \n",
       "648                        1                        0   0  0  0  0  1  0  \n",
       "649                        1                        0   0  0  1  0  0  0  "
      ]
     },
     "execution_count": 193,
     "metadata": {},
     "output_type": "execute_result"
    }
   ],
   "source": [
    "insulators.head()"
   ]
  },
  {
   "cell_type": "code",
   "execution_count": 194,
   "metadata": {},
   "outputs": [],
   "source": [
    "Y=insulators['Unnamed: 5']\n",
    "insulators.drop('Unnamed: 5',axis=1,inplace=True)"
   ]
  },
  {
   "cell_type": "code",
   "execution_count": 195,
   "metadata": {},
   "outputs": [],
   "source": [
    "insulators_xg_pred=xgboost(insulators)[0]"
   ]
  },
  {
   "cell_type": "code",
   "execution_count": 196,
   "metadata": {},
   "outputs": [
    {
     "data": {
      "text/plain": [
       "0.1031413484652145"
      ]
     },
     "execution_count": 196,
     "metadata": {},
     "output_type": "execute_result"
    }
   ],
   "source": [
    "insulators_xg_r2=xgboost(insulators)[1]\n",
    "insulators_xg_r2"
   ]
  },
  {
   "cell_type": "code",
   "execution_count": 197,
   "metadata": {},
   "outputs": [],
   "source": [
    "insulators_lin_pred=linear(insulators)[0]"
   ]
  },
  {
   "cell_type": "code",
   "execution_count": 198,
   "metadata": {},
   "outputs": [
    {
     "data": {
      "text/plain": [
       "0.083124435157796"
      ]
     },
     "execution_count": 198,
     "metadata": {},
     "output_type": "execute_result"
    }
   ],
   "source": [
    "insulators_lin_r2=linear(insulators)[1]\n",
    "insulators_lin_r2"
   ]
  },
  {
   "cell_type": "code",
   "execution_count": 199,
   "metadata": {},
   "outputs": [],
   "source": [
    "def ensemble4(x):\n",
    "    X=x\n",
    "    X_train, X_test, y_train, y_test = train_test_split(X, Y, test_size=0.33, random_state=42)\n",
    "    final_pred=0.8*insulators_xg_pred+0.5*insulators_lin_pred\n",
    "    r2=r2_score(y_test,final_pred)\n",
    "    return final_pred,r2"
   ]
  },
  {
   "cell_type": "code",
   "execution_count": 200,
   "metadata": {},
   "outputs": [],
   "source": [
    "insulators_ensem_pred=ensemble4(insulators)[0]"
   ]
  },
  {
   "cell_type": "code",
   "execution_count": 201,
   "metadata": {},
   "outputs": [
    {
     "data": {
      "text/plain": [
       "0.1227164994607044"
      ]
     },
     "execution_count": 201,
     "metadata": {},
     "output_type": "execute_result"
    }
   ],
   "source": [
    "insulators_ensem_r2=ensemble4(insulators)[1]\n",
    "insulators_ensem_r2"
   ]
  },
  {
   "cell_type": "code",
   "execution_count": 205,
   "metadata": {},
   "outputs": [],
   "source": [
    "df2=df1[df1['Product Line Desc (M)'].isin(['Cable Accessories', 'Connectors','Construction', 'Insulators'])]"
   ]
  },
  {
   "cell_type": "code",
   "execution_count": 206,
   "metadata": {},
   "outputs": [
    {
     "name": "stderr",
     "output_type": "stream",
     "text": [
      "/home/ayushi/anaconda3/lib/python3.7/site-packages/ipykernel_launcher.py:2: SettingWithCopyWarning: \n",
      "A value is trying to be set on a copy of a slice from a DataFrame.\n",
      "Try using .loc[row_indexer,col_indexer] = value instead\n",
      "\n",
      "See the caveats in the documentation: http://pandas.pydata.org/pandas-docs/stable/indexing.html#indexing-view-versus-copy\n",
      "  \n",
      "/home/ayushi/anaconda3/lib/python3.7/site-packages/ipykernel_launcher.py:3: SettingWithCopyWarning: \n",
      "A value is trying to be set on a copy of a slice from a DataFrame.\n",
      "Try using .loc[row_indexer,col_indexer] = value instead\n",
      "\n",
      "See the caveats in the documentation: http://pandas.pydata.org/pandas-docs/stable/indexing.html#indexing-view-versus-copy\n",
      "  This is separate from the ipykernel package so we can avoid doing imports until\n"
     ]
    }
   ],
   "source": [
    "le = preprocessing.LabelEncoder()\n",
    "df2['Sales District Desc (M) '] = le.fit_transform(df2['Sales District Desc (M) '])\n",
    "df2['Product Line Desc (M)']=le.fit_transform(df2['Product Line Desc (M)'])\n",
    "one_hot1 = pd.get_dummies(df2['Product Class Desc (M)'])\n",
    "one_hot2 = pd.get_dummies(df2['ABC indicator'])\n",
    "df2 = pd.concat([df2, one_hot1], axis=1)\n",
    "df2=pd.concat([df2,one_hot2], axis=1)\n",
    "df2.drop(['Product Class Desc (M)','ABC indicator'],axis=1,inplace=True)\n",
    "df2.drop(['USD','USD.1','USD.2','USD.3','USD.4','USD.5','Unnamed: 12'],inplace=True,axis=1)"
   ]
  },
  {
   "cell_type": "code",
   "execution_count": 210,
   "metadata": {},
   "outputs": [],
   "source": [
    "df2.drop(['#','##'],axis=1,inplace=True)"
   ]
  },
  {
   "cell_type": "code",
   "execution_count": 211,
   "metadata": {},
   "outputs": [
    {
     "data": {
      "text/html": [
       "<div>\n",
       "<style scoped>\n",
       "    .dataframe tbody tr th:only-of-type {\n",
       "        vertical-align: middle;\n",
       "    }\n",
       "\n",
       "    .dataframe tbody tr th {\n",
       "        vertical-align: top;\n",
       "    }\n",
       "\n",
       "    .dataframe thead th {\n",
       "        text-align: right;\n",
       "    }\n",
       "</style>\n",
       "<table border=\"1\" class=\"dataframe\">\n",
       "  <thead>\n",
       "    <tr style=\"text-align: right;\">\n",
       "      <th></th>\n",
       "      <th>Product Line Desc (M)</th>\n",
       "      <th>Sales District Desc (M)</th>\n",
       "      <th>Unnamed: 5</th>\n",
       "      <th>year</th>\n",
       "      <th>month</th>\n",
       "      <th>Aluminium Loops</th>\n",
       "      <th>Atlas</th>\n",
       "      <th>Civil</th>\n",
       "      <th>Distribution Connectors</th>\n",
       "      <th>Distribution Insulators</th>\n",
       "      <th>...</th>\n",
       "      <th>Transmission Insulators</th>\n",
       "      <th>URD Accessories</th>\n",
       "      <th>URD Arresters</th>\n",
       "      <th>Utility Anchors</th>\n",
       "      <th>1</th>\n",
       "      <th>A</th>\n",
       "      <th>B</th>\n",
       "      <th>C</th>\n",
       "      <th>D</th>\n",
       "      <th>P</th>\n",
       "    </tr>\n",
       "  </thead>\n",
       "  <tbody>\n",
       "    <tr>\n",
       "      <th>181</th>\n",
       "      <td>0</td>\n",
       "      <td>1</td>\n",
       "      <td>2791.66</td>\n",
       "      <td>2017</td>\n",
       "      <td>1</td>\n",
       "      <td>0</td>\n",
       "      <td>0</td>\n",
       "      <td>0</td>\n",
       "      <td>0</td>\n",
       "      <td>0</td>\n",
       "      <td>...</td>\n",
       "      <td>0</td>\n",
       "      <td>1</td>\n",
       "      <td>0</td>\n",
       "      <td>0</td>\n",
       "      <td>0</td>\n",
       "      <td>1</td>\n",
       "      <td>0</td>\n",
       "      <td>0</td>\n",
       "      <td>0</td>\n",
       "      <td>0</td>\n",
       "    </tr>\n",
       "    <tr>\n",
       "      <th>182</th>\n",
       "      <td>0</td>\n",
       "      <td>1</td>\n",
       "      <td>5512.37</td>\n",
       "      <td>2017</td>\n",
       "      <td>1</td>\n",
       "      <td>0</td>\n",
       "      <td>0</td>\n",
       "      <td>0</td>\n",
       "      <td>0</td>\n",
       "      <td>0</td>\n",
       "      <td>...</td>\n",
       "      <td>0</td>\n",
       "      <td>1</td>\n",
       "      <td>0</td>\n",
       "      <td>0</td>\n",
       "      <td>0</td>\n",
       "      <td>0</td>\n",
       "      <td>1</td>\n",
       "      <td>0</td>\n",
       "      <td>0</td>\n",
       "      <td>0</td>\n",
       "    </tr>\n",
       "    <tr>\n",
       "      <th>183</th>\n",
       "      <td>0</td>\n",
       "      <td>1</td>\n",
       "      <td>0.00</td>\n",
       "      <td>2017</td>\n",
       "      <td>1</td>\n",
       "      <td>0</td>\n",
       "      <td>0</td>\n",
       "      <td>0</td>\n",
       "      <td>0</td>\n",
       "      <td>0</td>\n",
       "      <td>...</td>\n",
       "      <td>0</td>\n",
       "      <td>1</td>\n",
       "      <td>0</td>\n",
       "      <td>0</td>\n",
       "      <td>0</td>\n",
       "      <td>0</td>\n",
       "      <td>0</td>\n",
       "      <td>0</td>\n",
       "      <td>1</td>\n",
       "      <td>0</td>\n",
       "    </tr>\n",
       "    <tr>\n",
       "      <th>184</th>\n",
       "      <td>0</td>\n",
       "      <td>4</td>\n",
       "      <td>0.00</td>\n",
       "      <td>2017</td>\n",
       "      <td>1</td>\n",
       "      <td>0</td>\n",
       "      <td>0</td>\n",
       "      <td>0</td>\n",
       "      <td>0</td>\n",
       "      <td>0</td>\n",
       "      <td>...</td>\n",
       "      <td>0</td>\n",
       "      <td>1</td>\n",
       "      <td>0</td>\n",
       "      <td>0</td>\n",
       "      <td>0</td>\n",
       "      <td>1</td>\n",
       "      <td>0</td>\n",
       "      <td>0</td>\n",
       "      <td>0</td>\n",
       "      <td>0</td>\n",
       "    </tr>\n",
       "    <tr>\n",
       "      <th>185</th>\n",
       "      <td>0</td>\n",
       "      <td>4</td>\n",
       "      <td>0.00</td>\n",
       "      <td>2017</td>\n",
       "      <td>1</td>\n",
       "      <td>0</td>\n",
       "      <td>0</td>\n",
       "      <td>0</td>\n",
       "      <td>0</td>\n",
       "      <td>0</td>\n",
       "      <td>...</td>\n",
       "      <td>0</td>\n",
       "      <td>1</td>\n",
       "      <td>0</td>\n",
       "      <td>0</td>\n",
       "      <td>0</td>\n",
       "      <td>0</td>\n",
       "      <td>1</td>\n",
       "      <td>0</td>\n",
       "      <td>0</td>\n",
       "      <td>0</td>\n",
       "    </tr>\n",
       "  </tbody>\n",
       "</table>\n",
       "<p>5 rows × 24 columns</p>\n",
       "</div>"
      ],
      "text/plain": [
       "     Product Line Desc (M)  Sales District Desc (M)   Unnamed: 5  year  month  \\\n",
       "181                      0                         1     2791.66  2017      1   \n",
       "182                      0                         1     5512.37  2017      1   \n",
       "183                      0                         1        0.00  2017      1   \n",
       "184                      0                         4        0.00  2017      1   \n",
       "185                      0                         4        0.00  2017      1   \n",
       "\n",
       "     Aluminium Loops  Atlas  Civil  Distribution Connectors  \\\n",
       "181                0      0      0                        0   \n",
       "182                0      0      0                        0   \n",
       "183                0      0      0                        0   \n",
       "184                0      0      0                        0   \n",
       "185                0      0      0                        0   \n",
       "\n",
       "     Distribution Insulators ...  Transmission Insulators  URD Accessories  \\\n",
       "181                        0 ...                        0                1   \n",
       "182                        0 ...                        0                1   \n",
       "183                        0 ...                        0                1   \n",
       "184                        0 ...                        0                1   \n",
       "185                        0 ...                        0                1   \n",
       "\n",
       "     URD Arresters  Utility Anchors  1  A  B  C  D  P  \n",
       "181              0                0  0  1  0  0  0  0  \n",
       "182              0                0  0  0  1  0  0  0  \n",
       "183              0                0  0  0  0  0  1  0  \n",
       "184              0                0  0  1  0  0  0  0  \n",
       "185              0                0  0  0  1  0  0  0  \n",
       "\n",
       "[5 rows x 24 columns]"
      ]
     },
     "execution_count": 211,
     "metadata": {},
     "output_type": "execute_result"
    }
   ],
   "source": [
    "df2.head()"
   ]
  },
  {
   "cell_type": "code",
   "execution_count": null,
   "metadata": {},
   "outputs": [],
   "source": []
  }
 ],
 "metadata": {
  "kernelspec": {
   "display_name": "Python 3",
   "language": "python",
   "name": "python3"
  },
  "language_info": {
   "codemirror_mode": {
    "name": "ipython",
    "version": 3
   },
   "file_extension": ".py",
   "mimetype": "text/x-python",
   "name": "python",
   "nbconvert_exporter": "python",
   "pygments_lexer": "ipython3",
   "version": "3.7.2"
  }
 },
 "nbformat": 4,
 "nbformat_minor": 2
}
