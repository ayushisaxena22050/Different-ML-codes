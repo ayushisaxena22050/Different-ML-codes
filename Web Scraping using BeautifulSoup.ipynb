{
 "cells": [
  {
   "cell_type": "code",
   "execution_count": 6,
   "metadata": {},
   "outputs": [],
   "source": [
    "import requests\n",
    "import bs4\n",
    "import pandas as pd\n",
    "import numpy as np"
   ]
  },
  {
   "cell_type": "code",
   "execution_count": 46,
   "metadata": {},
   "outputs": [],
   "source": [
    "res=requests.get(\"https://www.metalbulletin.com/SearchResults.aspx#?term=rebar&onlyCurrent\")"
   ]
  },
  {
   "cell_type": "code",
   "execution_count": 47,
   "metadata": {},
   "outputs": [],
   "source": [
    "type(res)\n",
    "result=res.text"
   ]
  },
  {
   "cell_type": "code",
   "execution_count": 49,
   "metadata": {},
   "outputs": [
    {
     "data": {
      "text/plain": [
       "bs4.BeautifulSoup"
      ]
     },
     "execution_count": 49,
     "metadata": {},
     "output_type": "execute_result"
    }
   ],
   "source": [
    "soup1=bs4.BeautifulSoup(result,\"lxml\")\n",
    "type(soup1)"
   ]
  },
  {
   "cell_type": "code",
   "execution_count": null,
   "metadata": {},
   "outputs": [],
   "source": [
    "<span class=\"headline-intro ng-binding\" ng-bind-html=\"article|resultContent\"><p>Eastern China’s Shagang has increased the prices for its long steel products for orders booked in the first 20 days of February.</p></span>"
   ]
  },
  {
   "cell_type": "code",
   "execution_count": 50,
   "metadata": {},
   "outputs": [],
   "source": [
    "data = soup1.findAll('span',attrs={'class':'headline-intro ng-binding','ng-bind-html':'article|resultContent'})\n",
    "# for div in data:\n",
    "#     links = div.findAll('a')\n",
    "#     for a in links:\n",
    "#         tab=a['href']"
   ]
  },
  {
   "cell_type": "code",
   "execution_count": 51,
   "metadata": {},
   "outputs": [
    {
     "data": {
      "text/plain": [
       "[]"
      ]
     },
     "execution_count": 51,
     "metadata": {},
     "output_type": "execute_result"
    }
   ],
   "source": [
    "data"
   ]
  },
  {
   "cell_type": "code",
   "execution_count": null,
   "metadata": {},
   "outputs": [],
   "source": [
    "for sentence in soup1.select(\"#articleText p\"):"
   ]
  },
  {
   "cell_type": "code",
   "execution_count": null,
   "metadata": {},
   "outputs": [],
   "source": []
  },
  {
   "cell_type": "code",
   "execution_count": 52,
   "metadata": {},
   "outputs": [],
   "source": [
    "for hit in soup1.find('div'):\n",
    "    #for elem in hit.findAll('span'):\n",
    "    print(hit)\n",
    "#         for el in elem.findAll('p'):\n",
    "#             print(el)"
   ]
  },
  {
   "cell_type": "code",
   "execution_count": 60,
   "metadata": {},
   "outputs": [
    {
     "name": "stdout",
     "output_type": "stream",
     "text": [
      "<span class=\"headline-intro\" ng-bind-html=\"article|resultContent\"></span>\n"
     ]
    }
   ],
   "source": [
    "for i in soup1.findAll('div',attrs={'class':'headline'}):\n",
    "    for j in i.findAll('span', attrs={'ng-bind-html':'article|resultContent'}):\n",
    "        print(j)"
   ]
  },
  {
   "cell_type": "code",
   "execution_count": null,
   "metadata": {},
   "outputs": [],
   "source": [
    "for elem in soup1.select()"
   ]
  },
  {
   "cell_type": "code",
   "execution_count": 43,
   "metadata": {},
   "outputs": [],
   "source": [
    "elem=pd.DataFrame(elem)"
   ]
  },
  {
   "cell_type": "code",
   "execution_count": 44,
   "metadata": {},
   "outputs": [
    {
     "data": {
      "text/html": [
       "<div>\n",
       "<style scoped>\n",
       "    .dataframe tbody tr th:only-of-type {\n",
       "        vertical-align: middle;\n",
       "    }\n",
       "\n",
       "    .dataframe tbody tr th {\n",
       "        vertical-align: top;\n",
       "    }\n",
       "\n",
       "    .dataframe thead th {\n",
       "        text-align: right;\n",
       "    }\n",
       "</style>\n",
       "<table border=\"1\" class=\"dataframe\">\n",
       "  <thead>\n",
       "    <tr style=\"text-align: right;\">\n",
       "      <th></th>\n",
       "      <th>0</th>\n",
       "    </tr>\n",
       "  </thead>\n",
       "  <tbody>\n",
       "    <tr>\n",
       "      <th>0</th>\n",
       "      <td>/Article/3856211/base-metals/LIVE-FUTURES-REPO...</td>\n",
       "    </tr>\n",
       "    <tr>\n",
       "      <th>1</th>\n",
       "      <td>/Article/3856191/base-metals/GLOBAL-COPPER-WRA...</td>\n",
       "    </tr>\n",
       "    <tr>\n",
       "      <th>2</th>\n",
       "      <td>/Article/3856171/base-metals/METALS-MORNING-VI...</td>\n",
       "    </tr>\n",
       "    <tr>\n",
       "      <th>3</th>\n",
       "      <td>/Article/3855644/Ores-and-alloys/BATTERY-RAW-M...</td>\n",
       "    </tr>\n",
       "    <tr>\n",
       "      <th>4</th>\n",
       "      <td>/Article/3854597/Ores-and-alloys/BATTERY-RAW-M...</td>\n",
       "    </tr>\n",
       "    <tr>\n",
       "      <th>5</th>\n",
       "      <td>/Article/3856036/Raw-materials/GLOBAL-CHROME-W...</td>\n",
       "    </tr>\n",
       "    <tr>\n",
       "      <th>6</th>\n",
       "      <td>/Article/3856025/Raw-materials/GLOBAL-MANGANES...</td>\n",
       "    </tr>\n",
       "    <tr>\n",
       "      <th>7</th>\n",
       "      <td>/Article/3855794/Raw-materials/Zinc-concentrat...</td>\n",
       "    </tr>\n",
       "    <tr>\n",
       "      <th>8</th>\n",
       "      <td>/Article/3855404/Minor-metals/2019-PREVIEW-Thr...</td>\n",
       "    </tr>\n",
       "    <tr>\n",
       "      <th>9</th>\n",
       "      <td>/Article/3856017/Minor-metals/Fanya-indium-auc...</td>\n",
       "    </tr>\n",
       "    <tr>\n",
       "      <th>10</th>\n",
       "      <td>/Article/3856191/Scrap-and-secondary/GLOBAL-CO...</td>\n",
       "    </tr>\n",
       "    <tr>\n",
       "      <th>11</th>\n",
       "      <td>/Article/3855982/Scrap-and-secondary/2019-PREV...</td>\n",
       "    </tr>\n",
       "    <tr>\n",
       "      <th>12</th>\n",
       "      <td>/Article/3856079/Scrap-and-secondary/DAILY-SCR...</td>\n",
       "    </tr>\n",
       "    <tr>\n",
       "      <th>13</th>\n",
       "      <td>/Article/3856171/Precious-metals/METALS-MORNIN...</td>\n",
       "    </tr>\n",
       "    <tr>\n",
       "      <th>14</th>\n",
       "      <td>/Article/3856115/Precious-metals/INTERVIEW-Pos...</td>\n",
       "    </tr>\n",
       "    <tr>\n",
       "      <th>15</th>\n",
       "      <td>/Article/3856077/Precious-metals/LIVE-FUTURES-...</td>\n",
       "    </tr>\n",
       "    <tr>\n",
       "      <th>16</th>\n",
       "      <td>/Article/3856139/battery-raw-materials/COMMENT...</td>\n",
       "    </tr>\n",
       "    <tr>\n",
       "      <th>17</th>\n",
       "      <td>/Article/3856081/battery-raw-materials/PRICING...</td>\n",
       "    </tr>\n",
       "    <tr>\n",
       "      <th>18</th>\n",
       "      <td>/Article/3852093/battery-raw-materials/Trade-l...</td>\n",
       "    </tr>\n",
       "    <tr>\n",
       "      <th>19</th>\n",
       "      <td>/Article/3856173/flat-products/CHINA-HRC-Price...</td>\n",
       "    </tr>\n",
       "    <tr>\n",
       "      <th>20</th>\n",
       "      <td>/Article/3856161/flat-products/China-AM-Iron-o...</td>\n",
       "    </tr>\n",
       "    <tr>\n",
       "      <th>21</th>\n",
       "      <td>/Article/3856071/flat-products/RUSSIA-FLAT-STE...</td>\n",
       "    </tr>\n",
       "    <tr>\n",
       "      <th>22</th>\n",
       "      <td>/Article/3856170/long-products/CHINA-REBAR-Pri...</td>\n",
       "    </tr>\n",
       "    <tr>\n",
       "      <th>23</th>\n",
       "      <td>/Article/3856155/long-products/Long-Steel-Prod...</td>\n",
       "    </tr>\n",
       "    <tr>\n",
       "      <th>24</th>\n",
       "      <td>/Article/3856161/long-products/China-AM-Iron-o...</td>\n",
       "    </tr>\n",
       "    <tr>\n",
       "      <th>25</th>\n",
       "      <td>/Article/3856173/steel-raw-materials/CHINA-HRC...</td>\n",
       "    </tr>\n",
       "    <tr>\n",
       "      <th>26</th>\n",
       "      <td>/Article/3856164/steel-raw-materials/Iron-ore-...</td>\n",
       "    </tr>\n",
       "    <tr>\n",
       "      <th>27</th>\n",
       "      <td>/Article/3855982/steel-raw-materials/2019-PREV...</td>\n",
       "    </tr>\n",
       "    <tr>\n",
       "      <th>28</th>\n",
       "      <td>/Article/3856170/Semi-finished-products/CHINA-...</td>\n",
       "    </tr>\n",
       "    <tr>\n",
       "      <th>29</th>\n",
       "      <td>/Article/3855982/Semi-finished-products/2019-P...</td>\n",
       "    </tr>\n",
       "    <tr>\n",
       "      <th>...</th>\n",
       "      <td>...</td>\n",
       "    </tr>\n",
       "    <tr>\n",
       "      <th>45</th>\n",
       "      <td>/Article/3856197/Latest-news/COKING-COAL-DAILY...</td>\n",
       "    </tr>\n",
       "    <tr>\n",
       "      <th>46</th>\n",
       "      <td>/Article/3856135/Daily-briefs/IN-CASE-YOU-MISS...</td>\n",
       "    </tr>\n",
       "    <tr>\n",
       "      <th>47</th>\n",
       "      <td>/Article/3855967/Daily-briefs/IN-CASE-YOU-MISS...</td>\n",
       "    </tr>\n",
       "    <tr>\n",
       "      <th>48</th>\n",
       "      <td>/Article/3855715/Daily-briefs/IN-CASE-YOU-MISS...</td>\n",
       "    </tr>\n",
       "    <tr>\n",
       "      <th>49</th>\n",
       "      <td>/Article/3850953/Weekly-briefs/NON-FERROUS-WEE...</td>\n",
       "    </tr>\n",
       "    <tr>\n",
       "      <th>50</th>\n",
       "      <td>/Article/3848301/Weekly-briefs/STEEL-WEEK-IN-B...</td>\n",
       "    </tr>\n",
       "    <tr>\n",
       "      <th>51</th>\n",
       "      <td>/Article/3848298/Weekly-briefs/NON-FERROUS-WEE...</td>\n",
       "    </tr>\n",
       "    <tr>\n",
       "      <th>52</th>\n",
       "      <td>/Article/3847184/Weekly-briefs/NON-FERROUS-WEE...</td>\n",
       "    </tr>\n",
       "    <tr>\n",
       "      <th>53</th>\n",
       "      <td>/Article/3855332/Scrap-and-secondary/COMMENT-U...</td>\n",
       "    </tr>\n",
       "    <tr>\n",
       "      <th>54</th>\n",
       "      <td>/Article/3850445/Scrap-and-secondary/HOTTER-ON...</td>\n",
       "    </tr>\n",
       "    <tr>\n",
       "      <th>55</th>\n",
       "      <td>/Article/3849028/Scrap-and-secondary/HOTTER-ON...</td>\n",
       "    </tr>\n",
       "    <tr>\n",
       "      <th>56</th>\n",
       "      <td>/Article/3855933/Hotline-and-Comment/PEOPLE-MO...</td>\n",
       "    </tr>\n",
       "    <tr>\n",
       "      <th>57</th>\n",
       "      <td>/Article/3855529/Hotline-and-Comment/PEOPLE-MO...</td>\n",
       "    </tr>\n",
       "    <tr>\n",
       "      <th>58</th>\n",
       "      <td>/Article/3855355/Hotline-and-Comment/PEOPLE-MO...</td>\n",
       "    </tr>\n",
       "    <tr>\n",
       "      <th>59</th>\n",
       "      <td>/Article/3855982/in-depth/2019-PREVIEW-Asias-b...</td>\n",
       "    </tr>\n",
       "    <tr>\n",
       "      <th>60</th>\n",
       "      <td>/Article/3855404/in-depth/2019-PREVIEW-Three-t...</td>\n",
       "    </tr>\n",
       "    <tr>\n",
       "      <th>61</th>\n",
       "      <td>/Article/3856121/in-depth/FORECAST-Market-expe...</td>\n",
       "    </tr>\n",
       "    <tr>\n",
       "      <th>62</th>\n",
       "      <td>/Article/3856211/Exchange-news-and-prices/LIVE...</td>\n",
       "    </tr>\n",
       "    <tr>\n",
       "      <th>63</th>\n",
       "      <td>/Article/3856173/Exchange-news-and-prices/CHIN...</td>\n",
       "    </tr>\n",
       "    <tr>\n",
       "      <th>64</th>\n",
       "      <td>/Article/3856197/Exchange-news-and-prices/COKI...</td>\n",
       "    </tr>\n",
       "    <tr>\n",
       "      <th>65</th>\n",
       "      <td>/Article/3790690/Scrap-and-secondary/Bullish-f...</td>\n",
       "    </tr>\n",
       "    <tr>\n",
       "      <th>66</th>\n",
       "      <td>/Article/3800977/Scrap-and-secondary/Indias-Ov...</td>\n",
       "    </tr>\n",
       "    <tr>\n",
       "      <th>67</th>\n",
       "      <td>/Article/3794840/Scrap-and-secondary/Steelmake...</td>\n",
       "    </tr>\n",
       "    <tr>\n",
       "      <th>68</th>\n",
       "      <td>/Article/3793304/Scrap-and-secondary/Ilva-and-...</td>\n",
       "    </tr>\n",
       "    <tr>\n",
       "      <th>69</th>\n",
       "      <td>/Article/3792472/Scrap-and-secondary/Modest-ch...</td>\n",
       "    </tr>\n",
       "    <tr>\n",
       "      <th>70</th>\n",
       "      <td>/Article/3835141/Scrap-and-secondary/No-stoppi...</td>\n",
       "    </tr>\n",
       "    <tr>\n",
       "      <th>71</th>\n",
       "      <td>/Article/3846532/Scrap-and-secondary/Higher-gr...</td>\n",
       "    </tr>\n",
       "    <tr>\n",
       "      <th>72</th>\n",
       "      <td>/Article/3842357/Scrap-and-secondary/BIR-LONDO...</td>\n",
       "    </tr>\n",
       "    <tr>\n",
       "      <th>73</th>\n",
       "      <td>/Article/3815214/Scrap-and-secondary/Is-there-...</td>\n",
       "    </tr>\n",
       "    <tr>\n",
       "      <th>74</th>\n",
       "      <td>/Article/3788395/Scrap-and-secondary/Is-Chinas...</td>\n",
       "    </tr>\n",
       "  </tbody>\n",
       "</table>\n",
       "<p>75 rows × 1 columns</p>\n",
       "</div>"
      ],
      "text/plain": [
       "                                                    0\n",
       "0   /Article/3856211/base-metals/LIVE-FUTURES-REPO...\n",
       "1   /Article/3856191/base-metals/GLOBAL-COPPER-WRA...\n",
       "2   /Article/3856171/base-metals/METALS-MORNING-VI...\n",
       "3   /Article/3855644/Ores-and-alloys/BATTERY-RAW-M...\n",
       "4   /Article/3854597/Ores-and-alloys/BATTERY-RAW-M...\n",
       "5   /Article/3856036/Raw-materials/GLOBAL-CHROME-W...\n",
       "6   /Article/3856025/Raw-materials/GLOBAL-MANGANES...\n",
       "7   /Article/3855794/Raw-materials/Zinc-concentrat...\n",
       "8   /Article/3855404/Minor-metals/2019-PREVIEW-Thr...\n",
       "9   /Article/3856017/Minor-metals/Fanya-indium-auc...\n",
       "10  /Article/3856191/Scrap-and-secondary/GLOBAL-CO...\n",
       "11  /Article/3855982/Scrap-and-secondary/2019-PREV...\n",
       "12  /Article/3856079/Scrap-and-secondary/DAILY-SCR...\n",
       "13  /Article/3856171/Precious-metals/METALS-MORNIN...\n",
       "14  /Article/3856115/Precious-metals/INTERVIEW-Pos...\n",
       "15  /Article/3856077/Precious-metals/LIVE-FUTURES-...\n",
       "16  /Article/3856139/battery-raw-materials/COMMENT...\n",
       "17  /Article/3856081/battery-raw-materials/PRICING...\n",
       "18  /Article/3852093/battery-raw-materials/Trade-l...\n",
       "19  /Article/3856173/flat-products/CHINA-HRC-Price...\n",
       "20  /Article/3856161/flat-products/China-AM-Iron-o...\n",
       "21  /Article/3856071/flat-products/RUSSIA-FLAT-STE...\n",
       "22  /Article/3856170/long-products/CHINA-REBAR-Pri...\n",
       "23  /Article/3856155/long-products/Long-Steel-Prod...\n",
       "24  /Article/3856161/long-products/China-AM-Iron-o...\n",
       "25  /Article/3856173/steel-raw-materials/CHINA-HRC...\n",
       "26  /Article/3856164/steel-raw-materials/Iron-ore-...\n",
       "27  /Article/3855982/steel-raw-materials/2019-PREV...\n",
       "28  /Article/3856170/Semi-finished-products/CHINA-...\n",
       "29  /Article/3855982/Semi-finished-products/2019-P...\n",
       "..                                                ...\n",
       "45  /Article/3856197/Latest-news/COKING-COAL-DAILY...\n",
       "46  /Article/3856135/Daily-briefs/IN-CASE-YOU-MISS...\n",
       "47  /Article/3855967/Daily-briefs/IN-CASE-YOU-MISS...\n",
       "48  /Article/3855715/Daily-briefs/IN-CASE-YOU-MISS...\n",
       "49  /Article/3850953/Weekly-briefs/NON-FERROUS-WEE...\n",
       "50  /Article/3848301/Weekly-briefs/STEEL-WEEK-IN-B...\n",
       "51  /Article/3848298/Weekly-briefs/NON-FERROUS-WEE...\n",
       "52  /Article/3847184/Weekly-briefs/NON-FERROUS-WEE...\n",
       "53  /Article/3855332/Scrap-and-secondary/COMMENT-U...\n",
       "54  /Article/3850445/Scrap-and-secondary/HOTTER-ON...\n",
       "55  /Article/3849028/Scrap-and-secondary/HOTTER-ON...\n",
       "56  /Article/3855933/Hotline-and-Comment/PEOPLE-MO...\n",
       "57  /Article/3855529/Hotline-and-Comment/PEOPLE-MO...\n",
       "58  /Article/3855355/Hotline-and-Comment/PEOPLE-MO...\n",
       "59  /Article/3855982/in-depth/2019-PREVIEW-Asias-b...\n",
       "60  /Article/3855404/in-depth/2019-PREVIEW-Three-t...\n",
       "61  /Article/3856121/in-depth/FORECAST-Market-expe...\n",
       "62  /Article/3856211/Exchange-news-and-prices/LIVE...\n",
       "63  /Article/3856173/Exchange-news-and-prices/CHIN...\n",
       "64  /Article/3856197/Exchange-news-and-prices/COKI...\n",
       "65  /Article/3790690/Scrap-and-secondary/Bullish-f...\n",
       "66  /Article/3800977/Scrap-and-secondary/Indias-Ov...\n",
       "67  /Article/3794840/Scrap-and-secondary/Steelmake...\n",
       "68  /Article/3793304/Scrap-and-secondary/Ilva-and-...\n",
       "69  /Article/3792472/Scrap-and-secondary/Modest-ch...\n",
       "70  /Article/3835141/Scrap-and-secondary/No-stoppi...\n",
       "71  /Article/3846532/Scrap-and-secondary/Higher-gr...\n",
       "72  /Article/3842357/Scrap-and-secondary/BIR-LONDO...\n",
       "73  /Article/3815214/Scrap-and-secondary/Is-there-...\n",
       "74  /Article/3788395/Scrap-and-secondary/Is-Chinas...\n",
       "\n",
       "[75 rows x 1 columns]"
      ]
     },
     "execution_count": 44,
     "metadata": {},
     "output_type": "execute_result"
    }
   ],
   "source": [
    "elem"
   ]
  },
  {
   "cell_type": "code",
   "execution_count": null,
   "metadata": {},
   "outputs": [],
   "source": [
    "<span class=\"headline-intro ng-binding\" "
   ]
  },
  {
   "cell_type": "code",
   "execution_count": null,
   "metadata": {},
   "outputs": [],
   "source": [
    "r=soup1.findAll('div',attrs={'class':\"headline\"})[0]\n",
    "p=r.find('a')\n",
    "p.get('href')"
   ]
  },
  {
   "cell_type": "code",
   "execution_count": null,
   "metadata": {},
   "outputs": [],
   "source": [
    "r.findAll('span',attrs={'class':'headline-intro ng-binding'})"
   ]
  },
  {
   "cell_type": "code",
   "execution_count": null,
   "metadata": {},
   "outputs": [],
   "source": [
    "r.find_all('span')"
   ]
  },
  {
   "cell_type": "code",
   "execution_count": null,
   "metadata": {},
   "outputs": [],
   "source": [
    "soup1.findAll('span',)"
   ]
  },
  {
   "cell_type": "code",
   "execution_count": null,
   "metadata": {},
   "outputs": [],
   "source": [
    "soup1.find('div', attrs={'class':'headline-intro ng-binding'})"
   ]
  },
  {
   "cell_type": "code",
   "execution_count": null,
   "metadata": {},
   "outputs": [],
   "source": [
    "html.findAll('p')"
   ]
  },
  {
   "cell_type": "code",
   "execution_count": null,
   "metadata": {},
   "outputs": [],
   "source": [
    "soup1.find_all('span',class_=\"headline-intro ng-binding\")"
   ]
  },
  {
   "cell_type": "code",
   "execution_count": null,
   "metadata": {},
   "outputs": [],
   "source": [
    "soup1.findAll('ng-class')"
   ]
  },
  {
   "cell_type": "code",
   "execution_count": null,
   "metadata": {},
   "outputs": [],
   "source": [
    "for links in soup1.find_all('div','headline'):\n",
    "    for link in soup1.find_all('p'):\n",
    "        print(link)"
   ]
  },
  {
   "cell_type": "code",
   "execution_count": null,
   "metadata": {},
   "outputs": [],
   "source": [
    "hi=soup1.select()\n",
    "hi"
   ]
  },
  {
   "cell_type": "code",
   "execution_count": null,
   "metadata": {},
   "outputs": [],
   "source": [
    "soup1.select('.job turnstileLink')"
   ]
  },
  {
   "cell_type": "code",
   "execution_count": null,
   "metadata": {},
   "outputs": [],
   "source": [
    "hi[0].getText()"
   ]
  },
  {
   "cell_type": "code",
   "execution_count": null,
   "metadata": {},
   "outputs": [],
   "source": [
    "res1=requests.get(\"https://en.wikipedia.org/wiki/Machine_learning\")"
   ]
  },
  {
   "cell_type": "code",
   "execution_count": null,
   "metadata": {},
   "outputs": [],
   "source": [
    "type(res1)"
   ]
  },
  {
   "cell_type": "code",
   "execution_count": null,
   "metadata": {},
   "outputs": [],
   "source": [
    "soup=bs4.BeautifulSoup(res1.text,'lxml')"
   ]
  },
  {
   "cell_type": "code",
   "execution_count": null,
   "metadata": {},
   "outputs": [],
   "source": [
    "soup.select('.mw-headline')"
   ]
  },
  {
   "cell_type": "code",
   "execution_count": null,
   "metadata": {},
   "outputs": [],
   "source": [
    "for i in soup.select('.mw-headline'):\n",
    "    print(i.text)"
   ]
  },
  {
   "cell_type": "code",
   "execution_count": null,
   "metadata": {},
   "outputs": [],
   "source": [
    "soup.select('.toctext')"
   ]
  },
  {
   "cell_type": "code",
   "execution_count": null,
   "metadata": {},
   "outputs": [],
   "source": [
    "for i in soup.select('.toctext'):\n",
    "    print(i.text)"
   ]
  },
  {
   "cell_type": "code",
   "execution_count": null,
   "metadata": {},
   "outputs": [],
   "source": [
    "for i in soup.select('#toc'):\n",
    "        print(i.text)"
   ]
  },
  {
   "cell_type": "code",
   "execution_count": null,
   "metadata": {},
   "outputs": [],
   "source": [
    "for link in soup1.findAll('a',href=True):\n",
    "    if link['href'].startswith(('#','/','j')):\n",
    "        print(\"\")\n",
    "    else:\n",
    "        print(link['href'])"
   ]
  },
  {
   "cell_type": "code",
   "execution_count": null,
   "metadata": {},
   "outputs": [],
   "source": [
    "print(soup.get_text())"
   ]
  },
  {
   "cell_type": "code",
   "execution_count": null,
   "metadata": {},
   "outputs": [],
   "source": [
    "head_tag = soup.head\n",
    "#head_tag\n",
    "# <head><title>The Dormouse's story</title></head>\n",
    "\n",
    "# head_tag.contents\n",
    "# [<title>The Dormouse's story</title>]\n",
    "\n",
    "title_tag = head_tag.contents[0]\n",
    "# title_tag\n",
    "# # <title>The Dormouse's story</title>\n",
    "# title_tag.contents\n",
    "# # [u'The Dormouse's story']"
   ]
  },
  {
   "cell_type": "code",
   "execution_count": null,
   "metadata": {},
   "outputs": [],
   "source": [
    "title_tag.contents"
   ]
  },
  {
   "cell_type": "code",
   "execution_count": null,
   "metadata": {},
   "outputs": [],
   "source": [
    "res2=requests.get('https://www.indeed.co.in/jobs?q=&l=Jaipur%2C+Rajasthan')"
   ]
  },
  {
   "cell_type": "code",
   "execution_count": null,
   "metadata": {},
   "outputs": [],
   "source": [
    "soup2=bs4.BeautifulSoup(res2.content,'html.parser')\n"
   ]
  },
  {
   "cell_type": "code",
   "execution_count": null,
   "metadata": {},
   "outputs": [],
   "source": [
    "jobT = soup2.findAll('a', {'class':'jobtitle turnstileLink' })\n",
    "for el in jobT:\n",
    "    print(el.get('title'))"
   ]
  },
  {
   "cell_type": "code",
   "execution_count": null,
   "metadata": {},
   "outputs": [],
   "source": [
    "# for cl in soup2.findAll('div'):\n",
    "#     print(cl[0])\n",
    "t=soup2.findAll('div',class_='jobtitle turnstileLink')\n",
    "t   "
   ]
  },
  {
   "cell_type": "code",
   "execution_count": null,
   "metadata": {},
   "outputs": [],
   "source": []
  }
 ],
 "metadata": {
  "kernelspec": {
   "display_name": "Python 3",
   "language": "python",
   "name": "python3"
  },
  "language_info": {
   "codemirror_mode": {
    "name": "ipython",
    "version": 3
   },
   "file_extension": ".py",
   "mimetype": "text/x-python",
   "name": "python",
   "nbconvert_exporter": "python",
   "pygments_lexer": "ipython3",
   "version": "3.7.0"
  }
 },
 "nbformat": 4,
 "nbformat_minor": 2
}
