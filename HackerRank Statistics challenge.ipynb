{
 "cells": [
  {
   "cell_type": "code",
   "execution_count": 2,
   "metadata": {},
   "outputs": [],
   "source": [
    "#calculating mean ,mode and median\n",
    "N=int(input())\n",
    "arr=list(map(int, input().strip().split()))\n",
    "mean=sum(arr)/N\n",
    "arr.sort()\n",
    "m=int(N/2)\n",
    "n=int(N/2-1)\n",
    "if (N%2==0):\n",
    "    median=(arr[m]+arr[n])/2\n",
    "else:\n",
    "    median=arr[m]\n",
    "x = list(set(arr))\n",
    "x.sort()\n",
    "cnt = 0\n",
    "num = 0\n",
    "for i in range(len(x)):\n",
    "    if arr.count(x[i]) > cnt:\n",
    "        cnt = arr.count(x[i])\n",
    "        num = x[i]\n",
    "mode=num\n",
    "print(mean)\n",
    "print(median)\n",
    "print(mode)"
   ]
  },
  {
   "cell_type": "code",
   "execution_count": 52,
   "metadata": {},
   "outputs": [
    {
     "name": "stdout",
     "output_type": "stream",
     "text": [
      "4\n",
      "1 2 3 4\n",
      "2\n",
      "2\n",
      "4\n"
     ]
    }
   ],
   "source": [
    "#calculating Q1,Q2,Q3\n",
    "Num=int(input())\n",
    "l=list(map(int, input().strip().split()))\n",
    "def median(l):\n",
    "    l.sort()\n",
    "    N=len(l)\n",
    "    m=int(N/2)\n",
    "    n=int(N/2-1)\n",
    "    o=int(N/2+1)\n",
    "    if (N%2==0):\n",
    "        median=int((l[m]+l[n])/2)\n",
    "    else:\n",
    "        median=l[m]\n",
    "    return median\n",
    "def Q1Q2(l):\n",
    "    l.sort()\n",
    "    N=len(l)\n",
    "    m=int(N/2)\n",
    "    n=int(N/2-1)\n",
    "    o=int(N/2+1)\n",
    "    if (N%2==0):\n",
    "        Q1=median(l[:m])\n",
    "        Q2=median(l[m:])\n",
    "    else:\n",
    "        Q1=median(l[:m])\n",
    "        Q2=median(l[o:])\n",
    "    return Q1,Q2\n",
    "Q2=median(l)\n",
    "Q1=Q1Q2(l)[0]\n",
    "Q3=Q1Q2(l)[1]\n",
    "print(Q1)\n",
    "print(Q2)\n",
    "print(Q3)"
   ]
  },
  {
   "cell_type": "code",
   "execution_count": 107,
   "metadata": {},
   "outputs": [
    {
     "name": "stdout",
     "output_type": "stream",
     "text": [
      "5\n",
      "10 40 30 50 20\n",
      "1 2 3 4 5\n"
     ]
    },
    {
     "data": {
      "text/plain": [
       "32.0"
      ]
     },
     "execution_count": 107,
     "metadata": {},
     "output_type": "execute_result"
    }
   ],
   "source": [
    "#calculating weighted mean\n",
    "Num=int(input())\n",
    "X=list(map(int, input().strip().split()))\n",
    "W=list(map(int, input().strip().split()))\n",
    "def weights(X,W):\n",
    "    elem=[X*W for X,W in zip(X,W)]\n",
    "    weights=round(sum(elem)/sum(W),1)\n",
    "    return weights\n",
    "weights(X,W)"
   ]
  },
  {
   "cell_type": "code",
   "execution_count": null,
   "metadata": {},
   "outputs": [],
   "source": [
    "#calculating standard deviation\n",
    "import math\n",
    "Num=int(input())\n",
    "X=list(map(int, input().strip().split()))\n",
    "def standard_deviation(l):\n",
    "    mean=sum(l)/len(l)\n",
    "    elem=[(l[i]-mean)**2 for i in range(len(l))]\n",
    "    sd=round(math.sqrt((sum(elem))/len(l)),1)\n",
    "    return sd\n",
    "print(standard_deviation(X))\n"
   ]
  },
  {
   "cell_type": "code",
   "execution_count": 194,
   "metadata": {},
   "outputs": [
    {
     "name": "stdout",
     "output_type": "stream",
     "text": [
      "6\n",
      "6 12 8 10 20 16\n",
      "5 4 3 2 1 5\n"
     ]
    },
    {
     "data": {
      "text/plain": [
       "9.0"
      ]
     },
     "execution_count": 194,
     "metadata": {},
     "output_type": "execute_result"
    }
   ],
   "source": [
    "#calculating IQR\n",
    "Num=int(input())\n",
    "X=list(map(int, input().strip().split()))\n",
    "W=list(map(int, input().strip().split()))\n",
    "def median(l):\n",
    "    l.sort()\n",
    "    N=len(l)\n",
    "    m=int(N/2)\n",
    "    n=int(N/2-1)\n",
    "    o=int(N/2+1)\n",
    "    if (N%2==0):\n",
    "        median=int((l[m]+l[n])/2)\n",
    "    else:\n",
    "        median=l[m]\n",
    "    return median\n",
    "def Q1Q2(l):\n",
    "    l.sort()\n",
    "    N=len(l)\n",
    "    m=int(N/2)\n",
    "    n=int(N/2-1)\n",
    "    o=int(N/2+1)\n",
    "    if (N%2==0):\n",
    "        Q1=median(l[:m])\n",
    "        Q2=median(l[m:])\n",
    "    else:\n",
    "        Q1=median(l[:m])\n",
    "        Q2=median(l[o:])\n",
    "    return Q1,Q2\n",
    "def tab(x,y):\n",
    "    z=[]\n",
    "    for i in range(len(x)):\n",
    "        while(y[i]!=0):\n",
    "            z.append(x[i])\n",
    "            y[i]=y[i]-1\n",
    "    Q2=median(z)\n",
    "    Q1=Q1Q2(z)[0]\n",
    "    Q3=Q1Q2(z)[1]\n",
    "    iqr=round(float(Q3-Q1),1)\n",
    "    return iqr\n",
    "tab(X,W) "
   ]
  },
  {
   "cell_type": "code",
   "execution_count": 29,
   "metadata": {},
   "outputs": [
    {
     "name": "stdout",
     "output_type": "stream",
     "text": [
      "0.693\n"
     ]
    }
   ],
   "source": [
    "#Binomial Distribution 1\n",
    "def factorial(N):\n",
    "    fact=1\n",
    "    for i in range(1,N+1):\n",
    "        fact=fact*i\n",
    "    return fact\n",
    "def binomial(n,x,p):\n",
    "    bino=(factorial(n)/(factorial(x)*factorial(n-x)))*(p**x)*((1-p)**(n-x))\n",
    "    return bino\n",
    "p,n,x=1.09/2.09 ,6,0\n",
    "for i in range(3,7):\n",
    "    x+=binomial(n,i,p)\n",
    "print(\"%.3f\" %x)\n"
   ]
  },
  {
   "cell_type": "code",
   "execution_count": 37,
   "metadata": {},
   "outputs": [
    {
     "name": "stdout",
     "output_type": "stream",
     "text": [
      "0.891\n",
      "0.342\n"
     ]
    }
   ],
   "source": [
    "#Binomial Distribution 2:\n",
    "def factorial(N):\n",
    "    fact=1\n",
    "    for i in range(1,N+1):\n",
    "        fact=fact*i\n",
    "    return fact\n",
    "def binomial(n,x,p):\n",
    "    bino=(factorial(n)/(factorial(x)*factorial(n-x)))*(p**x)*((1-p)**(n-x))\n",
    "    return bino\n",
    "Atleast,Atmost,n,p=0,0,10,0.12\n",
    "for i in range(3):\n",
    "    Atmost+=binomial(n,i,p)\n",
    "for i in range(2,11):\n",
    "    Atleast+=binomial(n,i,p)\n",
    "print(\"%.3f\" %Atmost)\n",
    "print(\"%.3f\" %Atleast)"
   ]
  },
  {
   "cell_type": "code",
   "execution_count": 39,
   "metadata": {},
   "outputs": [
    {
     "name": "stdout",
     "output_type": "stream",
     "text": [
      "0.066\n"
     ]
    }
   ],
   "source": [
    "#Geometric Distrbution 1\n",
    "def geometric(n,p):\n",
    "    geom=p*((1-p)**(n-1))\n",
    "    return geom\n",
    "p,n=1/3,5\n",
    "g=geometric(n,p)\n",
    "print(\"%.3f\" %g)"
   ]
  },
  {
   "cell_type": "code",
   "execution_count": 44,
   "metadata": {},
   "outputs": [
    {
     "name": "stdout",
     "output_type": "stream",
     "text": [
      "0.868\n"
     ]
    }
   ],
   "source": [
    "#Geometric Distribution 2\n",
    "def geometric(n,p):\n",
    "    bino=p*((1-p)**(n-1))\n",
    "    return bino\n",
    "p,b=1/3,0\n",
    "for i in range(1,6):\n",
    "    b+=geometric(i,p)\n",
    "print(\"%.3f\" %b)"
   ]
  },
  {
   "cell_type": "code",
   "execution_count": 5,
   "metadata": {},
   "outputs": [
    {
     "name": "stdout",
     "output_type": "stream",
     "text": [
      "0.067\n"
     ]
    }
   ],
   "source": [
    "#Poisson Distribution1\n",
    "from math import e\n",
    "def factorial(N):\n",
    "    fact=1\n",
    "    for i in range(1,N+1):\n",
    "        fact=fact*i\n",
    "    return fact\n",
    "def Poisson(l,k):\n",
    "    pois=(l**k)*(e**(-l))/factorial(k)\n",
    "    return pois\n",
    "l,k=2.5,5\n",
    "prob=Poisson(l,k)\n",
    "print(\"%.3f\"%prob)"
   ]
  },
  {
   "cell_type": "code",
   "execution_count": 7,
   "metadata": {},
   "outputs": [
    {
     "name": "stdout",
     "output_type": "stream",
     "text": [
      "0.88 1.55\n",
      "226.176\n",
      "286.1\n"
     ]
    }
   ],
   "source": [
    "#Poisson Distribution 2(special case of poisson Distribution where probability is equal to mean +(mean**2):\n",
    "averageX, averageY = [float(num) for num in input().split(\" \")]\n",
    "\n",
    "# Cost\n",
    "CostX = 160 + 40*(averageX + averageX**2)\n",
    "CostY = 128 + 40*(averageY + averageY**2)\n",
    "\n",
    "print(round(CostX, 3))\n",
    "print(round(CostY, 3))"
   ]
  },
  {
   "cell_type": "code",
   "execution_count": 1,
   "metadata": {},
   "outputs": [
    {
     "name": "stdout",
     "output_type": "stream",
     "text": [
      "5\n",
      "9 6 7 8 5\n"
     ]
    }
   ],
   "source": [
    "N=int(input())\n",
    "arr=list(map(int, input().strip().split()))"
   ]
  },
  {
   "cell_type": "code",
   "execution_count": 2,
   "metadata": {},
   "outputs": [
    {
     "data": {
      "text/plain": [
       "[9, 6, 7, 8, 5]"
      ]
     },
     "execution_count": 2,
     "metadata": {},
     "output_type": "execute_result"
    }
   ],
   "source": [
    "arr"
   ]
  },
  {
   "cell_type": "code",
   "execution_count": 3,
   "metadata": {},
   "outputs": [
    {
     "data": {
      "text/plain": [
       "8"
      ]
     },
     "execution_count": 3,
     "metadata": {},
     "output_type": "execute_result"
    }
   ],
   "source": [
    "arr[-2]"
   ]
  },
  {
   "cell_type": "code",
   "execution_count": 5,
   "metadata": {},
   "outputs": [],
   "source": [
    "arr1=[]"
   ]
  },
  {
   "cell_type": "code",
   "execution_count": 10,
   "metadata": {},
   "outputs": [],
   "source": [
    "for i in range(len(arr) -1):\n",
    "    if arr[i]>arr[i+1]:\n",
    "        arr[i+1]=arr[i]\n",
    "    else:\n",
    "        break\n",
    "        "
   ]
  },
  {
   "cell_type": "code",
   "execution_count": 11,
   "metadata": {},
   "outputs": [
    {
     "data": {
      "text/plain": [
       "[9, 9, 9, 9, 9]"
      ]
     },
     "execution_count": 11,
     "metadata": {},
     "output_type": "execute_result"
    }
   ],
   "source": [
    "arr"
   ]
  },
  {
   "cell_type": "code",
   "execution_count": null,
   "metadata": {},
   "outputs": [],
   "source": []
  }
 ],
 "metadata": {
  "kernelspec": {
   "display_name": "Python 3",
   "language": "python",
   "name": "python3"
  },
  "language_info": {
   "codemirror_mode": {
    "name": "ipython",
    "version": 3
   },
   "file_extension": ".py",
   "mimetype": "text/x-python",
   "name": "python",
   "nbconvert_exporter": "python",
   "pygments_lexer": "ipython3",
   "version": "3.7.0"
  }
 },
 "nbformat": 4,
 "nbformat_minor": 2
}
