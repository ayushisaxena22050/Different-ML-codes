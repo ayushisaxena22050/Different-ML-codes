{
 "cells": [
  {
   "cell_type": "markdown",
   "metadata": {},
   "source": [
    "## You are given three integers  and  representing the dimensions of a cuboid along with an integer . You have to print a list of all possible coordinates given by  on a 3D grid where the sum of is not equal to . "
   ]
  },
  {
   "cell_type": "code",
   "execution_count": 1,
   "metadata": {},
   "outputs": [
    {
     "name": "stdout",
     "output_type": "stream",
     "text": [
      "1\n",
      "1\n",
      "1\n",
      "2\n"
     ]
    },
    {
     "data": {
      "text/plain": [
       "[[0, 0, 0], [0, 0, 1], [0, 1, 0], [1, 0, 0], [1, 1, 1]]"
      ]
     },
     "execution_count": 1,
     "metadata": {},
     "output_type": "execute_result"
    }
   ],
   "source": [
    "x = int (input()) \n",
    "y = int (input()) \n",
    "z = int(input())\n",
    "n = int (input()) \n",
    "[[ i, j, k] for i in range( x + 1) for j in range( y + 1) for k in range( z + 1) if ( ( i + j + k ) != n )]"
   ]
  },
  {
   "cell_type": "markdown",
   "metadata": {},
   "source": [
    "## Given the participants' score sheet for your University Sports Day, you are required to find the runner-up score. You are given scores. Store them in a list and find the score of the runner-up."
   ]
  },
  {
   "cell_type": "code",
   "execution_count": 36,
   "metadata": {},
   "outputs": [
    {
     "name": "stdout",
     "output_type": "stream",
     "text": [
      "5\n",
      "2 3 6 6 5\n"
     ]
    }
   ],
   "source": [
    "n =int(input())\n",
    "arr=list(map(int, input().strip().split()))\n",
    "\n",
    "arr1=[]\n",
    "\n",
    "for i in arr:\n",
    "    if i not in arr1:\n",
    "        arr1.append(i)\n",
    "arr1.sort()\n",
    "arr1[-2]"
   ]
  },
  {
   "cell_type": "markdown",
   "metadata": {},
   "source": [
    "## Given the names and grades for each student in a Physics class of  students, store them in a nested list and print the name(s) of any student(s) having the second highest grade."
   ]
  },
  {
   "cell_type": "code",
   "execution_count": 242,
   "metadata": {},
   "outputs": [
    {
     "name": "stdout",
     "output_type": "stream",
     "text": [
      "4\n",
      "e\n",
      "45\n",
      "g\n",
      "34.9\n",
      "t\n",
      "87\n",
      "s\n",
      "99\n"
     ]
    }
   ],
   "source": [
    "n =int(input())\n",
    "arr1=[]\n",
    "for i in range(n):\n",
    "    name=str(input())\n",
    "    num=float(input())\n",
    "    arr=[name,num]\n",
    "    arr1.append(arr)"
   ]
  },
  {
   "cell_type": "code",
   "execution_count": 243,
   "metadata": {},
   "outputs": [],
   "source": [
    "def sort1(arr1):\n",
    "    for i in range(len(arr1)-1):\n",
    "        for j in range(len(arr1)-1):\n",
    "            temp=0\n",
    "            if(arr1[j][1]>arr1[j+1][1]):\n",
    "                temp=arr1[j]\n",
    "                arr1[j]=arr1[j+1]\n",
    "                arr1[j+1]=temp\n",
    "    return arr1"
   ]
  },
  {
   "cell_type": "code",
   "execution_count": 248,
   "metadata": {},
   "outputs": [
    {
     "data": {
      "text/plain": [
       "[['g', 34.9], ['e', 45.0], ['t', 87.0], ['s', 99.0]]"
      ]
     },
     "execution_count": 248,
     "metadata": {},
     "output_type": "execute_result"
    }
   ],
   "source": [
    "arr1=sort1(arr1)\n",
    "arr1"
   ]
  },
  {
   "cell_type": "code",
   "execution_count": 245,
   "metadata": {},
   "outputs": [],
   "source": [
    "def highest(arr1):\n",
    "    arr2=[]\n",
    "    arr3=[]\n",
    "    arr2.append(arr1[-1][0])\n",
    "    for i in range(len(arr1)-1,0,-1):\n",
    "        if (arr1[-1][1]==arr1[i-1][1]):\n",
    "                if i not in arr2:\n",
    "                    arr2.append(arr1[i-1][0])\n",
    "    return arr2"
   ]
  },
  {
   "cell_type": "code",
   "execution_count": 246,
   "metadata": {},
   "outputs": [],
   "source": [
    "def all_list(arr1):\n",
    "    arr2=[]\n",
    "    arr3=[]\n",
    "    arr2.append(arr1[-1][0])\n",
    "    for i in range(len(arr1)-1,0,-1):\n",
    "        if (arr1[-1][1]!=arr1[i-1][1]):\n",
    "            arr3.append(arr1[i-1])\n",
    "    sort1(arr3)\n",
    "    return arr3"
   ]
  },
  {
   "cell_type": "code",
   "execution_count": 247,
   "metadata": {},
   "outputs": [
    {
     "name": "stdout",
     "output_type": "stream",
     "text": [
      "t\n"
     ]
    }
   ],
   "source": [
    "arr3=all_list(arr1)\n",
    "arr4=highest(arr3)\n",
    "for i in arr4:\n",
    "    print(i)"
   ]
  },
  {
   "cell_type": "markdown",
   "metadata": {},
   "source": [
    "## Given the names and grades for each student in a Physics class of  students, store them in a nested list and print the name(s) of any student(s) having the second lowest grade."
   ]
  },
  {
   "cell_type": "code",
   "execution_count": 348,
   "metadata": {},
   "outputs": [
    {
     "name": "stdout",
     "output_type": "stream",
     "text": [
      "4\n",
      "ty\n",
      "5\n",
      "fg\n",
      "66\n",
      "bn\n",
      "5\n",
      "bc\n",
      "66\n"
     ]
    }
   ],
   "source": [
    "n =int(input())\n",
    "arr1=[]\n",
    "for i in range(n):\n",
    "    name=str(input())\n",
    "    num=float(input())\n",
    "    arr=[name,num]\n",
    "    arr1.append(arr)"
   ]
  },
  {
   "cell_type": "code",
   "execution_count": 349,
   "metadata": {},
   "outputs": [
    {
     "name": "stdout",
     "output_type": "stream",
     "text": [
      "bc\n",
      "fg\n"
     ]
    }
   ],
   "source": [
    "def sort1(arr1):\n",
    "    for i in range(len(arr1)-1):\n",
    "        for j in range(len(arr1)-1):\n",
    "            temp=0\n",
    "            if(arr1[j][1]>arr1[j+1][1]):\n",
    "                temp=arr1[j]\n",
    "                arr1[j]=arr1[j+1]\n",
    "                arr1[j+1]=temp\n",
    "    return arr1\n",
    "arr1=sort1(arr1)\n",
    "X=arr1[0][1]\n",
    "arr1.remove(arr1[0])\n",
    "for j in range(0,2):\n",
    "    if j==0:\n",
    "        for i in range(len(arr1)):\n",
    "            if (arr1[0][1]==X):\n",
    "                arr1.remove(arr1[0])\n",
    "    else:\n",
    "        if j==1:\n",
    "            Y=arr1[0][1]\n",
    "            arr2=[]\n",
    "            for i in range(len(arr1)):\n",
    "                    if (arr1[i][1]==Y):\n",
    "                        arr2.append(arr1[i])\n",
    "\n",
    "arr4=[]\n",
    "for i in arr2:\n",
    "    arr4.append(i[0])\n",
    "arr4.sort()\n",
    "for i in arr4:\n",
    "    print(i)   "
   ]
  },
  {
   "cell_type": "markdown",
   "metadata": {},
   "source": [
    " ## You have a record of  students. Each record contains the student's name, and their percent marks in Maths, Physics and Chemistry. The marks can be floating values. The user enters some integer  followed by the names and marks for students. You are required to save the record in a dictionary data type. The user then enters a student's name. Output the average percentage marks obtained by that student, correct to two decimal places"
   ]
  },
  {
   "cell_type": "code",
   "execution_count": 409,
   "metadata": {},
   "outputs": [
    {
     "name": "stdout",
     "output_type": "stream",
     "text": [
      "2\n",
      "sita 3 4 5\n",
      "rita 5 6 7\n",
      "rita\n"
     ]
    }
   ],
   "source": [
    "n = int(input())\n",
    "student_marks = {}\n",
    "for _ in range(n):\n",
    "    name, *line = input().split()\n",
    "    scores = list(map(float, line))\n",
    "    student_marks[name] = scores\n",
    "query_name = input()"
   ]
  },
  {
   "cell_type": "code",
   "execution_count": 410,
   "metadata": {},
   "outputs": [
    {
     "name": "stdout",
     "output_type": "stream",
     "text": [
      "6.00\n"
     ]
    }
   ],
   "source": [
    "k=0.0\n",
    "for j in student_marks[query_name]: \n",
    "        k=k+j\n",
    "k=k/3\n",
    "print(format(k, '.2f'))"
   ]
  },
  {
   "cell_type": "markdown",
   "metadata": {},
   "source": [
    "## You are given  words. Some words may repeat. For each word, output its number of occurrences. The output order should correspond with the input order of appearance of the word. See the sample input/output for clarification.Note: Each input line ends with a \"\\n\" character."
   ]
  },
  {
   "cell_type": "code",
   "execution_count": 609,
   "metadata": {},
   "outputs": [
    {
     "data": {
      "text/plain": [
       "{'r'}"
      ]
     },
     "execution_count": 609,
     "metadata": {},
     "output_type": "execute_result"
    }
   ],
   "source": [
    "arr1"
   ]
  },
  {
   "cell_type": "code",
   "execution_count": 20,
   "metadata": {},
   "outputs": [
    {
     "name": "stdout",
     "output_type": "stream",
     "text": [
      "4\n",
      "abc\n",
      "ced\n",
      "abc\n",
      "qqq\n"
     ]
    }
   ],
   "source": [
    "n =int(input())\n",
    "arr1=set()\n",
    "count=0\n",
    "cnt={}\n",
    "\n",
    "for i in range(n):\n",
    "    name=str(input())\n",
    "    if name in arr1:\n",
    "        cnt[name]=cnt[name]+1\n",
    "    else:\n",
    "        cnt[name]=1\n",
    "        arr1.add(name)\n",
    "print(len(cnt))\n",
    "for i in cnt:\n",
    "    print(cnt[i],end=' ',flush=True)"
   ]
  },
  {
   "cell_type": "markdown",
   "metadata": {},
   "source": [
    "Consider a list (list = []). You can perform the following commands:\n",
    "\n",
    "insert i e: Insert integer  at position .\n",
    "print: Print the list.\n",
    "remove e: Delete the first occurrence of integer .\n",
    "append e: Insert integer  at the end of the list.\n",
    "sort: Sort the list.\n",
    "pop: Pop the last element from the list.\n",
    "reverse: Reverse the list.\n",
    "Initialize your list and read in the value of  followed by  lines of commands where each command will be of the  types listed above. Iterate through each command in order and perform the corresponding operation on your list."
   ]
  },
  {
   "cell_type": "code",
   "execution_count": 4,
   "metadata": {},
   "outputs": [
    {
     "name": "stdout",
     "output_type": "stream",
     "text": [
      "4\n"
     ]
    }
   ],
   "source": [
    "n=int(input())"
   ]
  },
  {
   "cell_type": "code",
   "execution_count": null,
   "metadata": {},
   "outputs": [],
   "source": []
  }
 ],
 "metadata": {
  "kernelspec": {
   "display_name": "Python 3",
   "language": "python",
   "name": "python3"
  },
  "language_info": {
   "codemirror_mode": {
    "name": "ipython",
    "version": 3
   },
   "file_extension": ".py",
   "mimetype": "text/x-python",
   "name": "python",
   "nbconvert_exporter": "python",
   "pygments_lexer": "ipython3",
   "version": "3.7.0"
  }
 },
 "nbformat": 4,
 "nbformat_minor": 2
}
